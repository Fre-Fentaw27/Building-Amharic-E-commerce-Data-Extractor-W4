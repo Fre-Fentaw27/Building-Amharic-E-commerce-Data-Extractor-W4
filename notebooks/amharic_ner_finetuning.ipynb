{
 "cells": [
  {
   "cell_type": "code",
   "execution_count": 5,
   "metadata": {
    "colab": {
     "base_uri": "https://localhost:8080/"
    },
    "executionInfo": {
     "elapsed": 71752,
     "status": "ok",
     "timestamp": 1750663626851,
     "user": {
      "displayName": "firezewd fentaw",
      "userId": "08469033568295705019"
     },
     "user_tz": -180
    },
    "id": "AW6B2YoSrdXP",
    "outputId": "566e206b-ec00-4d45-cf1c-a11654e62931"
   },
   "outputs": [
    {
     "name": "stdout",
     "output_type": "stream",
     "text": [
      "Drive not mounted, so nothing to flush and unmount.\n",
      "Mounted at /content/drive\n"
     ]
    }
   ],
   "source": [
    "# Step 1: Set Up Environment in Google Colab\n",
    "from google.colab import drive\n",
    "drive.flush_and_unmount()\n",
    "drive.mount('/content/drive', force_remount=True)"
   ]
  },
  {
   "cell_type": "code",
   "execution_count": 7,
   "metadata": {
    "colab": {
     "base_uri": "https://localhost:8080/"
    },
    "executionInfo": {
     "elapsed": 95926,
     "status": "ok",
     "timestamp": 1750663906991,
     "user": {
      "displayName": "firezewd fentaw",
      "userId": "08469033568295705019"
     },
     "user_tz": -180
    },
    "id": "HYNRb2pwsb7D",
    "outputId": "b7980148-bc4d-4e8f-ef68-34e128cd61f8"
   },
   "outputs": [
    {
     "name": "stdout",
     "output_type": "stream",
     "text": [
      "Requirement already satisfied: transformers in /usr/local/lib/python3.11/dist-packages (4.52.4)\n",
      "Requirement already satisfied: datasets in /usr/local/lib/python3.11/dist-packages (2.14.4)\n",
      "Collecting seqeval\n",
      "  Downloading seqeval-1.2.2.tar.gz (43 kB)\n",
      "\u001b[?25l     \u001b[90m━━━━━━━━━━━━━━━━━━━━━━━━━━━━━━━━━━━━━━━━\u001b[0m \u001b[32m0.0/43.6 kB\u001b[0m \u001b[31m?\u001b[0m eta \u001b[36m-:--:--\u001b[0m\r\u001b[2K     \u001b[90m━━━━━━━━━━━━━━━━━━━━━━━━━━━━━━━━━━━━━━━━\u001b[0m \u001b[32m43.6/43.6 kB\u001b[0m \u001b[31m3.3 MB/s\u001b[0m eta \u001b[36m0:00:00\u001b[0m\n",
      "\u001b[?25h  Preparing metadata (setup.py) ... \u001b[?25l\u001b[?25hdone\n",
      "Requirement already satisfied: pandas in /usr/local/lib/python3.11/dist-packages (2.2.2)\n",
      "Requirement already satisfied: numpy in /usr/local/lib/python3.11/dist-packages (2.0.2)\n",
      "Requirement already satisfied: torch in /usr/local/lib/python3.11/dist-packages (2.6.0+cu124)\n",
      "Requirement already satisfied: filelock in /usr/local/lib/python3.11/dist-packages (from transformers) (3.18.0)\n",
      "Requirement already satisfied: huggingface-hub<1.0,>=0.30.0 in /usr/local/lib/python3.11/dist-packages (from transformers) (0.33.0)\n",
      "Requirement already satisfied: packaging>=20.0 in /usr/local/lib/python3.11/dist-packages (from transformers) (24.2)\n",
      "Requirement already satisfied: pyyaml>=5.1 in /usr/local/lib/python3.11/dist-packages (from transformers) (6.0.2)\n",
      "Requirement already satisfied: regex!=2019.12.17 in /usr/local/lib/python3.11/dist-packages (from transformers) (2024.11.6)\n",
      "Requirement already satisfied: requests in /usr/local/lib/python3.11/dist-packages (from transformers) (2.32.3)\n",
      "Requirement already satisfied: tokenizers<0.22,>=0.21 in /usr/local/lib/python3.11/dist-packages (from transformers) (0.21.1)\n",
      "Requirement already satisfied: safetensors>=0.4.3 in /usr/local/lib/python3.11/dist-packages (from transformers) (0.5.3)\n",
      "Requirement already satisfied: tqdm>=4.27 in /usr/local/lib/python3.11/dist-packages (from transformers) (4.67.1)\n",
      "Requirement already satisfied: pyarrow>=8.0.0 in /usr/local/lib/python3.11/dist-packages (from datasets) (18.1.0)\n",
      "Requirement already satisfied: dill<0.3.8,>=0.3.0 in /usr/local/lib/python3.11/dist-packages (from datasets) (0.3.7)\n",
      "Requirement already satisfied: xxhash in /usr/local/lib/python3.11/dist-packages (from datasets) (3.5.0)\n",
      "Requirement already satisfied: multiprocess in /usr/local/lib/python3.11/dist-packages (from datasets) (0.70.15)\n",
      "Requirement already satisfied: fsspec>=2021.11.1 in /usr/local/lib/python3.11/dist-packages (from fsspec[http]>=2021.11.1->datasets) (2025.3.2)\n",
      "Requirement already satisfied: aiohttp in /usr/local/lib/python3.11/dist-packages (from datasets) (3.11.15)\n",
      "Requirement already satisfied: scikit-learn>=0.21.3 in /usr/local/lib/python3.11/dist-packages (from seqeval) (1.6.1)\n",
      "Requirement already satisfied: python-dateutil>=2.8.2 in /usr/local/lib/python3.11/dist-packages (from pandas) (2.9.0.post0)\n",
      "Requirement already satisfied: pytz>=2020.1 in /usr/local/lib/python3.11/dist-packages (from pandas) (2025.2)\n",
      "Requirement already satisfied: tzdata>=2022.7 in /usr/local/lib/python3.11/dist-packages (from pandas) (2025.2)\n",
      "Requirement already satisfied: typing-extensions>=4.10.0 in /usr/local/lib/python3.11/dist-packages (from torch) (4.14.0)\n",
      "Requirement already satisfied: networkx in /usr/local/lib/python3.11/dist-packages (from torch) (3.5)\n",
      "Requirement already satisfied: jinja2 in /usr/local/lib/python3.11/dist-packages (from torch) (3.1.6)\n",
      "Collecting nvidia-cuda-nvrtc-cu12==12.4.127 (from torch)\n",
      "  Downloading nvidia_cuda_nvrtc_cu12-12.4.127-py3-none-manylinux2014_x86_64.whl.metadata (1.5 kB)\n",
      "Collecting nvidia-cuda-runtime-cu12==12.4.127 (from torch)\n",
      "  Downloading nvidia_cuda_runtime_cu12-12.4.127-py3-none-manylinux2014_x86_64.whl.metadata (1.5 kB)\n",
      "Collecting nvidia-cuda-cupti-cu12==12.4.127 (from torch)\n",
      "  Downloading nvidia_cuda_cupti_cu12-12.4.127-py3-none-manylinux2014_x86_64.whl.metadata (1.6 kB)\n",
      "Collecting nvidia-cudnn-cu12==9.1.0.70 (from torch)\n",
      "  Downloading nvidia_cudnn_cu12-9.1.0.70-py3-none-manylinux2014_x86_64.whl.metadata (1.6 kB)\n",
      "Collecting nvidia-cublas-cu12==12.4.5.8 (from torch)\n",
      "  Downloading nvidia_cublas_cu12-12.4.5.8-py3-none-manylinux2014_x86_64.whl.metadata (1.5 kB)\n",
      "Collecting nvidia-cufft-cu12==11.2.1.3 (from torch)\n",
      "  Downloading nvidia_cufft_cu12-11.2.1.3-py3-none-manylinux2014_x86_64.whl.metadata (1.5 kB)\n",
      "Collecting nvidia-curand-cu12==10.3.5.147 (from torch)\n",
      "  Downloading nvidia_curand_cu12-10.3.5.147-py3-none-manylinux2014_x86_64.whl.metadata (1.5 kB)\n",
      "Collecting nvidia-cusolver-cu12==11.6.1.9 (from torch)\n",
      "  Downloading nvidia_cusolver_cu12-11.6.1.9-py3-none-manylinux2014_x86_64.whl.metadata (1.6 kB)\n",
      "Collecting nvidia-cusparse-cu12==12.3.1.170 (from torch)\n",
      "  Downloading nvidia_cusparse_cu12-12.3.1.170-py3-none-manylinux2014_x86_64.whl.metadata (1.6 kB)\n",
      "Requirement already satisfied: nvidia-cusparselt-cu12==0.6.2 in /usr/local/lib/python3.11/dist-packages (from torch) (0.6.2)\n",
      "Requirement already satisfied: nvidia-nccl-cu12==2.21.5 in /usr/local/lib/python3.11/dist-packages (from torch) (2.21.5)\n",
      "Requirement already satisfied: nvidia-nvtx-cu12==12.4.127 in /usr/local/lib/python3.11/dist-packages (from torch) (12.4.127)\n",
      "Collecting nvidia-nvjitlink-cu12==12.4.127 (from torch)\n",
      "  Downloading nvidia_nvjitlink_cu12-12.4.127-py3-none-manylinux2014_x86_64.whl.metadata (1.5 kB)\n",
      "Requirement already satisfied: triton==3.2.0 in /usr/local/lib/python3.11/dist-packages (from torch) (3.2.0)\n",
      "Requirement already satisfied: sympy==1.13.1 in /usr/local/lib/python3.11/dist-packages (from torch) (1.13.1)\n",
      "Requirement already satisfied: mpmath<1.4,>=1.1.0 in /usr/local/lib/python3.11/dist-packages (from sympy==1.13.1->torch) (1.3.0)\n",
      "Requirement already satisfied: aiohappyeyeballs>=2.3.0 in /usr/local/lib/python3.11/dist-packages (from aiohttp->datasets) (2.6.1)\n",
      "Requirement already satisfied: aiosignal>=1.1.2 in /usr/local/lib/python3.11/dist-packages (from aiohttp->datasets) (1.3.2)\n",
      "Requirement already satisfied: attrs>=17.3.0 in /usr/local/lib/python3.11/dist-packages (from aiohttp->datasets) (25.3.0)\n",
      "Requirement already satisfied: frozenlist>=1.1.1 in /usr/local/lib/python3.11/dist-packages (from aiohttp->datasets) (1.7.0)\n",
      "Requirement already satisfied: multidict<7.0,>=4.5 in /usr/local/lib/python3.11/dist-packages (from aiohttp->datasets) (6.4.4)\n",
      "Requirement already satisfied: propcache>=0.2.0 in /usr/local/lib/python3.11/dist-packages (from aiohttp->datasets) (0.3.2)\n",
      "Requirement already satisfied: yarl<2.0,>=1.17.0 in /usr/local/lib/python3.11/dist-packages (from aiohttp->datasets) (1.20.1)\n",
      "Requirement already satisfied: hf-xet<2.0.0,>=1.1.2 in /usr/local/lib/python3.11/dist-packages (from huggingface-hub<1.0,>=0.30.0->transformers) (1.1.3)\n",
      "Requirement already satisfied: six>=1.5 in /usr/local/lib/python3.11/dist-packages (from python-dateutil>=2.8.2->pandas) (1.17.0)\n",
      "Requirement already satisfied: charset-normalizer<4,>=2 in /usr/local/lib/python3.11/dist-packages (from requests->transformers) (3.4.2)\n",
      "Requirement already satisfied: idna<4,>=2.5 in /usr/local/lib/python3.11/dist-packages (from requests->transformers) (3.10)\n",
      "Requirement already satisfied: urllib3<3,>=1.21.1 in /usr/local/lib/python3.11/dist-packages (from requests->transformers) (2.4.0)\n",
      "Requirement already satisfied: certifi>=2017.4.17 in /usr/local/lib/python3.11/dist-packages (from requests->transformers) (2025.6.15)\n",
      "Requirement already satisfied: scipy>=1.6.0 in /usr/local/lib/python3.11/dist-packages (from scikit-learn>=0.21.3->seqeval) (1.15.3)\n",
      "Requirement already satisfied: joblib>=1.2.0 in /usr/local/lib/python3.11/dist-packages (from scikit-learn>=0.21.3->seqeval) (1.5.1)\n",
      "Requirement already satisfied: threadpoolctl>=3.1.0 in /usr/local/lib/python3.11/dist-packages (from scikit-learn>=0.21.3->seqeval) (3.6.0)\n",
      "Requirement already satisfied: MarkupSafe>=2.0 in /usr/local/lib/python3.11/dist-packages (from jinja2->torch) (3.0.2)\n",
      "Downloading nvidia_cublas_cu12-12.4.5.8-py3-none-manylinux2014_x86_64.whl (363.4 MB)\n",
      "\u001b[2K   \u001b[90m━━━━━━━━━━━━━━━━━━━━━━━━━━━━━━━━━━━━━━━━\u001b[0m \u001b[32m363.4/363.4 MB\u001b[0m \u001b[31m4.6 MB/s\u001b[0m eta \u001b[36m0:00:00\u001b[0m\n",
      "\u001b[?25hDownloading nvidia_cuda_cupti_cu12-12.4.127-py3-none-manylinux2014_x86_64.whl (13.8 MB)\n",
      "\u001b[2K   \u001b[90m━━━━━━━━━━━━━━━━━━━━━━━━━━━━━━━━━━━━━━━━\u001b[0m \u001b[32m13.8/13.8 MB\u001b[0m \u001b[31m95.7 MB/s\u001b[0m eta \u001b[36m0:00:00\u001b[0m\n",
      "\u001b[?25hDownloading nvidia_cuda_nvrtc_cu12-12.4.127-py3-none-manylinux2014_x86_64.whl (24.6 MB)\n",
      "\u001b[2K   \u001b[90m━━━━━━━━━━━━━━━━━━━━━━━━━━━━━━━━━━━━━━━━\u001b[0m \u001b[32m24.6/24.6 MB\u001b[0m \u001b[31m71.2 MB/s\u001b[0m eta \u001b[36m0:00:00\u001b[0m\n",
      "\u001b[?25hDownloading nvidia_cuda_runtime_cu12-12.4.127-py3-none-manylinux2014_x86_64.whl (883 kB)\n",
      "\u001b[2K   \u001b[90m━━━━━━━━━━━━━━━━━━━━━━━━━━━━━━━━━━━━━━━━\u001b[0m \u001b[32m883.7/883.7 kB\u001b[0m \u001b[31m47.9 MB/s\u001b[0m eta \u001b[36m0:00:00\u001b[0m\n",
      "\u001b[?25hDownloading nvidia_cudnn_cu12-9.1.0.70-py3-none-manylinux2014_x86_64.whl (664.8 MB)\n",
      "\u001b[2K   \u001b[90m━━━━━━━━━━━━━━━━━━━━━━━━━━━━━━━━━━━━━━━━\u001b[0m \u001b[32m664.8/664.8 MB\u001b[0m \u001b[31m2.6 MB/s\u001b[0m eta \u001b[36m0:00:00\u001b[0m\n",
      "\u001b[?25hDownloading nvidia_cufft_cu12-11.2.1.3-py3-none-manylinux2014_x86_64.whl (211.5 MB)\n",
      "\u001b[2K   \u001b[90m━━━━━━━━━━━━━━━━━━━━━━━━━━━━━━━━━━━━━━━━\u001b[0m \u001b[32m211.5/211.5 MB\u001b[0m \u001b[31m5.7 MB/s\u001b[0m eta \u001b[36m0:00:00\u001b[0m\n",
      "\u001b[?25hDownloading nvidia_curand_cu12-10.3.5.147-py3-none-manylinux2014_x86_64.whl (56.3 MB)\n",
      "\u001b[2K   \u001b[90m━━━━━━━━━━━━━━━━━━━━━━━━━━━━━━━━━━━━━━━━\u001b[0m \u001b[32m56.3/56.3 MB\u001b[0m \u001b[31m13.4 MB/s\u001b[0m eta \u001b[36m0:00:00\u001b[0m\n",
      "\u001b[?25hDownloading nvidia_cusolver_cu12-11.6.1.9-py3-none-manylinux2014_x86_64.whl (127.9 MB)\n",
      "\u001b[2K   \u001b[90m━━━━━━━━━━━━━━━━━━━━━━━━━━━━━━━━━━━━━━━━\u001b[0m \u001b[32m127.9/127.9 MB\u001b[0m \u001b[31m7.7 MB/s\u001b[0m eta \u001b[36m0:00:00\u001b[0m\n",
      "\u001b[?25hDownloading nvidia_cusparse_cu12-12.3.1.170-py3-none-manylinux2014_x86_64.whl (207.5 MB)\n",
      "\u001b[2K   \u001b[90m━━━━━━━━━━━━━━━━━━━━━━━━━━━━━━━━━━━━━━━━\u001b[0m \u001b[32m207.5/207.5 MB\u001b[0m \u001b[31m6.0 MB/s\u001b[0m eta \u001b[36m0:00:00\u001b[0m\n",
      "\u001b[?25hDownloading nvidia_nvjitlink_cu12-12.4.127-py3-none-manylinux2014_x86_64.whl (21.1 MB)\n",
      "\u001b[2K   \u001b[90m━━━━━━━━━━━━━━━━━━━━━━━━━━━━━━━━━━━━━━━━\u001b[0m \u001b[32m21.1/21.1 MB\u001b[0m \u001b[31m68.4 MB/s\u001b[0m eta \u001b[36m0:00:00\u001b[0m\n",
      "\u001b[?25hBuilding wheels for collected packages: seqeval\n",
      "  Building wheel for seqeval (setup.py) ... \u001b[?25l\u001b[?25hdone\n",
      "  Created wheel for seqeval: filename=seqeval-1.2.2-py3-none-any.whl size=16162 sha256=6fee92c8a70ec36c22bbbb8ba404a4ae87367c104bcd37001da97973ec869859\n",
      "  Stored in directory: /root/.cache/pip/wheels/bc/92/f0/243288f899c2eacdfa8c5f9aede4c71a9bad0ee26a01dc5ead\n",
      "Successfully built seqeval\n",
      "Installing collected packages: nvidia-nvjitlink-cu12, nvidia-curand-cu12, nvidia-cufft-cu12, nvidia-cuda-runtime-cu12, nvidia-cuda-nvrtc-cu12, nvidia-cuda-cupti-cu12, nvidia-cublas-cu12, nvidia-cusparse-cu12, nvidia-cudnn-cu12, seqeval, nvidia-cusolver-cu12\n",
      "  Attempting uninstall: nvidia-nvjitlink-cu12\n",
      "    Found existing installation: nvidia-nvjitlink-cu12 12.5.82\n",
      "    Uninstalling nvidia-nvjitlink-cu12-12.5.82:\n",
      "      Successfully uninstalled nvidia-nvjitlink-cu12-12.5.82\n",
      "  Attempting uninstall: nvidia-curand-cu12\n",
      "    Found existing installation: nvidia-curand-cu12 10.3.6.82\n",
      "    Uninstalling nvidia-curand-cu12-10.3.6.82:\n",
      "      Successfully uninstalled nvidia-curand-cu12-10.3.6.82\n",
      "  Attempting uninstall: nvidia-cufft-cu12\n",
      "    Found existing installation: nvidia-cufft-cu12 11.2.3.61\n",
      "    Uninstalling nvidia-cufft-cu12-11.2.3.61:\n",
      "      Successfully uninstalled nvidia-cufft-cu12-11.2.3.61\n",
      "  Attempting uninstall: nvidia-cuda-runtime-cu12\n",
      "    Found existing installation: nvidia-cuda-runtime-cu12 12.5.82\n",
      "    Uninstalling nvidia-cuda-runtime-cu12-12.5.82:\n",
      "      Successfully uninstalled nvidia-cuda-runtime-cu12-12.5.82\n",
      "  Attempting uninstall: nvidia-cuda-nvrtc-cu12\n",
      "    Found existing installation: nvidia-cuda-nvrtc-cu12 12.5.82\n",
      "    Uninstalling nvidia-cuda-nvrtc-cu12-12.5.82:\n",
      "      Successfully uninstalled nvidia-cuda-nvrtc-cu12-12.5.82\n",
      "  Attempting uninstall: nvidia-cuda-cupti-cu12\n",
      "    Found existing installation: nvidia-cuda-cupti-cu12 12.5.82\n",
      "    Uninstalling nvidia-cuda-cupti-cu12-12.5.82:\n",
      "      Successfully uninstalled nvidia-cuda-cupti-cu12-12.5.82\n",
      "  Attempting uninstall: nvidia-cublas-cu12\n",
      "    Found existing installation: nvidia-cublas-cu12 12.5.3.2\n",
      "    Uninstalling nvidia-cublas-cu12-12.5.3.2:\n",
      "      Successfully uninstalled nvidia-cublas-cu12-12.5.3.2\n",
      "  Attempting uninstall: nvidia-cusparse-cu12\n",
      "    Found existing installation: nvidia-cusparse-cu12 12.5.1.3\n",
      "    Uninstalling nvidia-cusparse-cu12-12.5.1.3:\n",
      "      Successfully uninstalled nvidia-cusparse-cu12-12.5.1.3\n",
      "  Attempting uninstall: nvidia-cudnn-cu12\n",
      "    Found existing installation: nvidia-cudnn-cu12 9.3.0.75\n",
      "    Uninstalling nvidia-cudnn-cu12-9.3.0.75:\n",
      "      Successfully uninstalled nvidia-cudnn-cu12-9.3.0.75\n",
      "  Attempting uninstall: nvidia-cusolver-cu12\n",
      "    Found existing installation: nvidia-cusolver-cu12 11.6.3.83\n",
      "    Uninstalling nvidia-cusolver-cu12-11.6.3.83:\n",
      "      Successfully uninstalled nvidia-cusolver-cu12-11.6.3.83\n",
      "Successfully installed nvidia-cublas-cu12-12.4.5.8 nvidia-cuda-cupti-cu12-12.4.127 nvidia-cuda-nvrtc-cu12-12.4.127 nvidia-cuda-runtime-cu12-12.4.127 nvidia-cudnn-cu12-9.1.0.70 nvidia-cufft-cu12-11.2.1.3 nvidia-curand-cu12-10.3.5.147 nvidia-cusolver-cu12-11.6.1.9 nvidia-cusparse-cu12-12.3.1.170 nvidia-nvjitlink-cu12-12.4.127 seqeval-1.2.2\n"
     ]
    }
   ],
   "source": [
    "!pip install transformers datasets seqeval pandas numpy torch"
   ]
  },
  {
   "cell_type": "code",
   "execution_count": 14,
   "metadata": {
    "colab": {
     "base_uri": "https://localhost:8080/"
    },
    "executionInfo": {
     "elapsed": 126,
     "status": "ok",
     "timestamp": 1750665043070,
     "user": {
      "displayName": "firezewd fentaw",
      "userId": "08469033568295705019"
     },
     "user_tz": -180
    },
    "id": "-T35R1i3tRRp",
    "outputId": "44af1cfd-8993-41d4-db88-dec8bd5ad4f4"
   },
   "outputs": [
    {
     "name": "stdout",
     "output_type": "stream",
     "text": [
      "DataFrame columns: Index(['words', 'labels'], dtype='object')\n",
      "\n",
      "First row:\n",
      "words     [3pcs, Bottle, Stopper, በማንኛውም, ጠርሙስ, ጫፍ, የሚገጠ...\n",
      "labels    [B-Product, I-Product, I-Product, O, O, O, O, ...\n",
      "Name: 0, dtype: object\n",
      "\n",
      "Tag distribution:\n",
      "[('O', 47234), ('I-Product', 174), ('I-LOC', 90), ('I-PRICE', 48), ('B-LOC', 30), ('B-Product', 28), ('B-PRICE', 28)]\n",
      "\n",
      "Unique tags: ['B-LOC', 'B-PRICE', 'B-Product', 'I-LOC', 'I-PRICE', 'I-Product', 'O']\n",
      "\n",
      "Dataset sample: {'words': ['3pcs', 'Bottle', 'Stopper', 'በማንኛውም', 'ጠርሙስ', 'ጫፍ', 'የሚገጠም', 'ለዘይት', 'እና', 'መሰል', 'ነገሮች', 'መቀነሻ', 'የሚሆን', 'በአግባቡ', 'እየመጠንን', 'ለመጠቀም', 'ተመራጭ', 'ዋጋ፦', '3ፍሬ', '400', 'ብር', 'ውስን', 'ፍሬ', 'ነው', 'ያለው', 'አድራሻ', 'መገናኛ_መሰረት_ደፋር_ሞል_ሁለተኛ_ፎቅ', 'ቢሮ', 'ቁ', 'S05S06', '0902660722', '0928460606', 'በTelegram', 'ለማዘዝ', 'ይጠቀሙ', 'zemencallcenter', 'zemenexpressadmin', 'ለተጨማሪ', 'ማብራሪያ', 'የቴሌግራም', 'ገፃችን', 'httpstelegrammezemenexpress'], 'labels': ['B-Product', 'I-Product', 'I-Product', 'O', 'O', 'O', 'O', 'O', 'O', 'O', 'O', 'O', 'O', 'O', 'O', 'O', 'O', 'B-PRICE', 'I-PRICE', 'I-PRICE', 'I-PRICE', 'O', 'O', 'O', 'O', 'O', 'B-LOC', 'I-LOC', 'I-LOC', 'I-LOC', 'O', 'O', 'O', 'O', 'O', 'O', 'O', 'O', 'O', 'O', 'O', 'O']}\n"
     ]
    }
   ],
   "source": [
    "# Step 3: Load and Prepare the Dataset\n",
    "import pandas as pd\n",
    "from datasets import Dataset\n",
    "from collections import Counter\n",
    "\n",
    "def read_conll_file(file_path):\n",
    "    \"\"\"Reads CONLL file with space-separated word label format\"\"\"\n",
    "    with open(file_path, 'r', encoding='utf-8') as f:\n",
    "        lines = f.readlines()\n",
    "\n",
    "    sentences = []\n",
    "    current_sentence = []\n",
    "\n",
    "    for line in lines:\n",
    "        line = line.strip()\n",
    "        if not line:  # Sentence boundary\n",
    "            if current_sentence:\n",
    "                sentences.append(current_sentence)\n",
    "                current_sentence = []\n",
    "        else:\n",
    "            parts = line.split()  # Split by whitespace\n",
    "            if len(parts) >= 2:  # word label format\n",
    "                word = ' '.join(parts[:-1])  # Handle cases with spaces in words\n",
    "                label = parts[-1]\n",
    "                current_sentence.append({'word': word, 'ner_tag': label})\n",
    "            else:\n",
    "                print(f\"Skipping malformed line: {line}\")\n",
    "\n",
    "    if current_sentence:  # Add last sentence\n",
    "        sentences.append(current_sentence)\n",
    "\n",
    "    return sentences\n",
    "\n",
    "# Load data\n",
    "conll_path = \"/content/drive/MyDrive/labeled_conll.txt\"\n",
    "sentences = read_conll_file(conll_path)\n",
    "\n",
    "# Convert to pandas DataFrame\n",
    "data = []\n",
    "for sent in sentences:\n",
    "    words = [token['word'] for token in sent]\n",
    "    labels = [token['ner_tag'] for token in sent]\n",
    "    data.append({'words': words, 'labels': labels})  # Changed column names\n",
    "\n",
    "df = pd.DataFrame(data)\n",
    "\n",
    "# Verify DataFrame\n",
    "print(\"DataFrame columns:\", df.columns)\n",
    "print(\"\\nFirst row:\")\n",
    "print(df.iloc[0])\n",
    "\n",
    "# Get unique tags\n",
    "all_tags = [tag for sublist in df['labels'] for tag in sublist]\n",
    "tag_counts = Counter(all_tags)\n",
    "print(\"\\nTag distribution:\")\n",
    "print(tag_counts.most_common())\n",
    "\n",
    "unique_tags = sorted(tag_counts.keys())\n",
    "tag2id = {tag: i for i, tag in enumerate(unique_tags)}\n",
    "id2tag = {i: tag for tag, i in tag2id.items()}\n",
    "\n",
    "print(\"\\nUnique tags:\", unique_tags)\n",
    "\n",
    "# Convert to HuggingFace Dataset\n",
    "dataset = Dataset.from_pandas(df)\n",
    "print(\"\\nDataset sample:\", dataset[0])"
   ]
  },
  {
   "cell_type": "code",
   "execution_count": 15,
   "metadata": {
    "colab": {
     "base_uri": "https://localhost:8080/",
     "height": 301,
     "referenced_widgets": [
      "fea7a243b91c4c4abff2ee1ddd29b1c1",
      "f3183aabc5e94ff39b59082eb29d0577",
      "42a787540b7f4cde8ee8f6544ceb0a1e",
      "3b3c72bcfb8e46fba2dfa0b2ea8af8ac",
      "432dde9063d04ee9a30ee5179e175512",
      "f070ddbe2094449caaff163b92984741",
      "381ceb5408d8475ab95ef844b362060c",
      "5cc2303fd42d458091fc67a9f30b4644",
      "b3ac6116286e495a9d6bdfe51e359fb8",
      "5957ab44f6b94b1195872356dede6e52",
      "2ccb478fa42f4682bdc423ffb245d7bc",
      "48a8a0cebc704fe690385fd5a2178d55",
      "8da95601cd4a43f9b42fe257be0ba681",
      "d9aa664f56124c788ceb1e2a490f1976",
      "2acf6a9ad3b6435d96cbc447eda661d5",
      "afb605a6abc7418e823af2f945f412f7",
      "53b8489755d44632ad0ffa0a40787825",
      "9cf6fbcea9d046d691e0416ea1b23f70",
      "592966e07d1f4d32acfe1c6569eed31d",
      "cdafda3466bc430bb976df5d2c74e592",
      "adf7831902984d8e991ac45f8f861fe8",
      "90750af16fe845c69e581898773ee489",
      "b316352346a6473eaa75baccbb3fb077",
      "679bf65920314c7795af6bb6b2216ccb",
      "9cf0ab8f006a4c66941767232f66bac9",
      "86ede9d3c4af4d93ae6147257ceb86a4",
      "c8f84f18e5fe477b9a937318d854e8bb",
      "c6d9e56d83b549d2bec84e3519c8af51",
      "a8638e903efd426995b59a5df1c36dc0",
      "5f3719d843f04046a84a7a6acbb71e50",
      "40ee9ddf0cce4a43bce5e80319c87b7d",
      "c06715861b9a41dcae7cfb1efa7ad856",
      "829652565c3643fcacc7e9b626e952b3",
      "cb627b0900f44414a75de92890d6f196",
      "01b53a151ceb4ab1875b903b51d66a07",
      "fbedb3e39ab04284b3bbdbdb3efc6198",
      "7584a8f7bd9a45c08c544f7fd6be0b19",
      "1b57388c61924914a5cf7cb26ff34398",
      "f214262913d14c8191dc50a679113640",
      "c37f0c9904b84bb5bd3a82eb15b48a50",
      "e4f22216096f43ec8323e100974a9dcf",
      "880114f9416448ebafccb0e5bed30e04",
      "376033591baf44eab28740e6181aaba8",
      "611c8ad371d34f0fa5477f35df30c2bd",
      "f13e5e6e8b0d4921ab8e06ab1f894e66",
      "df68c4266470453faffb8074b2d2f383",
      "0cd59c2f17f74c2f8122e8638f0ebafe",
      "92825c63ca2649aa9eab2490723af722",
      "58d31041d5164eb499cfd6a801d83f87",
      "f72eaf411d03466a8021c1b783ffdef1",
      "80cfd9c688534512b5dc31a68cca7ece",
      "4a845c69623143d6878d926d1d2be402",
      "f1c71d2145e64c1fbaa062fe2f068ab6",
      "c492528943dd4e99ac89735e63d1195c",
      "0f5d5a85c75c41e6849c8765f95e4516"
     ]
    },
    "executionInfo": {
     "elapsed": 8651,
     "status": "ok",
     "timestamp": 1750665329143,
     "user": {
      "displayName": "firezewd fentaw",
      "userId": "08469033568295705019"
     },
     "user_tz": -180
    },
    "id": "-5Sj1GgLyKRI",
    "outputId": "7460b49e-910a-4c7c-a03e-f64cb120e453"
   },
   "outputs": [
    {
     "name": "stderr",
     "output_type": "stream",
     "text": [
      "/usr/local/lib/python3.11/dist-packages/huggingface_hub/utils/_auth.py:94: UserWarning: \n",
      "The secret `HF_TOKEN` does not exist in your Colab secrets.\n",
      "To authenticate with the Hugging Face Hub, create a token in your settings tab (https://huggingface.co/settings/tokens), set it as secret in your Google Colab and restart your session.\n",
      "You will be able to reuse this secret in all of your notebooks.\n",
      "Please note that authentication is recommended but still optional to access public models or datasets.\n",
      "  warnings.warn(\n"
     ]
    },
    {
     "data": {
      "application/vnd.jupyter.widget-view+json": {
       "model_id": "fea7a243b91c4c4abff2ee1ddd29b1c1",
       "version_major": 2,
       "version_minor": 0
      },
      "text/plain": [
       "tokenizer_config.json:   0%|          | 0.00/25.0 [00:00<?, ?B/s]"
      ]
     },
     "metadata": {},
     "output_type": "display_data"
    },
    {
     "data": {
      "application/vnd.jupyter.widget-view+json": {
       "model_id": "48a8a0cebc704fe690385fd5a2178d55",
       "version_major": 2,
       "version_minor": 0
      },
      "text/plain": [
       "config.json:   0%|          | 0.00/615 [00:00<?, ?B/s]"
      ]
     },
     "metadata": {},
     "output_type": "display_data"
    },
    {
     "data": {
      "application/vnd.jupyter.widget-view+json": {
       "model_id": "b316352346a6473eaa75baccbb3fb077",
       "version_major": 2,
       "version_minor": 0
      },
      "text/plain": [
       "sentencepiece.bpe.model:   0%|          | 0.00/5.07M [00:00<?, ?B/s]"
      ]
     },
     "metadata": {},
     "output_type": "display_data"
    },
    {
     "data": {
      "application/vnd.jupyter.widget-view+json": {
       "model_id": "cb627b0900f44414a75de92890d6f196",
       "version_major": 2,
       "version_minor": 0
      },
      "text/plain": [
       "tokenizer.json:   0%|          | 0.00/9.10M [00:00<?, ?B/s]"
      ]
     },
     "metadata": {},
     "output_type": "display_data"
    },
    {
     "data": {
      "application/vnd.jupyter.widget-view+json": {
       "model_id": "f13e5e6e8b0d4921ab8e06ab1f894e66",
       "version_major": 2,
       "version_minor": 0
      },
      "text/plain": [
       "Map:   0%|          | 0/889 [00:00<?, ? examples/s]"
      ]
     },
     "metadata": {},
     "output_type": "display_data"
    }
   ],
   "source": [
    "# Step 4: Prepare Tokenization and Label Alignment\n",
    "from transformers import AutoTokenizer\n",
    "\n",
    "# Load tokenizer (using XLM-Roberta as it handles Amharic well)\n",
    "model_name = \"xlm-roberta-base\"\n",
    "tokenizer = AutoTokenizer.from_pretrained(model_name)\n",
    "\n",
    "def tokenize_and_align_labels(examples):\n",
    "    tokenized_inputs = tokenizer(\n",
    "        examples[\"words\"],\n",
    "        truncation=True,\n",
    "        is_split_into_words=True,\n",
    "        padding='max_length',\n",
    "        max_length=128\n",
    "    )\n",
    "\n",
    "    labels = []\n",
    "    for i, label in enumerate(examples[\"labels\"]):\n",
    "        word_ids = tokenized_inputs.word_ids(batch_index=i)\n",
    "        previous_word_idx = None\n",
    "        label_ids = []\n",
    "        for word_idx in word_ids:\n",
    "            if word_idx is None:  # Special tokens\n",
    "                label_ids.append(-100)\n",
    "            elif word_idx != previous_word_idx:  # New word\n",
    "                label_ids.append(tag2id[label[word_idx]])\n",
    "            else:  # Same word (subword token)\n",
    "                label_ids.append(-100)\n",
    "            previous_word_idx = word_idx\n",
    "        labels.append(label_ids)\n",
    "\n",
    "    tokenized_inputs[\"labels\"] = labels\n",
    "    return tokenized_inputs\n",
    "\n",
    "# Apply to dataset\n",
    "tokenized_dataset = dataset.map(tokenize_and_align_labels, batched=True)"
   ]
  },
  {
   "cell_type": "code",
   "execution_count": 16,
   "metadata": {
    "executionInfo": {
     "elapsed": 44,
     "status": "ok",
     "timestamp": 1750665763181,
     "user": {
      "displayName": "firezewd fentaw",
      "userId": "08469033568295705019"
     },
     "user_tz": -180
    },
    "id": "twu7FqH-ywXi"
   },
   "outputs": [],
   "source": [
    "# Step 5: Split Dataset\n",
    "split_dataset = tokenized_dataset.train_test_split(test_size=0.2)\n",
    "train_dataset = split_dataset[\"train\"]\n",
    "val_dataset = split_dataset[\"test\"]"
   ]
  },
  {
   "cell_type": "code",
   "execution_count": 17,
   "metadata": {
    "colab": {
     "base_uri": "https://localhost:8080/",
     "height": 104,
     "referenced_widgets": [
      "c917d15124714e149d4d925d55ffe973",
      "043bb7b170ad4296ae7a66ce17d7fddc",
      "611b9bc766f846a5a8a0c751229564a8",
      "06f1b085b1034f11adb670bdd9cebd69",
      "ad25750106b24c7fbea32e298b7c3e39",
      "4c1ae6835dd84cc58807bb3869f1367a",
      "b4ea67264f464faa8806063d517c5ab8",
      "63ab44bf9c13420a82ef0c65e3608db4",
      "9135e51865ea4329954d23da4bb30b1a",
      "c1a538a1c43c42baac6c506738cc8daa",
      "00bce35094f749eba201e60811fef2ed"
     ]
    },
    "executionInfo": {
     "elapsed": 29702,
     "status": "ok",
     "timestamp": 1750665844628,
     "user": {
      "displayName": "firezewd fentaw",
      "userId": "08469033568295705019"
     },
     "user_tz": -180
    },
    "id": "1J2e385j0C50",
    "outputId": "e3ce0072-f84c-400a-caf5-635231b8e725"
   },
   "outputs": [
    {
     "data": {
      "application/vnd.jupyter.widget-view+json": {
       "model_id": "c917d15124714e149d4d925d55ffe973",
       "version_major": 2,
       "version_minor": 0
      },
      "text/plain": [
       "model.safetensors:   0%|          | 0.00/1.12G [00:00<?, ?B/s]"
      ]
     },
     "metadata": {},
     "output_type": "display_data"
    },
    {
     "name": "stderr",
     "output_type": "stream",
     "text": [
      "Some weights of XLMRobertaForTokenClassification were not initialized from the model checkpoint at xlm-roberta-base and are newly initialized: ['classifier.bias', 'classifier.weight']\n",
      "You should probably TRAIN this model on a down-stream task to be able to use it for predictions and inference.\n"
     ]
    }
   ],
   "source": [
    "# Step 6: Model Setup\n",
    "from transformers import AutoModelForTokenClassification\n",
    "\n",
    "model = AutoModelForTokenClassification.from_pretrained(\n",
    "    model_name,\n",
    "    num_labels=len(unique_tags),\n",
    "    id2label=id2tag,\n",
    "    label2id=tag2id\n",
    ")"
   ]
  },
  {
   "cell_type": "code",
   "execution_count": 19,
   "metadata": {
    "executionInfo": {
     "elapsed": 43,
     "status": "ok",
     "timestamp": 1750666174694,
     "user": {
      "displayName": "firezewd fentaw",
      "userId": "08469033568295705019"
     },
     "user_tz": -180
    },
    "id": "7J3UOZqB0vSP"
   },
   "outputs": [],
   "source": [
    "#Step 7: Training Configuration\n",
    "from transformers import TrainingArguments, Trainer\n",
    "import numpy as np\n",
    "from seqeval.metrics import f1_score, precision_score, recall_score\n",
    "\n",
    "training_args = TrainingArguments(\n",
    "    output_dir=\"./amharic-ner-model\",\n",
    "    eval_strategy=\"epoch\",  # Changed from evaluation_strategy\n",
    "    learning_rate=2e-5,\n",
    "    per_device_train_batch_size=16,\n",
    "    per_device_eval_batch_size=16,\n",
    "    num_train_epochs=3,\n",
    "    weight_decay=0.01,\n",
    "    save_strategy=\"epoch\",\n",
    "    load_best_model_at_end=True,\n",
    "    metric_for_best_model=\"f1\",\n",
    "    logging_dir='./logs',\n",
    "    report_to=\"none\"  # Disables wandb/mlflow logging if not needed\n",
    ")\n",
    "\n",
    "def compute_metrics(p):\n",
    "    predictions, labels = p\n",
    "    predictions = np.argmax(predictions, axis=2)\n",
    "\n",
    "    true_predictions = [\n",
    "        [id2tag[p] for (p, l) in zip(prediction, label) if l != -100]\n",
    "        for prediction, label in zip(predictions, labels)\n",
    "    ]\n",
    "    true_labels = [\n",
    "        [id2tag[l] for (p, l) in zip(prediction, label) if l != -100]\n",
    "        for prediction, label in zip(predictions, labels)\n",
    "    ]\n",
    "\n",
    "    return {\n",
    "        \"precision\": precision_score(true_labels, true_predictions),\n",
    "        \"recall\": recall_score(true_labels, true_predictions),\n",
    "        \"f1\": f1_score(true_labels, true_predictions),\n",
    "    }"
   ]
  },
  {
   "cell_type": "code",
   "execution_count": 20,
   "metadata": {
    "colab": {
     "base_uri": "https://localhost:8080/",
     "height": 380
    },
    "executionInfo": {
     "elapsed": 184595,
     "status": "ok",
     "timestamp": 1750666442855,
     "user": {
      "displayName": "firezewd fentaw",
      "userId": "08469033568295705019"
     },
     "user_tz": -180
    },
    "id": "-1kiy7kp1mdG",
    "outputId": "6ca9f0d4-ae0e-47a2-e833-752002fd6adb"
   },
   "outputs": [
    {
     "name": "stderr",
     "output_type": "stream",
     "text": [
      "/tmp/ipython-input-20-2514706584.py:2: FutureWarning: `tokenizer` is deprecated and will be removed in version 5.0.0 for `Trainer.__init__`. Use `processing_class` instead.\n",
      "  trainer = Trainer(\n"
     ]
    },
    {
     "data": {
      "text/html": [
       "\n",
       "    <div>\n",
       "      \n",
       "      <progress value='135' max='135' style='width:300px; height:20px; vertical-align: middle;'></progress>\n",
       "      [135/135 02:59, Epoch 3/3]\n",
       "    </div>\n",
       "    <table border=\"1\" class=\"dataframe\">\n",
       "  <thead>\n",
       " <tr style=\"text-align: left;\">\n",
       "      <th>Epoch</th>\n",
       "      <th>Training Loss</th>\n",
       "      <th>Validation Loss</th>\n",
       "      <th>Precision</th>\n",
       "      <th>Recall</th>\n",
       "      <th>F1</th>\n",
       "    </tr>\n",
       "  </thead>\n",
       "  <tbody>\n",
       "    <tr>\n",
       "      <td>1</td>\n",
       "      <td>No log</td>\n",
       "      <td>0.055560</td>\n",
       "      <td>0.000000</td>\n",
       "      <td>0.000000</td>\n",
       "      <td>0.000000</td>\n",
       "    </tr>\n",
       "    <tr>\n",
       "      <td>2</td>\n",
       "      <td>No log</td>\n",
       "      <td>0.043757</td>\n",
       "      <td>0.000000</td>\n",
       "      <td>0.000000</td>\n",
       "      <td>0.000000</td>\n",
       "    </tr>\n",
       "    <tr>\n",
       "      <td>3</td>\n",
       "      <td>No log</td>\n",
       "      <td>0.041599</td>\n",
       "      <td>0.000000</td>\n",
       "      <td>0.000000</td>\n",
       "      <td>0.000000</td>\n",
       "    </tr>\n",
       "  </tbody>\n",
       "</table><p>"
      ],
      "text/plain": [
       "<IPython.core.display.HTML object>"
      ]
     },
     "metadata": {},
     "output_type": "display_data"
    },
    {
     "name": "stderr",
     "output_type": "stream",
     "text": [
      "/usr/local/lib/python3.11/dist-packages/seqeval/metrics/v1.py:57: UndefinedMetricWarning: Precision is ill-defined and being set to 0.0 due to no predicted samples. Use `zero_division` parameter to control this behavior.\n",
      "  _warn_prf(average, modifier, msg_start, len(result))\n",
      "/usr/local/lib/python3.11/dist-packages/seqeval/metrics/v1.py:57: UndefinedMetricWarning: Precision is ill-defined and being set to 0.0 due to no predicted samples. Use `zero_division` parameter to control this behavior.\n",
      "  _warn_prf(average, modifier, msg_start, len(result))\n",
      "/usr/local/lib/python3.11/dist-packages/seqeval/metrics/v1.py:57: UndefinedMetricWarning: Precision is ill-defined and being set to 0.0 due to no predicted samples. Use `zero_division` parameter to control this behavior.\n",
      "  _warn_prf(average, modifier, msg_start, len(result))\n"
     ]
    },
    {
     "data": {
      "text/plain": [
       "TrainOutput(global_step=135, training_loss=0.1588961848506221, metrics={'train_runtime': 181.4762, 'train_samples_per_second': 11.754, 'train_steps_per_second': 0.744, 'total_flos': 139342794193152.0, 'train_loss': 0.1588961848506221, 'epoch': 3.0})"
      ]
     },
     "execution_count": 20,
     "metadata": {},
     "output_type": "execute_result"
    }
   ],
   "source": [
    "# Step 8: Train the Model\n",
    "trainer = Trainer(\n",
    "    model=model,\n",
    "    args=training_args,\n",
    "    train_dataset=train_dataset,\n",
    "    eval_dataset=val_dataset,\n",
    "    tokenizer=tokenizer,\n",
    "    compute_metrics=compute_metrics\n",
    ")\n",
    "\n",
    "trainer.train()"
   ]
  },
  {
   "cell_type": "code",
   "execution_count": 21,
   "metadata": {
    "colab": {
     "base_uri": "https://localhost:8080/"
    },
    "executionInfo": {
     "elapsed": 70236,
     "status": "ok",
     "timestamp": 1750666847360,
     "user": {
      "displayName": "firezewd fentaw",
      "userId": "08469033568295705019"
     },
     "user_tz": -180
    },
    "id": "a83e7eX62v3Y",
    "outputId": "8acbc7b7-2048-45ab-a5cf-77bf7e9d8c4c"
   },
   "outputs": [
    {
     "data": {
      "text/plain": [
       "('/content/drive/MyDrive/amharic-ner-model/tokenizer_config.json',\n",
       " '/content/drive/MyDrive/amharic-ner-model/special_tokens_map.json',\n",
       " '/content/drive/MyDrive/amharic-ner-model/sentencepiece.bpe.model',\n",
       " '/content/drive/MyDrive/amharic-ner-model/added_tokens.json',\n",
       " '/content/drive/MyDrive/amharic-ner-model/tokenizer.json')"
      ]
     },
     "execution_count": 21,
     "metadata": {},
     "output_type": "execute_result"
    }
   ],
   "source": [
    "# Step 9: Save the Model\n",
    "model.save_pretrained(\"./amharic-ner-model-final\")\n",
    "tokenizer.save_pretrained(\"./amharic-ner-model-final\")\n",
    "\n",
    "# To save to Google Drive\n",
    "model.save_pretrained(\"/content/drive/MyDrive/amharic-ner-model\")\n",
    "tokenizer.save_pretrained(\"/content/drive/MyDrive/amharic-ner-model\")"
   ]
  },
  {
   "cell_type": "code",
   "execution_count": 22,
   "metadata": {
    "colab": {
     "base_uri": "https://localhost:8080/"
    },
    "executionInfo": {
     "elapsed": 3814,
     "status": "ok",
     "timestamp": 1750666979411,
     "user": {
      "displayName": "firezewd fentaw",
      "userId": "08469033568295705019"
     },
     "user_tz": -180
    },
    "id": "GeTjjKjZ4gWF",
    "outputId": "cdacfaec-6f02-4737-b3f2-c35549d43b89"
   },
   "outputs": [
    {
     "name": "stderr",
     "output_type": "stream",
     "text": [
      "Device set to use cuda:0\n"
     ]
    },
    {
     "name": "stdout",
     "output_type": "stream",
     "text": [
      "[]\n"
     ]
    }
   ],
   "source": [
    "from transformers import pipeline\n",
    "\n",
    "ner_pipeline = pipeline(\n",
    "    \"ner\",\n",
    "    model=\"/content/drive/MyDrive/amharic-ner-model\",\n",
    "    tokenizer=\"/content/drive/MyDrive/amharic-ner-model\"\n",
    ")\n",
    "print(ner_pipeline(\"የ100 ብር ዋጋ ያለው ስልክ\"))  # Test with Amharic text"
   ]
  },
  {
   "cell_type": "code",
   "execution_count": 23,
   "metadata": {
    "colab": {
     "base_uri": "https://localhost:8080/"
    },
    "executionInfo": {
     "elapsed": 5564,
     "status": "ok",
     "timestamp": 1750667134843,
     "user": {
      "displayName": "firezewd fentaw",
      "userId": "08469033568295705019"
     },
     "user_tz": -180
    },
    "id": "obukKZaT5CpN",
    "outputId": "55d6685f-4e3d-4665-e921-584c7d78b604"
   },
   "outputs": [
    {
     "name": "stderr",
     "output_type": "stream",
     "text": [
      "Device set to use cuda:0\n"
     ]
    },
    {
     "name": "stdout",
     "output_type": "stream",
     "text": [
      "[]\n"
     ]
    }
   ],
   "source": [
    "from transformers import pipeline\n",
    "\n",
    "ner_pipeline = pipeline(\n",
    "    \"ner\",\n",
    "    model=\"./amharic-ner-model-final\",\n",
    "    tokenizer=tokenizer,\n",
    "    aggregation_strategy=\"simple\"\n",
    ")\n",
    "\n",
    "sample_text = \"ልጫ በ100 ብር ዋጋ ያለው ስልክ በአዲስ አበባ ይገኛል\"\n",
    "results = ner_pipeline(sample_text)\n",
    "print(results)"
   ]
  },
  {
   "cell_type": "code",
   "execution_count": 24,
   "metadata": {
    "colab": {
     "base_uri": "https://localhost:8080/"
    },
    "executionInfo": {
     "elapsed": 2834,
     "status": "ok",
     "timestamp": 1750667384281,
     "user": {
      "displayName": "firezewd fentaw",
      "userId": "08469033568295705019"
     },
     "user_tz": -180
    },
    "id": "rjQXKxpm6DRd",
    "outputId": "61273f2a-ebfc-4f08-efa7-e0e964603506"
   },
   "outputs": [
    {
     "name": "stdout",
     "output_type": "stream",
     "text": [
      "[{'eval_loss': 0.05556049942970276, 'eval_precision': 0.0, 'eval_recall': 0.0, 'eval_f1': 0.0, 'eval_runtime': 1.2774, 'eval_samples_per_second': 139.348, 'eval_steps_per_second': 9.394, 'epoch': 1.0, 'step': 45}, {'eval_loss': 0.04375699907541275, 'eval_precision': 0.0, 'eval_recall': 0.0, 'eval_f1': 0.0, 'eval_runtime': 1.2682, 'eval_samples_per_second': 140.361, 'eval_steps_per_second': 9.463, 'epoch': 2.0, 'step': 90}, {'eval_loss': 0.041599005460739136, 'eval_precision': 0.0, 'eval_recall': 0.0, 'eval_f1': 0.0, 'eval_runtime': 1.2371, 'eval_samples_per_second': 143.885, 'eval_steps_per_second': 9.7, 'epoch': 3.0, 'step': 135}, {'train_runtime': 181.4762, 'train_samples_per_second': 11.754, 'train_steps_per_second': 0.744, 'total_flos': 139342794193152.0, 'train_loss': 0.1588961848506221, 'epoch': 3.0, 'step': 135}]\n"
     ]
    }
   ],
   "source": [
    "print(trainer.state.log_history)  # Should show increasing F1 scores"
   ]
  },
  {
   "cell_type": "code",
   "execution_count": 25,
   "metadata": {
    "colab": {
     "base_uri": "https://localhost:8080/"
    },
    "executionInfo": {
     "elapsed": 10,
     "status": "ok",
     "timestamp": 1750667521139,
     "user": {
      "displayName": "firezewd fentaw",
      "userId": "08469033568295705019"
     },
     "user_tz": -180
    },
    "id": "NMRcXW4Q6l1a",
    "outputId": "717f9ec4-7e07-4ff9-e920-b15f193ee4c7"
   },
   "outputs": [
    {
     "name": "stdout",
     "output_type": "stream",
     "text": [
      "Sample text contains 'ብር': True\n",
      "Contains product words: True\n"
     ]
    }
   ],
   "source": [
    "print(\"Sample text contains 'ብር':\", \"ብር\" in sample_text)  # Should be True for PRICE\n",
    "print(\"Contains product words:\", any(w in sample_text for w in [\"ስልክ\", \"ልጫ\"]))"
   ]
  },
  {
   "cell_type": "code",
   "execution_count": 26,
   "metadata": {
    "colab": {
     "base_uri": "https://localhost:8080/"
    },
    "executionInfo": {
     "elapsed": 75,
     "status": "ok",
     "timestamp": 1750667606254,
     "user": {
      "displayName": "firezewd fentaw",
      "userId": "08469033568295705019"
     },
     "user_tz": -180
    },
    "id": "Xrn5CrxO66Te",
    "outputId": "e1c16eee-8e2b-4c26-f39b-7ee034c23063"
   },
   "outputs": [
    {
     "name": "stdout",
     "output_type": "stream",
     "text": [
      "Model loaded successfully with 7 labels\n"
     ]
    }
   ],
   "source": [
    "from transformers import AutoModelForTokenClassification\n",
    "\n",
    "try:\n",
    "    test_model = AutoModelForTokenClassification.from_pretrained(\"./amharic-ner-model-final\")\n",
    "    print(\"Model loaded successfully with\", test_model.num_labels, \"labels\")\n",
    "except Exception as e:\n",
    "    print(\"Model loading failed:\", str(e))"
   ]
  },
  {
   "cell_type": "code",
   "execution_count": 27,
   "metadata": {
    "colab": {
     "base_uri": "https://localhost:8080/"
    },
    "executionInfo": {
     "elapsed": 231,
     "status": "ok",
     "timestamp": 1750667675726,
     "user": {
      "displayName": "firezewd fentaw",
      "userId": "08469033568295705019"
     },
     "user_tz": -180
    },
    "id": "4upWWQzq7LNE",
    "outputId": "2bb2bc52-11eb-4ef5-d82c-57ee94e85b3c"
   },
   "outputs": [
    {
     "name": "stdout",
     "output_type": "stream",
     "text": [
      "Label mappings: {'0': 'B-LOC', '1': 'B-PRICE', '2': 'B-Product', '3': 'I-LOC', '4': 'I-PRICE', '5': 'I-Product', '6': 'O'}\n"
     ]
    }
   ],
   "source": [
    "import json\n",
    "with open(\"./amharic-ner-model-final/config.json\") as f:\n",
    "    config = json.load(f)\n",
    "print(\"Label mappings:\", config[\"id2label\"])"
   ]
  },
  {
   "cell_type": "code",
   "execution_count": 29,
   "metadata": {
    "executionInfo": {
     "elapsed": 40,
     "status": "ok",
     "timestamp": 1750668334666,
     "user": {
      "displayName": "firezewd fentaw",
      "userId": "08469033568295705019"
     },
     "user_tz": -180
    },
    "id": "zwEG5Vo19sAF"
   },
   "outputs": [],
   "source": [
    "# Update your tag2id and id2tag to match EXACTLY:\n",
    "tag2id = {'B-LOC': 0, 'B-PRICE': 1, 'B-PRODUCT': 2,  # Uppercase PRODUCT\n",
    "          'I-LOC': 3, 'I-PRICE': 4, 'I-PRODUCT': 5, 'O': 6}"
   ]
  },
  {
   "cell_type": "code",
   "execution_count": 30,
   "metadata": {
    "colab": {
     "base_uri": "https://localhost:8080/"
    },
    "executionInfo": {
     "elapsed": 17,
     "status": "ok",
     "timestamp": 1750668349722,
     "user": {
      "displayName": "firezewd fentaw",
      "userId": "08469033568295705019"
     },
     "user_tz": -180
    },
    "id": "8-IQVkkc9wKb",
    "outputId": "372c4f99-fff3-49af-fdd3-f4c86b8395ad"
   },
   "outputs": [
    {
     "name": "stdout",
     "output_type": "stream",
     "text": [
      "First sample labels: [-100, 6, -100, 6, 6, -100, 6, -100, -100, 6, 6, 6, -100, 6, 6, -100, 6, 6, 6, -100, 6, -100, 6, 6, 6, -100, -100, 6, -100, 6, 6, 6, 6, -100, -100, -100, -100, -100, -100, -100, -100, -100, -100, -100, -100, -100, -100, -100, -100, 6, 6, 6, -100, -100, -100, 6, -100, -100, -100, 6, -100, -100, -100, 6, -100, -100, 6, -100, -100, 6, -100, 6, -100, -100, -100, 6, -100, -100, -100, 6, -100, -100, 6, 6, -100, -100, -100, -100, 6, -100, -100, 6, -100, -100, -100, -100, -100, -100, -100, -100, -100, -100, -100, -100, -100, -100, -100, -100, -100, -100, -100, -100, -100, -100, -100, -100, -100, -100, -100, -100, -100, -100, -100, -100, -100, -100, -100, -100]\n"
     ]
    }
   ],
   "source": [
    "print(\"First sample labels:\", train_dataset[0]['labels'])\n",
    "# Should match: ['B-PRODUCT', 'I-PRODUCT', ...] not ['B-Product', ...]"
   ]
  },
  {
   "cell_type": "code",
   "execution_count": 31,
   "metadata": {
    "colab": {
     "base_uri": "https://localhost:8080/"
    },
    "executionInfo": {
     "elapsed": 43,
     "status": "ok",
     "timestamp": 1750668547157,
     "user": {
      "displayName": "firezewd fentaw",
      "userId": "08469033568295705019"
     },
     "user_tz": -180
    },
    "id": "ped2xiR--f22",
    "outputId": "1a883a45-0e92-4d51-a15b-5beca00cd262"
   },
   "outputs": [
    {
     "name": "stdout",
     "output_type": "stream",
     "text": [
      "Label mappings: {'0': 'B-LOC', '1': 'B-PRICE', '2': 'B-Product', '3': 'I-LOC', '4': 'I-PRICE', '5': 'I-Product', '6': 'O'}\n"
     ]
    }
   ],
   "source": [
    "import json\n",
    "with open(\"./amharic-ner-model-final/config.json\") as f:\n",
    "    config = json.load(f)\n",
    "print(\"Label mappings:\", config[\"id2label\"])"
   ]
  },
  {
   "cell_type": "code",
   "execution_count": 32,
   "metadata": {
    "colab": {
     "base_uri": "https://localhost:8080/"
    },
    "executionInfo": {
     "elapsed": 26,
     "status": "ok",
     "timestamp": 1750668635897,
     "user": {
      "displayName": "firezewd fentaw",
      "userId": "08469033568295705019"
     },
     "user_tz": -180
    },
    "id": "XbrQeVQb-1sN",
    "outputId": "2d9df900-7a27-4e94-ad5b-74af18536097"
   },
   "outputs": [
    {
     "name": "stdout",
     "output_type": "stream",
     "text": [
      "[]\n"
     ]
    }
   ],
   "source": [
    "simple_test = \"ዋጋ፦ 500 ብር\"  # Should detect PRICE\n",
    "print(ner_pipeline(simple_test))"
   ]
  },
  {
   "cell_type": "code",
   "execution_count": 33,
   "metadata": {
    "colab": {
     "base_uri": "https://localhost:8080/"
    },
    "executionInfo": {
     "elapsed": 250,
     "status": "ok",
     "timestamp": 1750668793048,
     "user": {
      "displayName": "firezewd fentaw",
      "userId": "08469033568295705019"
     },
     "user_tz": -180
    },
    "id": "pS4ODMhr_cUP",
    "outputId": "3885991a-7f2d-4867-ef90-8fab83ed56ee"
   },
   "outputs": [
    {
     "name": "stdout",
     "output_type": "stream",
     "text": [
      "Original labels before tokenization:\n",
      "['B-Product', 'I-Product', 'I-Product', 'O', 'O', 'O', 'O', 'O', 'O', 'O', 'O', 'O', 'O', 'O', 'O', 'O', 'O', 'B-PRICE', 'I-PRICE', 'I-PRICE', 'I-PRICE', 'O', 'O', 'O', 'O', 'O', 'B-LOC', 'I-LOC', 'I-LOC', 'I-LOC', 'O', 'O', 'O', 'O', 'O', 'O', 'O', 'O', 'O', 'O', 'O', 'O']\n"
     ]
    }
   ],
   "source": [
    "print(\"Original labels before tokenization:\")\n",
    "print(df.iloc[0]['labels'])  # Should show ['B-PRODUCT', 'I-PRODUCT', ...]"
   ]
  },
  {
   "cell_type": "code",
   "execution_count": 36,
   "metadata": {
    "executionInfo": {
     "elapsed": 434,
     "status": "ok",
     "timestamp": 1750669533350,
     "user": {
      "displayName": "firezewd fentaw",
      "userId": "08469033568295705019"
     },
     "user_tz": -180
    },
    "id": "JHyhA8-_CEjj"
   },
   "outputs": [],
   "source": [
    "# Update your tag2id mapping to match EXACTLY what's in the data\n",
    "tag2id = {\n",
    "    'B-LOC': 0,\n",
    "    'B-PRICE': 1,\n",
    "    'B-Product': 2,  # Changed to match your data\n",
    "    'I-LOC': 3,\n",
    "    'I-PRICE': 4,\n",
    "    'I-Product': 5,  # Changed to match your data\n",
    "    'O': 6\n",
    "}\n",
    "\n",
    "# Update id2tag accordingly\n",
    "id2tag = {v: k for k, v in tag2id.items()}"
   ]
  },
  {
   "cell_type": "code",
   "execution_count": 37,
   "metadata": {
    "colab": {
     "base_uri": "https://localhost:8080/"
    },
    "executionInfo": {
     "elapsed": 21,
     "status": "ok",
     "timestamp": 1750669555808,
     "user": {
      "displayName": "firezewd fentaw",
      "userId": "08469033568295705019"
     },
     "user_tz": -180
    },
    "id": "4V8e9gOBCWfe",
    "outputId": "9051200a-7ebf-4d35-bf99-c5625dd6a82d"
   },
   "outputs": [
    {
     "name": "stdout",
     "output_type": "stream",
     "text": [
      "2\n",
      "B-Product\n"
     ]
    }
   ],
   "source": [
    "print(tag2id['B-Product'])  # Should return 2\n",
    "print(id2tag[2])            # Should return 'B-Product'"
   ]
  },
  {
   "cell_type": "code",
   "execution_count": 39,
   "metadata": {
    "executionInfo": {
     "elapsed": 10,
     "status": "ok",
     "timestamp": 1750669768683,
     "user": {
      "displayName": "firezewd fentaw",
      "userId": "08469033568295705019"
     },
     "user_tz": -180
    },
    "id": "tJE8jsFmDIwL"
   },
   "outputs": [],
   "source": [
    "def tokenize_and_align_labels(examples, label2id):\n",
    "    tokenized_inputs = tokenizer(\n",
    "        examples[\"words\"],\n",
    "        truncation=True,\n",
    "        is_split_into_words=True,\n",
    "        padding='max_length',\n",
    "        max_length=128\n",
    "    )\n",
    "\n",
    "    labels = []\n",
    "    for i, label_seq in enumerate(examples[\"labels\"]):\n",
    "        word_ids = tokenized_inputs.word_ids(batch_index=i)\n",
    "        previous_word_idx = None\n",
    "        label_ids = []\n",
    "        for word_idx in word_ids:\n",
    "            if word_idx is None:\n",
    "                label_ids.append(-100)\n",
    "            elif word_idx != previous_word_idx:\n",
    "                label_ids.append(label2id[label_seq[word_idx]])\n",
    "            else:\n",
    "                label_ids.append(-100)\n",
    "            previous_word_idx = word_idx\n",
    "        labels.append(label_ids)\n",
    "\n",
    "    tokenized_inputs[\"labels\"] = labels\n",
    "    return tokenized_inputs"
   ]
  },
  {
   "cell_type": "code",
   "execution_count": 40,
   "metadata": {
    "colab": {
     "base_uri": "https://localhost:8080/",
     "height": 49,
     "referenced_widgets": [
      "b81732a40852409eb73a6738d78f20c9",
      "9f2bb36596c84ce8ae27948fcdd07878",
      "90769c7cc770487db1ec7a23bb8a757c",
      "30d3d04eed45474da444a553064e3214",
      "ae7a2179c6dc4e66abfd490afd23518b",
      "edf2293b7a10402588b85d3e0c961184",
      "095b2fb4b4924a42981f0990dbd74f67",
      "9675c11e7e6d4da18e30367e842ae07f",
      "fc9d6a554eac410d9d3c6c011c876c24",
      "80f002b4afaf4986865520e257d184b4",
      "b32d4614ffee41708fd1c54ba3c20fd8"
     ]
    },
    "executionInfo": {
     "elapsed": 1253,
     "status": "ok",
     "timestamp": 1750669790647,
     "user": {
      "displayName": "firezewd fentaw",
      "userId": "08469033568295705019"
     },
     "user_tz": -180
    },
    "id": "-5-tDPkyDPue",
    "outputId": "b10521e7-d38d-4f8a-98f1-76fb8bbfd90c"
   },
   "outputs": [
    {
     "data": {
      "application/vnd.jupyter.widget-view+json": {
       "model_id": "b81732a40852409eb73a6738d78f20c9",
       "version_major": 2,
       "version_minor": 0
      },
      "text/plain": [
       "Map:   0%|          | 0/889 [00:00<?, ? examples/s]"
      ]
     },
     "metadata": {},
     "output_type": "display_data"
    }
   ],
   "source": [
    "from functools import partial\n",
    "\n",
    "# Create a partially applied function\n",
    "align_fn_with_labels = partial(\n",
    "    tokenize_and_align_labels,\n",
    "    label2id=tag2id\n",
    ")\n",
    "\n",
    "# Apply to dataset\n",
    "tokenized_dataset = dataset.map(\n",
    "    align_fn_with_labels,\n",
    "    batched=True,\n",
    "    batch_size=32\n",
    ")"
   ]
  },
  {
   "cell_type": "code",
   "execution_count": 41,
   "metadata": {
    "colab": {
     "base_uri": "https://localhost:8080/"
    },
    "executionInfo": {
     "elapsed": 312,
     "status": "ok",
     "timestamp": 1750669823622,
     "user": {
      "displayName": "firezewd fentaw",
      "userId": "08469033568295705019"
     },
     "user_tz": -180
    },
    "id": "v2cBGWoyDXg6",
    "outputId": "d86f8211-bc47-49d0-bd01-450d21983f1b"
   },
   "outputs": [
    {
     "name": "stdout",
     "output_type": "stream",
     "text": [
      "Verifying first sample:\n",
      "<s>                  |  -100 | IGNORE\n",
      "▁3                   |     2 | B-Product\n",
      "pc                   |  -100 | IGNORE\n",
      "s                    |  -100 | IGNORE\n",
      "▁Bo                  |     5 | I-Product\n",
      "ttle                 |  -100 | IGNORE\n",
      "▁Stop                |     5 | I-Product\n",
      "per                  |  -100 | IGNORE\n",
      "▁በ                   |     6 | O\n",
      "ማንኛውም                |  -100 | IGNORE\n",
      "▁                    |     6 | O\n",
      "ጠር                   |  -100 | IGNORE\n",
      "ሙስ                   |  -100 | IGNORE\n",
      "▁                    |     6 | O\n",
      "ጫ                    |  -100 | IGNORE\n",
      "ፍ                    |  -100 | IGNORE\n",
      "▁የሚ                  |     6 | O\n",
      "ገ                    |  -100 | IGNORE\n",
      "ጠ                    |  -100 | IGNORE\n",
      "ም                    |  -100 | IGNORE\n"
     ]
    }
   ],
   "source": [
    "print(\"Verifying first sample:\")\n",
    "sample = tokenized_dataset[0]\n",
    "for token, label in zip(\n",
    "    tokenizer.convert_ids_to_tokens(sample[\"input_ids\"])[:20],\n",
    "    sample[\"labels\"][:20]\n",
    "):\n",
    "    print(f\"{token:20} | {label:5} | {id2tag.get(label, 'IGNORE')}\")"
   ]
  },
  {
   "cell_type": "code",
   "execution_count": 43,
   "metadata": {
    "colab": {
     "base_uri": "https://localhost:8080/"
    },
    "executionInfo": {
     "elapsed": 43,
     "status": "ok",
     "timestamp": 1750672936853,
     "user": {
      "displayName": "firezewd fentaw",
      "userId": "08469033568295705019"
     },
     "user_tz": -180
    },
    "id": "GJu8b15SEwLG",
    "outputId": "bc5eaef7-dfa0-4382-fdd8-190c5004df47"
   },
   "outputs": [
    {
     "name": "stdout",
     "output_type": "stream",
     "text": [
      "[]\n"
     ]
    }
   ],
   "source": [
    "simple_test = \"ዋጋ፦ 500 ብር\"  # Should detect PRICE\n",
    "print(ner_pipeline(simple_test))"
   ]
  },
  {
   "cell_type": "code",
   "execution_count": 44,
   "metadata": {
    "colab": {
     "base_uri": "https://localhost:8080/"
    },
    "executionInfo": {
     "elapsed": 52,
     "status": "ok",
     "timestamp": 1750673001760,
     "user": {
      "displayName": "firezewd fentaw",
      "userId": "08469033568295705019"
     },
     "user_tz": -180
    },
    "id": "sScPHD46Pd8_",
    "outputId": "e9852ee3-e6fd-4154-a08e-3c25b44e69b0"
   },
   "outputs": [
    {
     "name": "stdout",
     "output_type": "stream",
     "text": [
      "Label distribution:\n",
      "B-Product: 28 samples (0.1%)\n",
      "I-Product: 174 samples (0.4%)\n",
      "O: 47234 samples (99.2%)\n",
      "B-PRICE: 28 samples (0.1%)\n",
      "I-PRICE: 48 samples (0.1%)\n",
      "B-LOC: 30 samples (0.1%)\n",
      "I-LOC: 90 samples (0.2%)\n"
     ]
    }
   ],
   "source": [
    "from collections import Counter\n",
    "\n",
    "all_labels = [tag for sublist in df['labels'] for tag in sublist]\n",
    "label_counts = Counter(all_labels)\n",
    "\n",
    "print(\"Label distribution:\")\n",
    "for tag, count in label_counts.items():\n",
    "    print(f\"{tag}: {count} samples ({count/len(all_labels):.1%})\")"
   ]
  },
  {
   "cell_type": "code",
   "execution_count": 45,
   "metadata": {
    "colab": {
     "base_uri": "https://localhost:8080/"
    },
    "executionInfo": {
     "elapsed": 44,
     "status": "ok",
     "timestamp": 1750673058240,
     "user": {
      "displayName": "firezewd fentaw",
      "userId": "08469033568295705019"
     },
     "user_tz": -180
    },
    "id": "EEWGBXVQPtPQ",
    "outputId": "97703bda-98c0-45cc-8502-e492cfa97580"
   },
   "outputs": [
    {
     "name": "stdout",
     "output_type": "stream",
     "text": [
      "Train samples: 711\n",
      "Validation samples: 178\n",
      "\n",
      "First train sample words: ['Saachi', 'Electric', 'Kettle', 'Borosilicate', 'Glass']\n",
      "First val sample words: ['Columbia', 'Trailstorm', 'size', '4041424344', 'Price']\n"
     ]
    }
   ],
   "source": [
    "print(f\"Train samples: {len(train_dataset)}\")\n",
    "print(f\"Validation samples: {len(val_dataset)}\")\n",
    "\n",
    "# Check first/last samples in each split\n",
    "print(\"\\nFirst train sample words:\", train_dataset[0]['words'][:5])\n",
    "print(\"First val sample words:\", val_dataset[0]['words'][:5])"
   ]
  },
  {
   "cell_type": "code",
   "execution_count": 47,
   "metadata": {
    "executionInfo": {
     "elapsed": 27,
     "status": "ok",
     "timestamp": 1750673148216,
     "user": {
      "displayName": "firezewd fentaw",
      "userId": "08469033568295705019"
     },
     "user_tz": -180
    },
    "id": "SQND0b3jPy9p"
   },
   "outputs": [],
   "source": [
    "from torch.nn.utils.rnn import pad_sequence\n",
    "import torch\n",
    "\n",
    "def collate_fn(batch):\n",
    "    # Separate inputs and labels\n",
    "    inputs = {\n",
    "        'input_ids': [torch.tensor(x['input_ids']) for x in batch],\n",
    "        'attention_mask': [torch.tensor(x['attention_mask']) for x in batch]\n",
    "    }\n",
    "    labels = [torch.tensor(x['labels']) for x in batch]\n",
    "\n",
    "    # Pad sequences\n",
    "    inputs['input_ids'] = pad_sequence(inputs['input_ids'], batch_first=True, padding_value=tokenizer.pad_token_id)\n",
    "    inputs['attention_mask'] = pad_sequence(inputs['attention_mask'], batch_first=True, padding_value=0)\n",
    "    labels = pad_sequence(labels, batch_first=True, padding_value=-100)\n",
    "\n",
    "    return {\n",
    "        'input_ids': inputs['input_ids'],\n",
    "        'attention_mask': inputs['attention_mask'],\n",
    "        'labels': labels\n",
    "    }\n",
    "\n",
    "# Create DataLoader with custom collate\n",
    "dataloader = DataLoader(\n",
    "    train_dataset,\n",
    "    batch_size=2,\n",
    "    collate_fn=collate_fn\n",
    ")"
   ]
  },
  {
   "cell_type": "code",
   "execution_count": 48,
   "metadata": {
    "colab": {
     "base_uri": "https://localhost:8080/"
    },
    "executionInfo": {
     "elapsed": 33,
     "status": "ok",
     "timestamp": 1750673164560,
     "user": {
      "displayName": "firezewd fentaw",
      "userId": "08469033568295705019"
     },
     "user_tz": -180
    },
    "id": "YQKt1RRgQHpb",
    "outputId": "75feb4da-dcb0-4342-9d02-fc7924193bfd"
   },
   "outputs": [
    {
     "name": "stdout",
     "output_type": "stream",
     "text": [
      "Padded batch shapes:\n",
      "input_ids: torch.Size([2, 128])\n",
      "labels: torch.Size([2, 128])\n",
      "\n",
      "First sample (decoded):\n",
      "<s> Saachi Electric Kettle Borosilicate Glass Body Overheat protection Automatic switch off 2200w ዋጋ፦ 2700 ብር ውስን ፍሬ ነው ያለው አድራሻ መገናኛ_መሰረት_ደፋር_ሞል_ሁለተኛ_ፎቅ ቢሮ ቁ S05S06 0902660722 0928460606 በTelegram ለማዘዝ ይጠቀሙ zemencallcenter zemenexpressadmin ለተጨማሪ ማብራሪያ የቴሌግራም ገፃችን httpstelegrammezemenexpress</s><pad><pad><pad><pad><pad><pad><pad><pad><pad><pad><pad><pad><pad><pad><pad><pad><pad><pad><pad><pad><pad><pad><pad><pad><pad><pad><pad><pad><pad><pad>\n",
      "Labels: ['IGNORE', 'O', 'IGNORE', 'O', 'O', 'IGNORE', 'O', 'IGNORE', 'IGNORE', 'O', 'O', 'O', 'IGNORE', 'O', 'O', 'IGNORE', 'O', 'O', 'O', 'IGNORE', 'O', 'IGNORE', 'O', 'O', 'O', 'IGNORE', 'IGNORE', 'O', 'IGNORE', 'O', 'O', 'O', 'O', 'IGNORE', 'IGNORE', 'IGNORE', 'IGNORE', 'IGNORE', 'IGNORE', 'IGNORE', 'IGNORE', 'IGNORE', 'IGNORE', 'IGNORE', 'IGNORE', 'IGNORE', 'IGNORE', 'IGNORE', 'IGNORE', 'O', 'O', 'O', 'IGNORE', 'IGNORE', 'IGNORE', 'O', 'IGNORE', 'IGNORE', 'IGNORE', 'O', 'IGNORE', 'IGNORE', 'IGNORE', 'O', 'IGNORE', 'IGNORE', 'O', 'IGNORE', 'IGNORE', 'O', 'IGNORE', 'O', 'IGNORE', 'IGNORE', 'IGNORE', 'O', 'IGNORE', 'IGNORE', 'IGNORE', 'O', 'IGNORE', 'IGNORE', 'O', 'O', 'IGNORE', 'IGNORE', 'IGNORE', 'IGNORE', 'O', 'IGNORE', 'IGNORE', 'O', 'IGNORE', 'IGNORE', 'IGNORE', 'IGNORE', 'IGNORE', 'IGNORE', 'IGNORE', 'IGNORE', 'IGNORE', 'IGNORE', 'IGNORE', 'IGNORE', 'IGNORE', 'IGNORE', 'IGNORE', 'IGNORE', 'IGNORE', 'IGNORE', 'IGNORE', 'IGNORE', 'IGNORE', 'IGNORE', 'IGNORE', 'IGNORE', 'IGNORE', 'IGNORE', 'IGNORE', 'IGNORE', 'IGNORE', 'IGNORE', 'IGNORE', 'IGNORE', 'IGNORE', 'IGNORE', 'IGNORE', 'IGNORE']\n"
     ]
    }
   ],
   "source": [
    "batch = next(iter(dataloader))\n",
    "print(\"Padded batch shapes:\")\n",
    "print(f\"input_ids: {batch['input_ids'].shape}\")\n",
    "print(f\"labels: {batch['labels'].shape}\")\n",
    "\n",
    "# Show padding\n",
    "print(\"\\nFirst sample (decoded):\")\n",
    "print(tokenizer.decode(batch['input_ids'][0]))\n",
    "print(\"Labels:\", [id2tag.get(l.item(), 'IGNORE') for l in batch['labels'][0]])"
   ]
  },
  {
   "cell_type": "code",
   "execution_count": 49,
   "metadata": {
    "colab": {
     "base_uri": "https://localhost:8080/"
    },
    "executionInfo": {
     "elapsed": 11,
     "status": "ok",
     "timestamp": 1750673361540,
     "user": {
      "displayName": "firezewd fentaw",
      "userId": "08469033568295705019"
     },
     "user_tz": -180
    },
    "id": "zkgcL6jbQ3tC",
    "outputId": "5808e728-3aad-49a9-f3b9-5419726cc208"
   },
   "outputs": [
    {
     "name": "stdout",
     "output_type": "stream",
     "text": [
      "Original labels before tokenization:\n",
      "['B-Product', 'I-Product', 'I-Product', 'O', 'O', 'O', 'O', 'O', 'O', 'O', 'O', 'O', 'O', 'O', 'O', 'O', 'O', 'B-PRICE', 'I-PRICE', 'I-PRICE']\n"
     ]
    }
   ],
   "source": [
    "print(\"Original labels before tokenization:\")\n",
    "print(df.iloc[0]['labels'][:20])  # Should show entity tags like 'B-PRODUCT'"
   ]
  },
  {
   "cell_type": "code",
   "execution_count": 50,
   "metadata": {
    "colab": {
     "base_uri": "https://localhost:8080/"
    },
    "executionInfo": {
     "elapsed": 96,
     "status": "ok",
     "timestamp": 1750673384756,
     "user": {
      "displayName": "firezewd fentaw",
      "userId": "08469033568295705019"
     },
     "user_tz": -180
    },
    "id": "Bri-CY6OQ9Pk",
    "outputId": "11e9f977-a4c8-4b50-c724-80ea0fc2f4f9"
   },
   "outputs": [
    {
     "name": "stdout",
     "output_type": "stream",
     "text": [
      "\n",
      "Token-Label Alignment:\n",
      "  0 | <s>                  | None  |  -100 | IGNORE\n",
      "  1 | ▁Saa                 | 0     |     6 | O\n",
      "  2 | chi                  | 0     |  -100 | IGNORE\n",
      "  3 | ▁Electric            | 1     |     6 | O\n",
      "  4 | ▁Kett                | 2     |     6 | O\n",
      "  5 | le                   | 2     |  -100 | IGNORE\n",
      "  6 | ▁Boro                | 3     |     6 | O\n",
      "  7 | sili                 | 3     |  -100 | IGNORE\n",
      "  8 | cate                 | 3     |  -100 | IGNORE\n",
      "  9 | ▁Glass               | 4     |     6 | O\n",
      " 10 | ▁Body                | 5     |     6 | O\n",
      " 11 | ▁Over                | 6     |     6 | O\n",
      " 12 | heat                 | 6     |  -100 | IGNORE\n",
      " 13 | ▁protection          | 7     |     6 | O\n",
      " 14 | ▁Automat             | 8     |     6 | O\n",
      " 15 | ic                   | 8     |  -100 | IGNORE\n",
      " 16 | ▁switch              | 9     |     6 | O\n",
      " 17 | ▁off                 | 10    |     6 | O\n",
      " 18 | ▁2200                | 11    |     6 | O\n",
      " 19 | w                    | 11    |  -100 | IGNORE\n",
      " 20 | ▁ዋጋ                  | 12    |     6 | O\n",
      " 21 | ፦                    | 12    |  -100 | IGNORE\n",
      " 22 | ▁2700                | 13    |     6 | O\n",
      " 23 | ▁ብር                  | 14    |     6 | O\n",
      " 24 | ▁                    | 15    |     6 | O\n",
      " 25 | ውስ                   | 15    |  -100 | IGNORE\n",
      " 26 | ን                    | 15    |  -100 | IGNORE\n",
      " 27 | ▁ፍ                   | 16    |     6 | O\n",
      " 28 | ሬ                    | 16    |  -100 | IGNORE\n",
      " 29 | ▁ነው                  | 17    |     6 | O\n",
      " 30 | ▁ያለው                 | 18    |     6 | O\n",
      " 31 | ▁አድራሻ                | 19    |     6 | O\n",
      " 32 | ▁መ                   | 20    |     6 | O\n",
      " 33 | ገና                   | 20    |  -100 | IGNORE\n",
      " 34 | ኛ                    | 20    |  -100 | IGNORE\n",
      " 35 | _                    | 20    |  -100 | IGNORE\n",
      " 36 | መሰ                   | 20    |  -100 | IGNORE\n",
      " 37 | ረት                   | 20    |  -100 | IGNORE\n",
      " 38 | _                    | 20    |  -100 | IGNORE\n",
      " 39 | ደ                    | 20    |  -100 | IGNORE\n",
      " 40 | ፋር                   | 20    |  -100 | IGNORE\n",
      " 41 | _                    | 20    |  -100 | IGNORE\n",
      " 42 | ሞ                    | 20    |  -100 | IGNORE\n",
      " 43 | ል                    | 20    |  -100 | IGNORE\n",
      " 44 | _                    | 20    |  -100 | IGNORE\n",
      " 45 | ሁለተኛ                 | 20    |  -100 | IGNORE\n",
      " 46 | _                    | 20    |  -100 | IGNORE\n",
      " 47 | ፎ                    | 20    |  -100 | IGNORE\n",
      " 48 | ቅ                    | 20    |  -100 | IGNORE\n",
      " 49 | ▁ቢሮ                  | 21    |     6 | O\n",
      " 50 | ▁ቁ                   | 22    |     6 | O\n",
      " 51 | ▁S                   | 23    |     6 | O\n",
      " 52 | 05                   | 23    |  -100 | IGNORE\n",
      " 53 | S                    | 23    |  -100 | IGNORE\n",
      " 54 | 06                   | 23    |  -100 | IGNORE\n",
      " 55 | ▁09                  | 24    |     6 | O\n",
      " 56 | 02                   | 24    |  -100 | IGNORE\n",
      " 57 | 660                  | 24    |  -100 | IGNORE\n",
      " 58 | 722                  | 24    |  -100 | IGNORE\n",
      " 59 | ▁09                  | 25    |     6 | O\n",
      " 60 | 28                   | 25    |  -100 | IGNORE\n",
      " 61 | 460                  | 25    |  -100 | IGNORE\n",
      " 62 | 606                  | 25    |  -100 | IGNORE\n",
      " 63 | ▁በ                   | 26    |     6 | O\n",
      " 64 | Tele                 | 26    |  -100 | IGNORE\n",
      " 65 | gram                 | 26    |  -100 | IGNORE\n",
      " 66 | ▁ለማ                  | 27    |     6 | O\n",
      " 67 | ዘ                    | 27    |  -100 | IGNORE\n",
      " 68 | ዝ                    | 27    |  -100 | IGNORE\n",
      " 69 | ▁ይ                   | 28    |     6 | O\n",
      " 70 | ጠቀሙ                  | 28    |  -100 | IGNORE\n",
      " 71 | ▁zem                 | 29    |     6 | O\n",
      " 72 | en                   | 29    |  -100 | IGNORE\n",
      " 73 | call                 | 29    |  -100 | IGNORE\n",
      " 74 | center               | 29    |  -100 | IGNORE\n",
      " 75 | ▁zem                 | 30    |     6 | O\n",
      " 76 | en                   | 30    |  -100 | IGNORE\n",
      " 77 | express              | 30    |  -100 | IGNORE\n",
      " 78 | admin                | 30    |  -100 | IGNORE\n",
      " 79 | ▁ለተ                  | 31    |     6 | O\n",
      " 80 | ጨ                    | 31    |  -100 | IGNORE\n",
      " 81 | ማሪ                   | 31    |  -100 | IGNORE\n",
      " 82 | ▁ማብራሪያ               | 32    |     6 | O\n",
      " 83 | ▁የ                   | 33    |     6 | O\n",
      " 84 | ቴ                    | 33    |  -100 | IGNORE\n",
      " 85 | ሌ                    | 33    |  -100 | IGNORE\n",
      " 86 | ግራ                   | 33    |  -100 | IGNORE\n",
      " 87 | ም                    | 33    |  -100 | IGNORE\n",
      " 88 | ▁ገ                   | 34    |     6 | O\n",
      " 89 | ፃ                    | 34    |  -100 | IGNORE\n",
      " 90 | ችን                   | 34    |  -100 | IGNORE\n",
      " 91 | ▁https               | 35    |     6 | O\n",
      " 92 | tele                 | 35    |  -100 | IGNORE\n",
      " 93 | gramm                | 35    |  -100 | IGNORE\n",
      " 94 | eze                  | 35    |  -100 | IGNORE\n",
      " 95 | men                  | 35    |  -100 | IGNORE\n",
      " 96 | express              | 35    |  -100 | IGNORE\n",
      " 97 | </s>                 | None  |  -100 | IGNORE\n"
     ]
    }
   ],
   "source": [
    "sample = train_dataset[0]\n",
    "tokens = tokenizer.convert_ids_to_tokens(sample['input_ids'])\n",
    "word_ids = tokenizer(sample['words'], is_split_into_words=True).word_ids()\n",
    "\n",
    "print(\"\\nToken-Label Alignment:\")\n",
    "for i, (token, word_id) in enumerate(zip(tokens, word_ids)):\n",
    "    label = sample['labels'][i]\n",
    "    print(f\"{i:3d} | {token:20} | {str(word_id):5} | {label:5} | {id2tag.get(label, 'IGNORE')}\")"
   ]
  },
  {
   "cell_type": "code",
   "execution_count": 56,
   "metadata": {
    "executionInfo": {
     "elapsed": 123,
     "status": "ok",
     "timestamp": 1750673593193,
     "user": {
      "displayName": "firezewd fentaw",
      "userId": "08469033568295705019"
     },
     "user_tz": -180
    },
    "id": "r39xeb3NRWHk"
   },
   "outputs": [],
   "source": [
    "!grep -B2 -A2 \"B-PRODUCT\" \"/content/drive/MyDrive/labeled_conll.txt\""
   ]
  },
  {
   "cell_type": "code",
   "execution_count": 60,
   "metadata": {
    "colab": {
     "base_uri": "https://localhost:8080/"
    },
    "executionInfo": {
     "elapsed": 140,
     "status": "ok",
     "timestamp": 1750673654528,
     "user": {
      "displayName": "firezewd fentaw",
      "userId": "08469033568295705019"
     },
     "user_tz": -180
    },
    "id": "2F3-OdIJRvUw",
    "outputId": "6c222391-eef3-41f9-d91c-1f0a1184d130"
   },
   "outputs": [
    {
     "name": "stdout",
     "output_type": "stream",
     "text": [
      "3pcs B-Product\r\n",
      "Bottle I-Product\r\n",
      "Stopper I-Product\r\n",
      "--\n",
      "\r\n",
      "1 O\r\n",
      "pairs B-Product\r\n",
      "Sneaker I-Product\r\n",
      "Crease I-Product\r\n",
      "--\n",
      "httpstelegrammezemenexpress O\r\n",
      "\r\n",
      "Imitation B-Product\r\n",
      "Volcano I-Product\r\n",
      "Humidifier I-Product\r\n",
      "--\n",
      "httpstelegrammezemenexpress O\r\n",
      "\r\n",
      "Baby B-Product\r\n",
      "Carrier I-Product\r\n",
      "በፈለጉት O\r\n",
      "--\n",
      "httpstelegrammezemenexpress O\r\n",
      "\r\n",
      "Smart B-Product\r\n",
      "Usb I-Product\r\n",
      "Ultrasonic I-Product\r\n",
      "--\n",
      "httpstelegrammezemenexpress O\r\n",
      "\r\n",
      "Baby B-Product\r\n",
      "Head I-Product\r\n",
      "Helmet I-Product\r\n",
      "--\n",
      "httpstelegrammezemenexpress O\r\n",
      "\r\n",
      "Baby B-Product\r\n",
      "knee I-Product\r\n",
      "socks I-Product\r\n",
      "--\n",
      "httpstelegrammezemenexpress O\r\n",
      "\r\n",
      "5in1 B-Product\r\n",
      "Trouser I-Product\r\n",
      "Hanger I-Product\r\n",
      "--\n",
      "httpstelegrammezemenexpress O\r\n",
      "\r\n",
      "WaterProof B-Product\r\n",
      "Shower I-Product\r\n",
      "Cap I-Product\r\n",
      "--\n",
      "httpstelegrammezemenexpress O\r\n",
      "\r\n",
      "Shock B-Product\r\n",
      "and I-Product\r\n",
      "Noise I-Product\r\n",
      "--\n",
      "httpstelegrammezemenexpress O\r\n",
      "\r\n",
      "Magic B-Product\r\n",
      "Silicone I-Product\r\n",
      "Dish I-Product\r\n",
      "--\n",
      "httpstelegrammezemenexpress O\r\n",
      "\r\n",
      "13pc B-Product\r\n",
      "Portable I-Product\r\n",
      "Health I-Product\r\n",
      "--\n",
      "httpstelegrammezemenexpress O\r\n",
      "\r\n",
      "Threelayer B-Product\r\n",
      "Baby I-Product\r\n",
      "Milk I-Product\r\n",
      "--\n",
      "httpstelegrammezemenexpress O\r\n",
      "\r\n",
      "Threelayer B-Product\r\n",
      "Baby I-Product\r\n",
      "Milk I-Product\r\n",
      "--\n",
      "በድጋሜ O\r\n",
      "ገብቷል O\r\n",
      "Only B-Product\r\n",
      "baby I-Product\r\n",
      "3in1 I-Product\r\n",
      "--\n",
      "httpstelegrammezemenexpress O\r\n",
      "\r\n",
      "Mini B-Product\r\n",
      "Pocket I-Product\r\n",
      "UV I-Product\r\n",
      "--\n",
      "httpstelegrammezemenexpress O\r\n",
      "\r\n",
      "Waterproof B-Product\r\n",
      "Baby I-Product\r\n",
      "Urine I-Product\r\n",
      "--\n",
      "httpstelegrammezemenexpress O\r\n",
      "\r\n",
      "Space B-Product\r\n",
      "triangles I-Product\r\n",
      "for I-Product\r\n",
      "--\n",
      "httpstelegrammezemenexpress O\r\n",
      "\r\n",
      "Door B-Product\r\n",
      "Bottom I-Product\r\n",
      "Seal I-Product\r\n",
      "--\n",
      "httpstelegrammezemenexpress O\r\n",
      "\r\n",
      "One B-Product\r\n",
      "Fire I-Product\r\n",
      "Table I-Product\r\n",
      "--\n",
      "httpstelegrammezemenexpress O\r\n",
      "\r\n",
      "Vaccuum B-Product\r\n",
      "flask I-Product\r\n",
      "set I-Product\r\n",
      "--\n",
      "httpstelegrammezemenexpress O\r\n",
      "\r\n",
      "Stainless B-Product\r\n",
      "steel I-Product\r\n",
      "potato I-Product\r\n",
      "--\n",
      "httpstelegrammezemenexpress O\r\n",
      "\r\n",
      "2 B-Product\r\n",
      "in1 I-Product\r\n",
      "Electric I-Product\r\n",
      "--\n",
      "httpstelegrammezemenexpress O\r\n",
      "\r\n",
      "Garlic B-Product\r\n",
      "press I-Product\r\n",
      "Chopper I-Product\r\n",
      "--\n",
      "httpstelegrammezemenexpress O\r\n",
      "\r\n",
      "Over B-Product\r\n",
      "Toilet I-Product\r\n",
      "Storage I-Product\r\n",
      "--\n",
      "httpstelegrammezemenexpress O\r\n",
      "\r\n",
      "Coffee B-Product\r\n",
      "Cold I-Product\r\n",
      "Extraction I-Product\r\n",
      "--\n",
      "httpstelegrammezemenexpress O\r\n",
      "\r\n",
      "Floodlight B-Product\r\n",
      "Head I-Product\r\n",
      "lamp I-Product\r\n",
      "--\n",
      "httpstelegrammezemenexpress O\r\n",
      "\r\n",
      "Car B-Product\r\n",
      "Solar I-Product\r\n",
      "Aromatherapy I-Product\r\n"
     ]
    }
   ],
   "source": [
    "!grep -B2 -A2 \"B-Product\" \"/content/drive/MyDrive/labeled_conll.txt\""
   ]
  },
  {
   "cell_type": "code",
   "execution_count": 61,
   "metadata": {
    "colab": {
     "base_uri": "https://localhost:8080/"
    },
    "executionInfo": {
     "elapsed": 30,
     "status": "ok",
     "timestamp": 1750673791313,
     "user": {
      "displayName": "firezewd fentaw",
      "userId": "08469033568295705019"
     },
     "user_tz": -180
    },
    "id": "MZo5URAqSfyO",
    "outputId": "29a87357-533b-46db-c2c5-2601c7d23909"
   },
   "outputs": [
    {
     "name": "stdout",
     "output_type": "stream",
     "text": [
      "Unique entity labels: {'B-Product', 'I-PRICE', 'I-LOC', 'B-LOC', 'I-Product', 'B-PRICE'}\n"
     ]
    }
   ],
   "source": [
    "# Check first 10 entity labels\n",
    "entity_labels = [t['ner_tag'] for sent in sentences for t in sent if t['ner_tag'] != 'O']\n",
    "print(\"Unique entity labels:\", set(entity_labels))"
   ]
  },
  {
   "cell_type": "code",
   "execution_count": 63,
   "metadata": {
    "executionInfo": {
     "elapsed": 44,
     "status": "ok",
     "timestamp": 1750673979362,
     "user": {
      "displayName": "firezewd fentaw",
      "userId": "08469033568295705019"
     },
     "user_tz": -180
    },
    "id": "pX8SchGETOE5"
   },
   "outputs": [],
   "source": [
    "tag2id = {\n",
    "    'B-LOC': 0,\n",
    "    'B-PRICE': 1,\n",
    "    'B-Product': 2,  # Original case\n",
    "    'I-Product': 5,\n",
    "    # ...\n",
    "}"
   ]
  },
  {
   "cell_type": "code",
   "execution_count": 64,
   "metadata": {
    "executionInfo": {
     "elapsed": 52,
     "status": "ok",
     "timestamp": 1750674026059,
     "user": {
      "displayName": "firezewd fentaw",
      "userId": "08469033568295705019"
     },
     "user_tz": -180
    },
    "id": "7pdEoW5hTaFk"
   },
   "outputs": [],
   "source": [
    "def read_conll_file(file_path):\n",
    "    \"\"\"Reads CONLL file and standardizes labels to UPPERCASE\"\"\"\n",
    "    with open(file_path, 'r', encoding='utf-8') as f:\n",
    "        lines = [line.strip() for line in f.readlines()]\n",
    "\n",
    "    sentences = []\n",
    "    current_sentence = []  # Initialize for each new sentence\n",
    "\n",
    "    for line in lines:\n",
    "        if not line:  # Sentence boundary\n",
    "            if current_sentence:\n",
    "                sentences.append(current_sentence)\n",
    "                current_sentence = []\n",
    "        else:\n",
    "            parts = line.split('\\t') if '\\t' in line else line.split()\n",
    "            if len(parts) >= 2:\n",
    "                current_sentence.append({\n",
    "                    'word': parts[0],\n",
    "                    'ner_tag': parts[-1].upper()  # Force uppercase\n",
    "                })\n",
    "\n",
    "    if current_sentence:  # Add last sentence if exists\n",
    "        sentences.append(current_sentence)\n",
    "\n",
    "    return sentences"
   ]
  },
  {
   "cell_type": "code",
   "execution_count": 65,
   "metadata": {
    "colab": {
     "base_uri": "https://localhost:8080/"
    },
    "executionInfo": {
     "elapsed": 72,
     "status": "ok",
     "timestamp": 1750674043094,
     "user": {
      "displayName": "firezewd fentaw",
      "userId": "08469033568295705019"
     },
     "user_tz": -180
    },
    "id": "oO4SuhEZTduJ",
    "outputId": "b1f08981-86f7-4589-ade7-f25a8d27a68d"
   },
   "outputs": [
    {
     "name": "stdout",
     "output_type": "stream",
     "text": [
      "Loaded 889 sentences\n",
      "First sentence labels: ['B-PRODUCT', 'I-PRODUCT', 'I-PRODUCT', 'O', 'O']\n"
     ]
    }
   ],
   "source": [
    "sentences = read_conll_file(\"/content/drive/MyDrive/labeled_conll.txt\")\n",
    "print(f\"Loaded {len(sentences)} sentences\")\n",
    "print(\"First sentence labels:\", [t['ner_tag'] for t in sentences[0]][:5])"
   ]
  },
  {
   "cell_type": "code",
   "execution_count": 66,
   "metadata": {
    "colab": {
     "base_uri": "https://localhost:8080/"
    },
    "executionInfo": {
     "elapsed": 53,
     "status": "ok",
     "timestamp": 1750674071910,
     "user": {
      "displayName": "firezewd fentaw",
      "userId": "08469033568295705019"
     },
     "user_tz": -180
    },
    "id": "84Nwti8cTlPb",
    "outputId": "4aaf9dfc-4e91-41d0-a82d-f8c0f64149cc"
   },
   "outputs": [
    {
     "name": "stdout",
     "output_type": "stream",
     "text": [
      "Unique tags: {'I-PRICE', 'I-LOC', 'B-PRODUCT', 'B-LOC', 'I-PRODUCT', 'O', 'B-PRICE'}\n"
     ]
    }
   ],
   "source": [
    "all_tags = set(t['ner_tag'] for sent in sentences for t in sent)\n",
    "print(\"Unique tags:\", all_tags)  # Should show UPPERCASE tags"
   ]
  },
  {
   "cell_type": "code",
   "execution_count": 67,
   "metadata": {
    "colab": {
     "base_uri": "https://localhost:8080/"
    },
    "executionInfo": {
     "elapsed": 13,
     "status": "ok",
     "timestamp": 1750674262392,
     "user": {
      "displayName": "firezewd fentaw",
      "userId": "08469033568295705019"
     },
     "user_tz": -180
    },
    "id": "lPILM1yjUS4d",
    "outputId": "02610b95-0ba8-44b9-ade7-d1fd83e7dcc2"
   },
   "outputs": [
    {
     "name": "stdout",
     "output_type": "stream",
     "text": [
      "Verification:\n",
      "B-PRODUCT → 0\n",
      "2 → B-PRICE\n"
     ]
    }
   ],
   "source": [
    "tag2id = {\n",
    "    'B-PRODUCT': 0,\n",
    "    'I-PRODUCT': 1,\n",
    "    'B-PRICE': 2,\n",
    "    'I-PRICE': 3,\n",
    "    'B-LOC': 4,\n",
    "    'I-LOC': 5,\n",
    "    'O': 6\n",
    "}\n",
    "id2tag = {v: k for k, v in tag2id.items()}\n",
    "\n",
    "print(\"Verification:\")\n",
    "print(\"B-PRODUCT →\", tag2id['B-PRODUCT'])\n",
    "print(\"2 →\", id2tag[2])"
   ]
  },
  {
   "cell_type": "code",
   "execution_count": 68,
   "metadata": {
    "colab": {
     "base_uri": "https://localhost:8080/"
    },
    "executionInfo": {
     "elapsed": 57,
     "status": "ok",
     "timestamp": 1750674295190,
     "user": {
      "displayName": "firezewd fentaw",
      "userId": "08469033568295705019"
     },
     "user_tz": -180
    },
    "id": "hR2fu2pwUbjz",
    "outputId": "d332d095-e772-43bc-c8ea-814da2573bd1"
   },
   "outputs": [
    {
     "name": "stdout",
     "output_type": "stream",
     "text": [
      "\n",
      "Label counts:\n",
      "O: 47234 samples\n",
      "I-PRODUCT: 174 samples\n",
      "I-LOC: 90 samples\n",
      "I-PRICE: 48 samples\n",
      "B-LOC: 30 samples\n",
      "B-PRODUCT: 28 samples\n",
      "B-PRICE: 28 samples\n"
     ]
    }
   ],
   "source": [
    "from collections import Counter\n",
    "\n",
    "label_counts = Counter(t['ner_tag'] for sent in sentences for t in sent)\n",
    "print(\"\\nLabel counts:\")\n",
    "for tag, count in label_counts.most_common():\n",
    "    print(f\"{tag}: {count} samples\")"
   ]
  },
  {
   "cell_type": "code",
   "execution_count": 70,
   "metadata": {
    "colab": {
     "base_uri": "https://localhost:8080/"
    },
    "executionInfo": {
     "elapsed": 173,
     "status": "ok",
     "timestamp": 1750674647636,
     "user": {
      "displayName": "firezewd fentaw",
      "userId": "08469033568295705019"
     },
     "user_tz": -180
    },
    "id": "8i31Rd9YVxrf",
    "outputId": "28667f58-2a98-41ee-f3dd-1695758dc558"
   },
   "outputs": [
    {
     "name": "stdout",
     "output_type": "stream",
     "text": [
      "Class weights:\n",
      "B-PRODUCT: 243.02\n",
      "I-PRODUCT: 39.11\n",
      "B-PRICE: 243.02\n",
      "I-PRICE: 141.76\n",
      "B-LOC: 226.82\n",
      "I-LOC: 75.61\n",
      "O: 0.14\n"
     ]
    }
   ],
   "source": [
    "import numpy as np\n",
    "from sklearn.utils.class_weight import compute_class_weight\n",
    "\n",
    "# Convert to numpy arrays\n",
    "all_labels = np.array([t['ner_tag'] for sent in sentences for t in sent])\n",
    "classes = np.array(list(tag2id.keys()))  # Must match label order in tag2id\n",
    "\n",
    "# Calculate weights\n",
    "class_weights = compute_class_weight(\n",
    "    'balanced',\n",
    "    classes=classes,\n",
    "    y=all_labels\n",
    ")\n",
    "\n",
    "# Verify weights\n",
    "print(\"Class weights:\")\n",
    "for cls, weight in zip(classes, class_weights):\n",
    "    print(f\"{cls}: {weight:.2f}\")\n",
    "\n",
    "# Convert to tensor\n",
    "weights = torch.tensor(class_weights, dtype=torch.float32).to('cuda')"
   ]
  },
  {
   "cell_type": "code",
   "execution_count": 71,
   "metadata": {
    "executionInfo": {
     "elapsed": 54,
     "status": "ok",
     "timestamp": 1750674675797,
     "user": {
      "displayName": "firezewd fentaw",
      "userId": "08469033568295705019"
     },
     "user_tz": -180
    },
    "id": "DxPtaWw-V4oQ"
   },
   "outputs": [],
   "source": [
    "# Duplicate sentences containing rare entities\n",
    "augmented_sentences = []\n",
    "for sent in sentences:\n",
    "    if any(t['ner_tag'] in ['B-PRODUCT', 'B-PRICE'] for t in sent):\n",
    "        augmented_sentences.extend([sent] * 3)  # 3x copies\n",
    "    augmented_sentences.append(sent)"
   ]
  },
  {
   "cell_type": "code",
   "execution_count": 77,
   "metadata": {
    "executionInfo": {
     "elapsed": 710,
     "status": "ok",
     "timestamp": 1750674942429,
     "user": {
      "displayName": "firezewd fentaw",
      "userId": "08469033568295705019"
     },
     "user_tz": -180
    },
    "id": "8DAvDUIYV7-H"
   },
   "outputs": [],
   "source": [
    "from transformers import TrainingArguments\n",
    "\n",
    "training_args = TrainingArguments(\n",
    "    output_dir=\"./amharic-ner-model\",\n",
    "    # Training parameters\n",
    "    per_device_train_batch_size=8,\n",
    "    per_device_eval_batch_size=8,\n",
    "    num_train_epochs=10,\n",
    "    learning_rate=3e-5,\n",
    "    weight_decay=0.01,\n",
    "\n",
    "    # Evaluation & saving\n",
    "    eval_strategy=\"steps\",        # Changed from evaluation_strategy\n",
    "    eval_steps=500,\n",
    "    save_strategy=\"steps\",\n",
    "    save_steps=500,\n",
    "\n",
    "    # Model selection\n",
    "    load_best_model_at_end=True,\n",
    "    metric_for_best_model=\"f1\",\n",
    "    greater_is_better=True,\n",
    "\n",
    "    # Logging\n",
    "    logging_steps=50,\n",
    "    report_to=\"none\",\n",
    "\n",
    "    # Optimization\n",
    "    optim=\"adamw_torch\",\n",
    "    gradient_accumulation_steps=1\n",
    ")"
   ]
  },
  {
   "cell_type": "code",
   "execution_count": 78,
   "metadata": {
    "colab": {
     "base_uri": "https://localhost:8080/"
    },
    "executionInfo": {
     "elapsed": 60,
     "status": "ok",
     "timestamp": 1750674984551,
     "user": {
      "displayName": "firezewd fentaw",
      "userId": "08469033568295705019"
     },
     "user_tz": -180
    },
    "id": "hsgkxEaIXD9l",
    "outputId": "00023fb6-8204-4d45-b24c-2a5707b97b92"
   },
   "outputs": [
    {
     "name": "stdout",
     "output_type": "stream",
     "text": [
      "Augmented counts: [('O', 50090), ('I-PRODUCT', 696), ('I-LOC', 342), ('I-PRICE', 192), ('B-LOC', 114), ('B-PRODUCT', 112), ('B-PRICE', 112)]\n"
     ]
    }
   ],
   "source": [
    "new_counts = Counter(t['ner_tag'] for sent in augmented_sentences for t in sent)\n",
    "print(\"Augmented counts:\", new_counts.most_common())"
   ]
  },
  {
   "cell_type": "code",
   "execution_count": 81,
   "metadata": {
    "executionInfo": {
     "elapsed": 7,
     "status": "ok",
     "timestamp": 1750675179225,
     "user": {
      "displayName": "firezewd fentaw",
      "userId": "08469033568295705019"
     },
     "user_tz": -180
    },
    "id": "ub7Ln4wjXIyd"
   },
   "outputs": [],
   "source": [
    "from transformers import Trainer\n",
    "import torch\n",
    "\n",
    "# 1. First calculate class weights (unchanged)\n",
    "import numpy as np\n",
    "from sklearn.utils.class_weight import compute_class_weight\n",
    "\n",
    "all_labels = np.array([t['ner_tag'] for sent in sentences for t in sent])\n",
    "classes = np.array(list(tag2id.keys()))\n",
    "\n",
    "class_weights = compute_class_weight(\n",
    "    'balanced',\n",
    "    classes=classes,\n",
    "    y=all_labels\n",
    ")\n",
    "weights = torch.tensor(class_weights, dtype=torch.float32).to('cuda' if torch.cuda.is_available() else 'cpu')\n",
    "\n",
    "# 2. Define Data Collator (new requirement)\n",
    "from transformers import DataCollatorForTokenClassification\n",
    "data_collator = DataCollatorForTokenClassification(tokenizer)\n",
    "\n",
    "# 3. Updated Weighted Trainer Class\n",
    "class WeightedTrainer(Trainer):\n",
    "    def __init__(self, *args, **kwargs):\n",
    "        # Remove tokenizer from kwargs if present\n",
    "        kwargs.pop('tokenizer', None)\n",
    "        super().__init__(*args, **kwargs)\n",
    "\n",
    "    def compute_loss(self, model, inputs, return_outputs=False):\n",
    "        labels = inputs.pop(\"labels\")\n",
    "        outputs = model(**inputs)\n",
    "        logits = outputs.logits\n",
    "\n",
    "        loss_fct = torch.nn.CrossEntropyLoss(weight=weights)\n",
    "        loss = loss_fct(\n",
    "            logits.view(-1, model.config.num_labels),\n",
    "            labels.view(-1)\n",
    "        )\n",
    "\n",
    "        return (loss, outputs) if return_outputs else loss\n",
    "\n",
    "# 4. Create trainer with new syntax\n",
    "trainer = WeightedTrainer(\n",
    "    model=model,\n",
    "    args=training_args,\n",
    "    train_dataset=tokenized_dataset,\n",
    "    eval_dataset=val_dataset if 'val_dataset' in locals() else None,\n",
    "    compute_metrics=compute_metrics,\n",
    "    data_collator=data_collator  # Replaces tokenizer parameter\n",
    ")"
   ]
  },
  {
   "cell_type": "code",
   "execution_count": 83,
   "metadata": {
    "colab": {
     "base_uri": "https://localhost:8080/"
    },
    "executionInfo": {
     "elapsed": 59,
     "status": "ok",
     "timestamp": 1750675476873,
     "user": {
      "displayName": "firezewd fentaw",
      "userId": "08469033568295705019"
     },
     "user_tz": -180
    },
    "id": "AWEBUuccX43W",
    "outputId": "02fd6b09-e510-4e90-867d-ed0b584c3971"
   },
   "outputs": [
    {
     "name": "stdout",
     "output_type": "stream",
     "text": [
      "Sample dataset item: {'words': ['3pcs', 'Bottle', 'Stopper', 'በማንኛውም', 'ጠርሙስ', 'ጫፍ', 'የሚገጠም', 'ለዘይት', 'እና', 'መሰል', 'ነገሮች', 'መቀነሻ', 'የሚሆን', 'በአግባቡ', 'እየመጠንን', 'ለመጠቀም', 'ተመራጭ', 'ዋጋ፦', '3ፍሬ', '400', 'ብር', 'ውስን', 'ፍሬ', 'ነው', 'ያለው', 'አድራሻ', 'መገናኛ_መሰረት_ደፋር_ሞል_ሁለተኛ_ፎቅ', 'ቢሮ', 'ቁ', 'S05S06', '0902660722', '0928460606', 'በTelegram', 'ለማዘዝ', 'ይጠቀሙ', 'zemencallcenter', 'zemenexpressadmin', 'ለተጨማሪ', 'ማብራሪያ', 'የቴሌግራም', 'ገፃችን', 'httpstelegrammezemenexpress'], 'labels': [-100, 2, -100, -100, 5, -100, 5, -100, 6, -100, 6, -100, -100, 6, -100, -100, 6, -100, -100, -100, 6, -100, -100, 6, 6, -100, 6, 6, -100, -100, 6, 6, 6, -100, -100, -100, 6, -100, 6, -100, -100, 1, -100, 4, -100, -100, 4, 4, 6, -100, -100, 6, -100, 6, 6, 6, 0, -100, -100, -100, -100, -100, -100, -100, -100, -100, -100, -100, -100, -100, -100, -100, -100, 3, 3, 3, -100, -100, -100, 6, -100, -100, -100, 6, -100, -100, -100, 6, -100, -100, 6, -100, -100, 6, -100, 6, -100, -100, -100, 6, -100, -100, -100, 6, -100, -100, 6, 6, -100, -100, -100, -100, 6, -100, -100, 6, -100, -100, -100, -100, -100, -100, -100, -100, -100, -100, -100, -100], 'input_ids': [0, 138, 57095, 7, 2460, 46401, 42284, 1264, 728, 111902, 6, 57355, 187766, 6, 15741, 4722, 2627, 5430, 6839, 816, 2237, 9039, 78953, 2302, 2370, 88453, 75868, 168038, 4974, 11536, 213301, 240363, 13298, 6231, 82994, 548, 9081, 136758, 2981, 41295, 13799, 80667, 54164, 138, 4722, 13199, 4082, 35648, 6, 100579, 548, 29831, 13199, 3053, 23683, 140042, 2370, 60014, 9171, 454, 93561, 47227, 454, 4555, 191973, 454, 13357, 2202, 454, 115742, 454, 31531, 5653, 137526, 47885, 159, 8194, 294, 9016, 3894, 9550, 89709, 191539, 3894, 3882, 158332, 161025, 728, 75809, 25561, 13253, 9039, 7872, 2934, 169422, 27870, 33, 85763, 30090, 27870, 33, 136091, 135087, 91602, 16333, 124449, 243084, 623, 17680, 10824, 70317, 816, 24163, 29307, 23374, 3975, 3025, 107415, 6659, 1055, 136091, 2, 1, 1, 1, 1, 1, 1], 'attention_mask': [1, 1, 1, 1, 1, 1, 1, 1, 1, 1, 1, 1, 1, 1, 1, 1, 1, 1, 1, 1, 1, 1, 1, 1, 1, 1, 1, 1, 1, 1, 1, 1, 1, 1, 1, 1, 1, 1, 1, 1, 1, 1, 1, 1, 1, 1, 1, 1, 1, 1, 1, 1, 1, 1, 1, 1, 1, 1, 1, 1, 1, 1, 1, 1, 1, 1, 1, 1, 1, 1, 1, 1, 1, 1, 1, 1, 1, 1, 1, 1, 1, 1, 1, 1, 1, 1, 1, 1, 1, 1, 1, 1, 1, 1, 1, 1, 1, 1, 1, 1, 1, 1, 1, 1, 1, 1, 1, 1, 1, 1, 1, 1, 1, 1, 1, 1, 1, 1, 1, 1, 1, 1, 0, 0, 0, 0, 0, 0]}\n"
     ]
    }
   ],
   "source": [
    "print(\"Sample dataset item:\", tokenized_dataset[0])\n",
    "# Should show properly formatted dict with:\n",
    "# {'input_ids': [...], 'attention_mask': [...], 'labels': [...]}"
   ]
  },
  {
   "cell_type": "code",
   "execution_count": 86,
   "metadata": {
    "colab": {
     "base_uri": "https://localhost:8080/"
    },
    "executionInfo": {
     "elapsed": 10,
     "status": "ok",
     "timestamp": 1750675777828,
     "user": {
      "displayName": "firezewd fentaw",
      "userId": "08469033568295705019"
     },
     "user_tz": -180
    },
    "id": "C1hycjLoaFLk",
    "outputId": "3770e8f3-87a4-4e60-ec0c-5af1df3fa6de"
   },
   "outputs": [
    {
     "name": "stdout",
     "output_type": "stream",
     "text": [
      "[]\n"
     ]
    }
   ],
   "source": [
    "print(trainer.state.log_history)"
   ]
  },
  {
   "cell_type": "code",
   "execution_count": 87,
   "metadata": {
    "colab": {
     "base_uri": "https://localhost:8080/"
    },
    "executionInfo": {
     "elapsed": 1214,
     "status": "ok",
     "timestamp": 1750676009015,
     "user": {
      "displayName": "firezewd fentaw",
      "userId": "08469033568295705019"
     },
     "user_tz": -180
    },
    "id": "ydzhDZXQa8x_",
    "outputId": "e3d93b4c-bb3a-47a5-a028-07f236275fe8"
   },
   "outputs": [
    {
     "name": "stderr",
     "output_type": "stream",
     "text": [
      "Device set to use cuda:0\n"
     ]
    }
   ],
   "source": [
    "from transformers import pipeline\n",
    "\n",
    "# Load your saved model (adjust path as needed)\n",
    "model_path = \"./amharic-ner-model-final\"  # or \"/content/drive/MyDrive/amharic-ner-model\"\n",
    "ner_pipeline = pipeline(\n",
    "    \"ner\",\n",
    "    model=model_path,\n",
    "    tokenizer=model_path,\n",
    "    aggregation_strategy=\"simple\",  # Groups subwords into words\n",
    "    device=0 if torch.cuda.is_available() else -1  # Use GPU if available\n",
    ")"
   ]
  },
  {
   "cell_type": "code",
   "execution_count": 88,
   "metadata": {
    "colab": {
     "base_uri": "https://localhost:8080/"
    },
    "executionInfo": {
     "elapsed": 2134,
     "status": "ok",
     "timestamp": 1750676083855,
     "user": {
      "displayName": "firezewd fentaw",
      "userId": "08469033568295705019"
     },
     "user_tz": -180
    },
    "id": "pPwCxEUGbH1b",
    "outputId": "77852e4b-974e-446b-e50f-1d35456503b0"
   },
   "outputs": [
    {
     "name": "stderr",
     "output_type": "stream",
     "text": [
      "Device set to use cuda:0\n"
     ]
    }
   ],
   "source": [
    "from transformers import pipeline\n",
    "\n",
    "# Load your saved model (adjust path as needed)\n",
    "model_path = \"/content/drive/MyDrive/amharic-ner-model\"  # or \"/content/drive/MyDrive/amharic-ner-model\"\n",
    "ner_pipeline = pipeline(\n",
    "    \"ner\",\n",
    "    model=model_path,\n",
    "    tokenizer=model_path,\n",
    "    aggregation_strategy=\"simple\",  # Groups subwords into words\n",
    "    device=0 if torch.cuda.is_available() else -1  # Use GPU if available\n",
    ")"
   ]
  }
 ],
 "metadata": {
  "accelerator": "GPU",
  "colab": {
   "authorship_tag": "ABX9TyMa81qaN5ykOajuk4xe+Sv5",
   "gpuType": "T4",
   "provenance": []
  },
  "kernelspec": {
   "display_name": "Python 3",
   "name": "python3"
  },
  "language_info": {
   "name": "python"
  },
  "widgets": {
   "application/vnd.jupyter.widget-state+json": {
    "00bce35094f749eba201e60811fef2ed": {
     "model_module": "@jupyter-widgets/controls",
     "model_module_version": "1.5.0",
     "model_name": "DescriptionStyleModel",
     "state": {
      "_model_module": "@jupyter-widgets/controls",
      "_model_module_version": "1.5.0",
      "_model_name": "DescriptionStyleModel",
      "_view_count": null,
      "_view_module": "@jupyter-widgets/base",
      "_view_module_version": "1.2.0",
      "_view_name": "StyleView",
      "description_width": ""
     }
    },
    "01b53a151ceb4ab1875b903b51d66a07": {
     "model_module": "@jupyter-widgets/controls",
     "model_module_version": "1.5.0",
     "model_name": "HTMLModel",
     "state": {
      "_dom_classes": [],
      "_model_module": "@jupyter-widgets/controls",
      "_model_module_version": "1.5.0",
      "_model_name": "HTMLModel",
      "_view_count": null,
      "_view_module": "@jupyter-widgets/controls",
      "_view_module_version": "1.5.0",
      "_view_name": "HTMLView",
      "description": "",
      "description_tooltip": null,
      "layout": "IPY_MODEL_f214262913d14c8191dc50a679113640",
      "placeholder": "​",
      "style": "IPY_MODEL_c37f0c9904b84bb5bd3a82eb15b48a50",
      "value": "tokenizer.json: 100%"
     }
    },
    "043bb7b170ad4296ae7a66ce17d7fddc": {
     "model_module": "@jupyter-widgets/controls",
     "model_module_version": "1.5.0",
     "model_name": "HTMLModel",
     "state": {
      "_dom_classes": [],
      "_model_module": "@jupyter-widgets/controls",
      "_model_module_version": "1.5.0",
      "_model_name": "HTMLModel",
      "_view_count": null,
      "_view_module": "@jupyter-widgets/controls",
      "_view_module_version": "1.5.0",
      "_view_name": "HTMLView",
      "description": "",
      "description_tooltip": null,
      "layout": "IPY_MODEL_4c1ae6835dd84cc58807bb3869f1367a",
      "placeholder": "​",
      "style": "IPY_MODEL_b4ea67264f464faa8806063d517c5ab8",
      "value": "model.safetensors: 100%"
     }
    },
    "06f1b085b1034f11adb670bdd9cebd69": {
     "model_module": "@jupyter-widgets/controls",
     "model_module_version": "1.5.0",
     "model_name": "HTMLModel",
     "state": {
      "_dom_classes": [],
      "_model_module": "@jupyter-widgets/controls",
      "_model_module_version": "1.5.0",
      "_model_name": "HTMLModel",
      "_view_count": null,
      "_view_module": "@jupyter-widgets/controls",
      "_view_module_version": "1.5.0",
      "_view_name": "HTMLView",
      "description": "",
      "description_tooltip": null,
      "layout": "IPY_MODEL_c1a538a1c43c42baac6c506738cc8daa",
      "placeholder": "​",
      "style": "IPY_MODEL_00bce35094f749eba201e60811fef2ed",
      "value": " 1.12G/1.12G [00:14&lt;00:00, 136MB/s]"
     }
    },
    "095b2fb4b4924a42981f0990dbd74f67": {
     "model_module": "@jupyter-widgets/controls",
     "model_module_version": "1.5.0",
     "model_name": "DescriptionStyleModel",
     "state": {
      "_model_module": "@jupyter-widgets/controls",
      "_model_module_version": "1.5.0",
      "_model_name": "DescriptionStyleModel",
      "_view_count": null,
      "_view_module": "@jupyter-widgets/base",
      "_view_module_version": "1.2.0",
      "_view_name": "StyleView",
      "description_width": ""
     }
    },
    "0cd59c2f17f74c2f8122e8638f0ebafe": {
     "model_module": "@jupyter-widgets/controls",
     "model_module_version": "1.5.0",
     "model_name": "FloatProgressModel",
     "state": {
      "_dom_classes": [],
      "_model_module": "@jupyter-widgets/controls",
      "_model_module_version": "1.5.0",
      "_model_name": "FloatProgressModel",
      "_view_count": null,
      "_view_module": "@jupyter-widgets/controls",
      "_view_module_version": "1.5.0",
      "_view_name": "ProgressView",
      "bar_style": "success",
      "description": "",
      "description_tooltip": null,
      "layout": "IPY_MODEL_4a845c69623143d6878d926d1d2be402",
      "max": 889,
      "min": 0,
      "orientation": "horizontal",
      "style": "IPY_MODEL_f1c71d2145e64c1fbaa062fe2f068ab6",
      "value": 889
     }
    },
    "0f5d5a85c75c41e6849c8765f95e4516": {
     "model_module": "@jupyter-widgets/controls",
     "model_module_version": "1.5.0",
     "model_name": "DescriptionStyleModel",
     "state": {
      "_model_module": "@jupyter-widgets/controls",
      "_model_module_version": "1.5.0",
      "_model_name": "DescriptionStyleModel",
      "_view_count": null,
      "_view_module": "@jupyter-widgets/base",
      "_view_module_version": "1.2.0",
      "_view_name": "StyleView",
      "description_width": ""
     }
    },
    "1b57388c61924914a5cf7cb26ff34398": {
     "model_module": "@jupyter-widgets/base",
     "model_module_version": "1.2.0",
     "model_name": "LayoutModel",
     "state": {
      "_model_module": "@jupyter-widgets/base",
      "_model_module_version": "1.2.0",
      "_model_name": "LayoutModel",
      "_view_count": null,
      "_view_module": "@jupyter-widgets/base",
      "_view_module_version": "1.2.0",
      "_view_name": "LayoutView",
      "align_content": null,
      "align_items": null,
      "align_self": null,
      "border": null,
      "bottom": null,
      "display": null,
      "flex": null,
      "flex_flow": null,
      "grid_area": null,
      "grid_auto_columns": null,
      "grid_auto_flow": null,
      "grid_auto_rows": null,
      "grid_column": null,
      "grid_gap": null,
      "grid_row": null,
      "grid_template_areas": null,
      "grid_template_columns": null,
      "grid_template_rows": null,
      "height": null,
      "justify_content": null,
      "justify_items": null,
      "left": null,
      "margin": null,
      "max_height": null,
      "max_width": null,
      "min_height": null,
      "min_width": null,
      "object_fit": null,
      "object_position": null,
      "order": null,
      "overflow": null,
      "overflow_x": null,
      "overflow_y": null,
      "padding": null,
      "right": null,
      "top": null,
      "visibility": null,
      "width": null
     }
    },
    "2acf6a9ad3b6435d96cbc447eda661d5": {
     "model_module": "@jupyter-widgets/controls",
     "model_module_version": "1.5.0",
     "model_name": "HTMLModel",
     "state": {
      "_dom_classes": [],
      "_model_module": "@jupyter-widgets/controls",
      "_model_module_version": "1.5.0",
      "_model_name": "HTMLModel",
      "_view_count": null,
      "_view_module": "@jupyter-widgets/controls",
      "_view_module_version": "1.5.0",
      "_view_name": "HTMLView",
      "description": "",
      "description_tooltip": null,
      "layout": "IPY_MODEL_adf7831902984d8e991ac45f8f861fe8",
      "placeholder": "​",
      "style": "IPY_MODEL_90750af16fe845c69e581898773ee489",
      "value": " 615/615 [00:00&lt;00:00, 25.9kB/s]"
     }
    },
    "2ccb478fa42f4682bdc423ffb245d7bc": {
     "model_module": "@jupyter-widgets/controls",
     "model_module_version": "1.5.0",
     "model_name": "DescriptionStyleModel",
     "state": {
      "_model_module": "@jupyter-widgets/controls",
      "_model_module_version": "1.5.0",
      "_model_name": "DescriptionStyleModel",
      "_view_count": null,
      "_view_module": "@jupyter-widgets/base",
      "_view_module_version": "1.2.0",
      "_view_name": "StyleView",
      "description_width": ""
     }
    },
    "30d3d04eed45474da444a553064e3214": {
     "model_module": "@jupyter-widgets/controls",
     "model_module_version": "1.5.0",
     "model_name": "HTMLModel",
     "state": {
      "_dom_classes": [],
      "_model_module": "@jupyter-widgets/controls",
      "_model_module_version": "1.5.0",
      "_model_name": "HTMLModel",
      "_view_count": null,
      "_view_module": "@jupyter-widgets/controls",
      "_view_module_version": "1.5.0",
      "_view_name": "HTMLView",
      "description": "",
      "description_tooltip": null,
      "layout": "IPY_MODEL_80f002b4afaf4986865520e257d184b4",
      "placeholder": "​",
      "style": "IPY_MODEL_b32d4614ffee41708fd1c54ba3c20fd8",
      "value": " 889/889 [00:01&lt;00:00, 905.33 examples/s]"
     }
    },
    "376033591baf44eab28740e6181aaba8": {
     "model_module": "@jupyter-widgets/base",
     "model_module_version": "1.2.0",
     "model_name": "LayoutModel",
     "state": {
      "_model_module": "@jupyter-widgets/base",
      "_model_module_version": "1.2.0",
      "_model_name": "LayoutModel",
      "_view_count": null,
      "_view_module": "@jupyter-widgets/base",
      "_view_module_version": "1.2.0",
      "_view_name": "LayoutView",
      "align_content": null,
      "align_items": null,
      "align_self": null,
      "border": null,
      "bottom": null,
      "display": null,
      "flex": null,
      "flex_flow": null,
      "grid_area": null,
      "grid_auto_columns": null,
      "grid_auto_flow": null,
      "grid_auto_rows": null,
      "grid_column": null,
      "grid_gap": null,
      "grid_row": null,
      "grid_template_areas": null,
      "grid_template_columns": null,
      "grid_template_rows": null,
      "height": null,
      "justify_content": null,
      "justify_items": null,
      "left": null,
      "margin": null,
      "max_height": null,
      "max_width": null,
      "min_height": null,
      "min_width": null,
      "object_fit": null,
      "object_position": null,
      "order": null,
      "overflow": null,
      "overflow_x": null,
      "overflow_y": null,
      "padding": null,
      "right": null,
      "top": null,
      "visibility": null,
      "width": null
     }
    },
    "381ceb5408d8475ab95ef844b362060c": {
     "model_module": "@jupyter-widgets/controls",
     "model_module_version": "1.5.0",
     "model_name": "DescriptionStyleModel",
     "state": {
      "_model_module": "@jupyter-widgets/controls",
      "_model_module_version": "1.5.0",
      "_model_name": "DescriptionStyleModel",
      "_view_count": null,
      "_view_module": "@jupyter-widgets/base",
      "_view_module_version": "1.2.0",
      "_view_name": "StyleView",
      "description_width": ""
     }
    },
    "3b3c72bcfb8e46fba2dfa0b2ea8af8ac": {
     "model_module": "@jupyter-widgets/controls",
     "model_module_version": "1.5.0",
     "model_name": "HTMLModel",
     "state": {
      "_dom_classes": [],
      "_model_module": "@jupyter-widgets/controls",
      "_model_module_version": "1.5.0",
      "_model_name": "HTMLModel",
      "_view_count": null,
      "_view_module": "@jupyter-widgets/controls",
      "_view_module_version": "1.5.0",
      "_view_name": "HTMLView",
      "description": "",
      "description_tooltip": null,
      "layout": "IPY_MODEL_5957ab44f6b94b1195872356dede6e52",
      "placeholder": "​",
      "style": "IPY_MODEL_2ccb478fa42f4682bdc423ffb245d7bc",
      "value": " 25.0/25.0 [00:00&lt;00:00, 852B/s]"
     }
    },
    "40ee9ddf0cce4a43bce5e80319c87b7d": {
     "model_module": "@jupyter-widgets/controls",
     "model_module_version": "1.5.0",
     "model_name": "ProgressStyleModel",
     "state": {
      "_model_module": "@jupyter-widgets/controls",
      "_model_module_version": "1.5.0",
      "_model_name": "ProgressStyleModel",
      "_view_count": null,
      "_view_module": "@jupyter-widgets/base",
      "_view_module_version": "1.2.0",
      "_view_name": "StyleView",
      "bar_color": null,
      "description_width": ""
     }
    },
    "42a787540b7f4cde8ee8f6544ceb0a1e": {
     "model_module": "@jupyter-widgets/controls",
     "model_module_version": "1.5.0",
     "model_name": "FloatProgressModel",
     "state": {
      "_dom_classes": [],
      "_model_module": "@jupyter-widgets/controls",
      "_model_module_version": "1.5.0",
      "_model_name": "FloatProgressModel",
      "_view_count": null,
      "_view_module": "@jupyter-widgets/controls",
      "_view_module_version": "1.5.0",
      "_view_name": "ProgressView",
      "bar_style": "success",
      "description": "",
      "description_tooltip": null,
      "layout": "IPY_MODEL_5cc2303fd42d458091fc67a9f30b4644",
      "max": 25,
      "min": 0,
      "orientation": "horizontal",
      "style": "IPY_MODEL_b3ac6116286e495a9d6bdfe51e359fb8",
      "value": 25
     }
    },
    "432dde9063d04ee9a30ee5179e175512": {
     "model_module": "@jupyter-widgets/base",
     "model_module_version": "1.2.0",
     "model_name": "LayoutModel",
     "state": {
      "_model_module": "@jupyter-widgets/base",
      "_model_module_version": "1.2.0",
      "_model_name": "LayoutModel",
      "_view_count": null,
      "_view_module": "@jupyter-widgets/base",
      "_view_module_version": "1.2.0",
      "_view_name": "LayoutView",
      "align_content": null,
      "align_items": null,
      "align_self": null,
      "border": null,
      "bottom": null,
      "display": null,
      "flex": null,
      "flex_flow": null,
      "grid_area": null,
      "grid_auto_columns": null,
      "grid_auto_flow": null,
      "grid_auto_rows": null,
      "grid_column": null,
      "grid_gap": null,
      "grid_row": null,
      "grid_template_areas": null,
      "grid_template_columns": null,
      "grid_template_rows": null,
      "height": null,
      "justify_content": null,
      "justify_items": null,
      "left": null,
      "margin": null,
      "max_height": null,
      "max_width": null,
      "min_height": null,
      "min_width": null,
      "object_fit": null,
      "object_position": null,
      "order": null,
      "overflow": null,
      "overflow_x": null,
      "overflow_y": null,
      "padding": null,
      "right": null,
      "top": null,
      "visibility": null,
      "width": null
     }
    },
    "43f1585fd58247968f8fa1ad4052594f": {
     "model_module": "@jupyter-widgets/base",
     "model_module_version": "1.2.0",
     "model_name": "LayoutModel",
     "state": {
      "_model_module": "@jupyter-widgets/base",
      "_model_module_version": "1.2.0",
      "_model_name": "LayoutModel",
      "_view_count": null,
      "_view_module": "@jupyter-widgets/base",
      "_view_module_version": "1.2.0",
      "_view_name": "LayoutView",
      "align_content": null,
      "align_items": null,
      "align_self": null,
      "border": null,
      "bottom": null,
      "display": null,
      "flex": null,
      "flex_flow": null,
      "grid_area": null,
      "grid_auto_columns": null,
      "grid_auto_flow": null,
      "grid_auto_rows": null,
      "grid_column": null,
      "grid_gap": null,
      "grid_row": null,
      "grid_template_areas": null,
      "grid_template_columns": null,
      "grid_template_rows": null,
      "height": null,
      "justify_content": null,
      "justify_items": null,
      "left": null,
      "margin": null,
      "max_height": null,
      "max_width": null,
      "min_height": null,
      "min_width": null,
      "object_fit": null,
      "object_position": null,
      "order": null,
      "overflow": null,
      "overflow_x": null,
      "overflow_y": null,
      "padding": null,
      "right": null,
      "top": null,
      "visibility": null,
      "width": null
     }
    },
    "48a8a0cebc704fe690385fd5a2178d55": {
     "model_module": "@jupyter-widgets/controls",
     "model_module_version": "1.5.0",
     "model_name": "HBoxModel",
     "state": {
      "_dom_classes": [],
      "_model_module": "@jupyter-widgets/controls",
      "_model_module_version": "1.5.0",
      "_model_name": "HBoxModel",
      "_view_count": null,
      "_view_module": "@jupyter-widgets/controls",
      "_view_module_version": "1.5.0",
      "_view_name": "HBoxView",
      "box_style": "",
      "children": [
       "IPY_MODEL_8da95601cd4a43f9b42fe257be0ba681",
       "IPY_MODEL_d9aa664f56124c788ceb1e2a490f1976",
       "IPY_MODEL_2acf6a9ad3b6435d96cbc447eda661d5"
      ],
      "layout": "IPY_MODEL_afb605a6abc7418e823af2f945f412f7"
     }
    },
    "4a845c69623143d6878d926d1d2be402": {
     "model_module": "@jupyter-widgets/base",
     "model_module_version": "1.2.0",
     "model_name": "LayoutModel",
     "state": {
      "_model_module": "@jupyter-widgets/base",
      "_model_module_version": "1.2.0",
      "_model_name": "LayoutModel",
      "_view_count": null,
      "_view_module": "@jupyter-widgets/base",
      "_view_module_version": "1.2.0",
      "_view_name": "LayoutView",
      "align_content": null,
      "align_items": null,
      "align_self": null,
      "border": null,
      "bottom": null,
      "display": null,
      "flex": null,
      "flex_flow": null,
      "grid_area": null,
      "grid_auto_columns": null,
      "grid_auto_flow": null,
      "grid_auto_rows": null,
      "grid_column": null,
      "grid_gap": null,
      "grid_row": null,
      "grid_template_areas": null,
      "grid_template_columns": null,
      "grid_template_rows": null,
      "height": null,
      "justify_content": null,
      "justify_items": null,
      "left": null,
      "margin": null,
      "max_height": null,
      "max_width": null,
      "min_height": null,
      "min_width": null,
      "object_fit": null,
      "object_position": null,
      "order": null,
      "overflow": null,
      "overflow_x": null,
      "overflow_y": null,
      "padding": null,
      "right": null,
      "top": null,
      "visibility": null,
      "width": null
     }
    },
    "4c1ae6835dd84cc58807bb3869f1367a": {
     "model_module": "@jupyter-widgets/base",
     "model_module_version": "1.2.0",
     "model_name": "LayoutModel",
     "state": {
      "_model_module": "@jupyter-widgets/base",
      "_model_module_version": "1.2.0",
      "_model_name": "LayoutModel",
      "_view_count": null,
      "_view_module": "@jupyter-widgets/base",
      "_view_module_version": "1.2.0",
      "_view_name": "LayoutView",
      "align_content": null,
      "align_items": null,
      "align_self": null,
      "border": null,
      "bottom": null,
      "display": null,
      "flex": null,
      "flex_flow": null,
      "grid_area": null,
      "grid_auto_columns": null,
      "grid_auto_flow": null,
      "grid_auto_rows": null,
      "grid_column": null,
      "grid_gap": null,
      "grid_row": null,
      "grid_template_areas": null,
      "grid_template_columns": null,
      "grid_template_rows": null,
      "height": null,
      "justify_content": null,
      "justify_items": null,
      "left": null,
      "margin": null,
      "max_height": null,
      "max_width": null,
      "min_height": null,
      "min_width": null,
      "object_fit": null,
      "object_position": null,
      "order": null,
      "overflow": null,
      "overflow_x": null,
      "overflow_y": null,
      "padding": null,
      "right": null,
      "top": null,
      "visibility": null,
      "width": null
     }
    },
    "4ec2aa0022cc4dfd96676210ee179d96": {
     "model_module": "@jupyter-widgets/controls",
     "model_module_version": "1.5.0",
     "model_name": "ProgressStyleModel",
     "state": {
      "_model_module": "@jupyter-widgets/controls",
      "_model_module_version": "1.5.0",
      "_model_name": "ProgressStyleModel",
      "_view_count": null,
      "_view_module": "@jupyter-widgets/base",
      "_view_module_version": "1.2.0",
      "_view_name": "StyleView",
      "bar_color": null,
      "description_width": ""
     }
    },
    "53b8489755d44632ad0ffa0a40787825": {
     "model_module": "@jupyter-widgets/base",
     "model_module_version": "1.2.0",
     "model_name": "LayoutModel",
     "state": {
      "_model_module": "@jupyter-widgets/base",
      "_model_module_version": "1.2.0",
      "_model_name": "LayoutModel",
      "_view_count": null,
      "_view_module": "@jupyter-widgets/base",
      "_view_module_version": "1.2.0",
      "_view_name": "LayoutView",
      "align_content": null,
      "align_items": null,
      "align_self": null,
      "border": null,
      "bottom": null,
      "display": null,
      "flex": null,
      "flex_flow": null,
      "grid_area": null,
      "grid_auto_columns": null,
      "grid_auto_flow": null,
      "grid_auto_rows": null,
      "grid_column": null,
      "grid_gap": null,
      "grid_row": null,
      "grid_template_areas": null,
      "grid_template_columns": null,
      "grid_template_rows": null,
      "height": null,
      "justify_content": null,
      "justify_items": null,
      "left": null,
      "margin": null,
      "max_height": null,
      "max_width": null,
      "min_height": null,
      "min_width": null,
      "object_fit": null,
      "object_position": null,
      "order": null,
      "overflow": null,
      "overflow_x": null,
      "overflow_y": null,
      "padding": null,
      "right": null,
      "top": null,
      "visibility": null,
      "width": null
     }
    },
    "58d31041d5164eb499cfd6a801d83f87": {
     "model_module": "@jupyter-widgets/base",
     "model_module_version": "1.2.0",
     "model_name": "LayoutModel",
     "state": {
      "_model_module": "@jupyter-widgets/base",
      "_model_module_version": "1.2.0",
      "_model_name": "LayoutModel",
      "_view_count": null,
      "_view_module": "@jupyter-widgets/base",
      "_view_module_version": "1.2.0",
      "_view_name": "LayoutView",
      "align_content": null,
      "align_items": null,
      "align_self": null,
      "border": null,
      "bottom": null,
      "display": null,
      "flex": null,
      "flex_flow": null,
      "grid_area": null,
      "grid_auto_columns": null,
      "grid_auto_flow": null,
      "grid_auto_rows": null,
      "grid_column": null,
      "grid_gap": null,
      "grid_row": null,
      "grid_template_areas": null,
      "grid_template_columns": null,
      "grid_template_rows": null,
      "height": null,
      "justify_content": null,
      "justify_items": null,
      "left": null,
      "margin": null,
      "max_height": null,
      "max_width": null,
      "min_height": null,
      "min_width": null,
      "object_fit": null,
      "object_position": null,
      "order": null,
      "overflow": null,
      "overflow_x": null,
      "overflow_y": null,
      "padding": null,
      "right": null,
      "top": null,
      "visibility": null,
      "width": null
     }
    },
    "592966e07d1f4d32acfe1c6569eed31d": {
     "model_module": "@jupyter-widgets/base",
     "model_module_version": "1.2.0",
     "model_name": "LayoutModel",
     "state": {
      "_model_module": "@jupyter-widgets/base",
      "_model_module_version": "1.2.0",
      "_model_name": "LayoutModel",
      "_view_count": null,
      "_view_module": "@jupyter-widgets/base",
      "_view_module_version": "1.2.0",
      "_view_name": "LayoutView",
      "align_content": null,
      "align_items": null,
      "align_self": null,
      "border": null,
      "bottom": null,
      "display": null,
      "flex": null,
      "flex_flow": null,
      "grid_area": null,
      "grid_auto_columns": null,
      "grid_auto_flow": null,
      "grid_auto_rows": null,
      "grid_column": null,
      "grid_gap": null,
      "grid_row": null,
      "grid_template_areas": null,
      "grid_template_columns": null,
      "grid_template_rows": null,
      "height": null,
      "justify_content": null,
      "justify_items": null,
      "left": null,
      "margin": null,
      "max_height": null,
      "max_width": null,
      "min_height": null,
      "min_width": null,
      "object_fit": null,
      "object_position": null,
      "order": null,
      "overflow": null,
      "overflow_x": null,
      "overflow_y": null,
      "padding": null,
      "right": null,
      "top": null,
      "visibility": null,
      "width": null
     }
    },
    "5957ab44f6b94b1195872356dede6e52": {
     "model_module": "@jupyter-widgets/base",
     "model_module_version": "1.2.0",
     "model_name": "LayoutModel",
     "state": {
      "_model_module": "@jupyter-widgets/base",
      "_model_module_version": "1.2.0",
      "_model_name": "LayoutModel",
      "_view_count": null,
      "_view_module": "@jupyter-widgets/base",
      "_view_module_version": "1.2.0",
      "_view_name": "LayoutView",
      "align_content": null,
      "align_items": null,
      "align_self": null,
      "border": null,
      "bottom": null,
      "display": null,
      "flex": null,
      "flex_flow": null,
      "grid_area": null,
      "grid_auto_columns": null,
      "grid_auto_flow": null,
      "grid_auto_rows": null,
      "grid_column": null,
      "grid_gap": null,
      "grid_row": null,
      "grid_template_areas": null,
      "grid_template_columns": null,
      "grid_template_rows": null,
      "height": null,
      "justify_content": null,
      "justify_items": null,
      "left": null,
      "margin": null,
      "max_height": null,
      "max_width": null,
      "min_height": null,
      "min_width": null,
      "object_fit": null,
      "object_position": null,
      "order": null,
      "overflow": null,
      "overflow_x": null,
      "overflow_y": null,
      "padding": null,
      "right": null,
      "top": null,
      "visibility": null,
      "width": null
     }
    },
    "5b99dcba9d9c457d827ce6f127290bcc": {
     "model_module": "@jupyter-widgets/base",
     "model_module_version": "1.2.0",
     "model_name": "LayoutModel",
     "state": {
      "_model_module": "@jupyter-widgets/base",
      "_model_module_version": "1.2.0",
      "_model_name": "LayoutModel",
      "_view_count": null,
      "_view_module": "@jupyter-widgets/base",
      "_view_module_version": "1.2.0",
      "_view_name": "LayoutView",
      "align_content": null,
      "align_items": null,
      "align_self": null,
      "border": null,
      "bottom": null,
      "display": null,
      "flex": null,
      "flex_flow": null,
      "grid_area": null,
      "grid_auto_columns": null,
      "grid_auto_flow": null,
      "grid_auto_rows": null,
      "grid_column": null,
      "grid_gap": null,
      "grid_row": null,
      "grid_template_areas": null,
      "grid_template_columns": null,
      "grid_template_rows": null,
      "height": null,
      "justify_content": null,
      "justify_items": null,
      "left": null,
      "margin": null,
      "max_height": null,
      "max_width": null,
      "min_height": null,
      "min_width": null,
      "object_fit": null,
      "object_position": null,
      "order": null,
      "overflow": null,
      "overflow_x": null,
      "overflow_y": null,
      "padding": null,
      "right": null,
      "top": null,
      "visibility": null,
      "width": null
     }
    },
    "5cc2303fd42d458091fc67a9f30b4644": {
     "model_module": "@jupyter-widgets/base",
     "model_module_version": "1.2.0",
     "model_name": "LayoutModel",
     "state": {
      "_model_module": "@jupyter-widgets/base",
      "_model_module_version": "1.2.0",
      "_model_name": "LayoutModel",
      "_view_count": null,
      "_view_module": "@jupyter-widgets/base",
      "_view_module_version": "1.2.0",
      "_view_name": "LayoutView",
      "align_content": null,
      "align_items": null,
      "align_self": null,
      "border": null,
      "bottom": null,
      "display": null,
      "flex": null,
      "flex_flow": null,
      "grid_area": null,
      "grid_auto_columns": null,
      "grid_auto_flow": null,
      "grid_auto_rows": null,
      "grid_column": null,
      "grid_gap": null,
      "grid_row": null,
      "grid_template_areas": null,
      "grid_template_columns": null,
      "grid_template_rows": null,
      "height": null,
      "justify_content": null,
      "justify_items": null,
      "left": null,
      "margin": null,
      "max_height": null,
      "max_width": null,
      "min_height": null,
      "min_width": null,
      "object_fit": null,
      "object_position": null,
      "order": null,
      "overflow": null,
      "overflow_x": null,
      "overflow_y": null,
      "padding": null,
      "right": null,
      "top": null,
      "visibility": null,
      "width": null
     }
    },
    "5f3719d843f04046a84a7a6acbb71e50": {
     "model_module": "@jupyter-widgets/base",
     "model_module_version": "1.2.0",
     "model_name": "LayoutModel",
     "state": {
      "_model_module": "@jupyter-widgets/base",
      "_model_module_version": "1.2.0",
      "_model_name": "LayoutModel",
      "_view_count": null,
      "_view_module": "@jupyter-widgets/base",
      "_view_module_version": "1.2.0",
      "_view_name": "LayoutView",
      "align_content": null,
      "align_items": null,
      "align_self": null,
      "border": null,
      "bottom": null,
      "display": null,
      "flex": null,
      "flex_flow": null,
      "grid_area": null,
      "grid_auto_columns": null,
      "grid_auto_flow": null,
      "grid_auto_rows": null,
      "grid_column": null,
      "grid_gap": null,
      "grid_row": null,
      "grid_template_areas": null,
      "grid_template_columns": null,
      "grid_template_rows": null,
      "height": null,
      "justify_content": null,
      "justify_items": null,
      "left": null,
      "margin": null,
      "max_height": null,
      "max_width": null,
      "min_height": null,
      "min_width": null,
      "object_fit": null,
      "object_position": null,
      "order": null,
      "overflow": null,
      "overflow_x": null,
      "overflow_y": null,
      "padding": null,
      "right": null,
      "top": null,
      "visibility": null,
      "width": null
     }
    },
    "611b9bc766f846a5a8a0c751229564a8": {
     "model_module": "@jupyter-widgets/controls",
     "model_module_version": "1.5.0",
     "model_name": "FloatProgressModel",
     "state": {
      "_dom_classes": [],
      "_model_module": "@jupyter-widgets/controls",
      "_model_module_version": "1.5.0",
      "_model_name": "FloatProgressModel",
      "_view_count": null,
      "_view_module": "@jupyter-widgets/controls",
      "_view_module_version": "1.5.0",
      "_view_name": "ProgressView",
      "bar_style": "success",
      "description": "",
      "description_tooltip": null,
      "layout": "IPY_MODEL_63ab44bf9c13420a82ef0c65e3608db4",
      "max": 1115567652,
      "min": 0,
      "orientation": "horizontal",
      "style": "IPY_MODEL_9135e51865ea4329954d23da4bb30b1a",
      "value": 1115567652
     }
    },
    "611c8ad371d34f0fa5477f35df30c2bd": {
     "model_module": "@jupyter-widgets/controls",
     "model_module_version": "1.5.0",
     "model_name": "DescriptionStyleModel",
     "state": {
      "_model_module": "@jupyter-widgets/controls",
      "_model_module_version": "1.5.0",
      "_model_name": "DescriptionStyleModel",
      "_view_count": null,
      "_view_module": "@jupyter-widgets/base",
      "_view_module_version": "1.2.0",
      "_view_name": "StyleView",
      "description_width": ""
     }
    },
    "61a2f24c0b464646a1d7e09183cc1eef": {
     "model_module": "@jupyter-widgets/controls",
     "model_module_version": "1.5.0",
     "model_name": "HBoxModel",
     "state": {
      "_dom_classes": [],
      "_model_module": "@jupyter-widgets/controls",
      "_model_module_version": "1.5.0",
      "_model_name": "HBoxModel",
      "_view_count": null,
      "_view_module": "@jupyter-widgets/controls",
      "_view_module_version": "1.5.0",
      "_view_name": "HBoxView",
      "box_style": "",
      "children": [
       "IPY_MODEL_d2a74d59f33846ceb086227633c30807",
       "IPY_MODEL_67bdc427cd81453b850dfc46bf9c1700",
       "IPY_MODEL_725a575117b84bc2825c47905425cc1f"
      ],
      "layout": "IPY_MODEL_5b99dcba9d9c457d827ce6f127290bcc"
     }
    },
    "63ab44bf9c13420a82ef0c65e3608db4": {
     "model_module": "@jupyter-widgets/base",
     "model_module_version": "1.2.0",
     "model_name": "LayoutModel",
     "state": {
      "_model_module": "@jupyter-widgets/base",
      "_model_module_version": "1.2.0",
      "_model_name": "LayoutModel",
      "_view_count": null,
      "_view_module": "@jupyter-widgets/base",
      "_view_module_version": "1.2.0",
      "_view_name": "LayoutView",
      "align_content": null,
      "align_items": null,
      "align_self": null,
      "border": null,
      "bottom": null,
      "display": null,
      "flex": null,
      "flex_flow": null,
      "grid_area": null,
      "grid_auto_columns": null,
      "grid_auto_flow": null,
      "grid_auto_rows": null,
      "grid_column": null,
      "grid_gap": null,
      "grid_row": null,
      "grid_template_areas": null,
      "grid_template_columns": null,
      "grid_template_rows": null,
      "height": null,
      "justify_content": null,
      "justify_items": null,
      "left": null,
      "margin": null,
      "max_height": null,
      "max_width": null,
      "min_height": null,
      "min_width": null,
      "object_fit": null,
      "object_position": null,
      "order": null,
      "overflow": null,
      "overflow_x": null,
      "overflow_y": null,
      "padding": null,
      "right": null,
      "top": null,
      "visibility": null,
      "width": null
     }
    },
    "679bf65920314c7795af6bb6b2216ccb": {
     "model_module": "@jupyter-widgets/controls",
     "model_module_version": "1.5.0",
     "model_name": "HTMLModel",
     "state": {
      "_dom_classes": [],
      "_model_module": "@jupyter-widgets/controls",
      "_model_module_version": "1.5.0",
      "_model_name": "HTMLModel",
      "_view_count": null,
      "_view_module": "@jupyter-widgets/controls",
      "_view_module_version": "1.5.0",
      "_view_name": "HTMLView",
      "description": "",
      "description_tooltip": null,
      "layout": "IPY_MODEL_c6d9e56d83b549d2bec84e3519c8af51",
      "placeholder": "​",
      "style": "IPY_MODEL_a8638e903efd426995b59a5df1c36dc0",
      "value": "sentencepiece.bpe.model: 100%"
     }
    },
    "67bdc427cd81453b850dfc46bf9c1700": {
     "model_module": "@jupyter-widgets/controls",
     "model_module_version": "1.5.0",
     "model_name": "FloatProgressModel",
     "state": {
      "_dom_classes": [],
      "_model_module": "@jupyter-widgets/controls",
      "_model_module_version": "1.5.0",
      "_model_name": "FloatProgressModel",
      "_view_count": null,
      "_view_module": "@jupyter-widgets/controls",
      "_view_module_version": "1.5.0",
      "_view_name": "ProgressView",
      "bar_style": "danger",
      "description": "",
      "description_tooltip": null,
      "layout": "IPY_MODEL_ae4dbcc5b3904d8e922f6c0aeb963c0e",
      "max": 889,
      "min": 0,
      "orientation": "horizontal",
      "style": "IPY_MODEL_4ec2aa0022cc4dfd96676210ee179d96",
      "value": 0
     }
    },
    "725a575117b84bc2825c47905425cc1f": {
     "model_module": "@jupyter-widgets/controls",
     "model_module_version": "1.5.0",
     "model_name": "HTMLModel",
     "state": {
      "_dom_classes": [],
      "_model_module": "@jupyter-widgets/controls",
      "_model_module_version": "1.5.0",
      "_model_name": "HTMLModel",
      "_view_count": null,
      "_view_module": "@jupyter-widgets/controls",
      "_view_module_version": "1.5.0",
      "_view_name": "HTMLView",
      "description": "",
      "description_tooltip": null,
      "layout": "IPY_MODEL_7df2f69a13b648f191ad85cb6de782dc",
      "placeholder": "​",
      "style": "IPY_MODEL_8cbc0a3c6b7c4a79b65db39209afc63a",
      "value": " 0/889 [00:00&lt;?, ? examples/s]"
     }
    },
    "7584a8f7bd9a45c08c544f7fd6be0b19": {
     "model_module": "@jupyter-widgets/controls",
     "model_module_version": "1.5.0",
     "model_name": "HTMLModel",
     "state": {
      "_dom_classes": [],
      "_model_module": "@jupyter-widgets/controls",
      "_model_module_version": "1.5.0",
      "_model_name": "HTMLModel",
      "_view_count": null,
      "_view_module": "@jupyter-widgets/controls",
      "_view_module_version": "1.5.0",
      "_view_name": "HTMLView",
      "description": "",
      "description_tooltip": null,
      "layout": "IPY_MODEL_376033591baf44eab28740e6181aaba8",
      "placeholder": "​",
      "style": "IPY_MODEL_611c8ad371d34f0fa5477f35df30c2bd",
      "value": " 9.10M/9.10M [00:00&lt;00:00, 20.8MB/s]"
     }
    },
    "7df2f69a13b648f191ad85cb6de782dc": {
     "model_module": "@jupyter-widgets/base",
     "model_module_version": "1.2.0",
     "model_name": "LayoutModel",
     "state": {
      "_model_module": "@jupyter-widgets/base",
      "_model_module_version": "1.2.0",
      "_model_name": "LayoutModel",
      "_view_count": null,
      "_view_module": "@jupyter-widgets/base",
      "_view_module_version": "1.2.0",
      "_view_name": "LayoutView",
      "align_content": null,
      "align_items": null,
      "align_self": null,
      "border": null,
      "bottom": null,
      "display": null,
      "flex": null,
      "flex_flow": null,
      "grid_area": null,
      "grid_auto_columns": null,
      "grid_auto_flow": null,
      "grid_auto_rows": null,
      "grid_column": null,
      "grid_gap": null,
      "grid_row": null,
      "grid_template_areas": null,
      "grid_template_columns": null,
      "grid_template_rows": null,
      "height": null,
      "justify_content": null,
      "justify_items": null,
      "left": null,
      "margin": null,
      "max_height": null,
      "max_width": null,
      "min_height": null,
      "min_width": null,
      "object_fit": null,
      "object_position": null,
      "order": null,
      "overflow": null,
      "overflow_x": null,
      "overflow_y": null,
      "padding": null,
      "right": null,
      "top": null,
      "visibility": null,
      "width": null
     }
    },
    "80cfd9c688534512b5dc31a68cca7ece": {
     "model_module": "@jupyter-widgets/controls",
     "model_module_version": "1.5.0",
     "model_name": "DescriptionStyleModel",
     "state": {
      "_model_module": "@jupyter-widgets/controls",
      "_model_module_version": "1.5.0",
      "_model_name": "DescriptionStyleModel",
      "_view_count": null,
      "_view_module": "@jupyter-widgets/base",
      "_view_module_version": "1.2.0",
      "_view_name": "StyleView",
      "description_width": ""
     }
    },
    "80f002b4afaf4986865520e257d184b4": {
     "model_module": "@jupyter-widgets/base",
     "model_module_version": "1.2.0",
     "model_name": "LayoutModel",
     "state": {
      "_model_module": "@jupyter-widgets/base",
      "_model_module_version": "1.2.0",
      "_model_name": "LayoutModel",
      "_view_count": null,
      "_view_module": "@jupyter-widgets/base",
      "_view_module_version": "1.2.0",
      "_view_name": "LayoutView",
      "align_content": null,
      "align_items": null,
      "align_self": null,
      "border": null,
      "bottom": null,
      "display": null,
      "flex": null,
      "flex_flow": null,
      "grid_area": null,
      "grid_auto_columns": null,
      "grid_auto_flow": null,
      "grid_auto_rows": null,
      "grid_column": null,
      "grid_gap": null,
      "grid_row": null,
      "grid_template_areas": null,
      "grid_template_columns": null,
      "grid_template_rows": null,
      "height": null,
      "justify_content": null,
      "justify_items": null,
      "left": null,
      "margin": null,
      "max_height": null,
      "max_width": null,
      "min_height": null,
      "min_width": null,
      "object_fit": null,
      "object_position": null,
      "order": null,
      "overflow": null,
      "overflow_x": null,
      "overflow_y": null,
      "padding": null,
      "right": null,
      "top": null,
      "visibility": null,
      "width": null
     }
    },
    "829652565c3643fcacc7e9b626e952b3": {
     "model_module": "@jupyter-widgets/controls",
     "model_module_version": "1.5.0",
     "model_name": "DescriptionStyleModel",
     "state": {
      "_model_module": "@jupyter-widgets/controls",
      "_model_module_version": "1.5.0",
      "_model_name": "DescriptionStyleModel",
      "_view_count": null,
      "_view_module": "@jupyter-widgets/base",
      "_view_module_version": "1.2.0",
      "_view_name": "StyleView",
      "description_width": ""
     }
    },
    "86ede9d3c4af4d93ae6147257ceb86a4": {
     "model_module": "@jupyter-widgets/controls",
     "model_module_version": "1.5.0",
     "model_name": "HTMLModel",
     "state": {
      "_dom_classes": [],
      "_model_module": "@jupyter-widgets/controls",
      "_model_module_version": "1.5.0",
      "_model_name": "HTMLModel",
      "_view_count": null,
      "_view_module": "@jupyter-widgets/controls",
      "_view_module_version": "1.5.0",
      "_view_name": "HTMLView",
      "description": "",
      "description_tooltip": null,
      "layout": "IPY_MODEL_c06715861b9a41dcae7cfb1efa7ad856",
      "placeholder": "​",
      "style": "IPY_MODEL_829652565c3643fcacc7e9b626e952b3",
      "value": " 5.07M/5.07M [00:00&lt;00:00, 21.1MB/s]"
     }
    },
    "880114f9416448ebafccb0e5bed30e04": {
     "model_module": "@jupyter-widgets/controls",
     "model_module_version": "1.5.0",
     "model_name": "ProgressStyleModel",
     "state": {
      "_model_module": "@jupyter-widgets/controls",
      "_model_module_version": "1.5.0",
      "_model_name": "ProgressStyleModel",
      "_view_count": null,
      "_view_module": "@jupyter-widgets/base",
      "_view_module_version": "1.2.0",
      "_view_name": "StyleView",
      "bar_color": null,
      "description_width": ""
     }
    },
    "8cbc0a3c6b7c4a79b65db39209afc63a": {
     "model_module": "@jupyter-widgets/controls",
     "model_module_version": "1.5.0",
     "model_name": "DescriptionStyleModel",
     "state": {
      "_model_module": "@jupyter-widgets/controls",
      "_model_module_version": "1.5.0",
      "_model_name": "DescriptionStyleModel",
      "_view_count": null,
      "_view_module": "@jupyter-widgets/base",
      "_view_module_version": "1.2.0",
      "_view_name": "StyleView",
      "description_width": ""
     }
    },
    "8da95601cd4a43f9b42fe257be0ba681": {
     "model_module": "@jupyter-widgets/controls",
     "model_module_version": "1.5.0",
     "model_name": "HTMLModel",
     "state": {
      "_dom_classes": [],
      "_model_module": "@jupyter-widgets/controls",
      "_model_module_version": "1.5.0",
      "_model_name": "HTMLModel",
      "_view_count": null,
      "_view_module": "@jupyter-widgets/controls",
      "_view_module_version": "1.5.0",
      "_view_name": "HTMLView",
      "description": "",
      "description_tooltip": null,
      "layout": "IPY_MODEL_53b8489755d44632ad0ffa0a40787825",
      "placeholder": "​",
      "style": "IPY_MODEL_9cf6fbcea9d046d691e0416ea1b23f70",
      "value": "config.json: 100%"
     }
    },
    "90750af16fe845c69e581898773ee489": {
     "model_module": "@jupyter-widgets/controls",
     "model_module_version": "1.5.0",
     "model_name": "DescriptionStyleModel",
     "state": {
      "_model_module": "@jupyter-widgets/controls",
      "_model_module_version": "1.5.0",
      "_model_name": "DescriptionStyleModel",
      "_view_count": null,
      "_view_module": "@jupyter-widgets/base",
      "_view_module_version": "1.2.0",
      "_view_name": "StyleView",
      "description_width": ""
     }
    },
    "90769c7cc770487db1ec7a23bb8a757c": {
     "model_module": "@jupyter-widgets/controls",
     "model_module_version": "1.5.0",
     "model_name": "FloatProgressModel",
     "state": {
      "_dom_classes": [],
      "_model_module": "@jupyter-widgets/controls",
      "_model_module_version": "1.5.0",
      "_model_name": "FloatProgressModel",
      "_view_count": null,
      "_view_module": "@jupyter-widgets/controls",
      "_view_module_version": "1.5.0",
      "_view_name": "ProgressView",
      "bar_style": "success",
      "description": "",
      "description_tooltip": null,
      "layout": "IPY_MODEL_9675c11e7e6d4da18e30367e842ae07f",
      "max": 889,
      "min": 0,
      "orientation": "horizontal",
      "style": "IPY_MODEL_fc9d6a554eac410d9d3c6c011c876c24",
      "value": 889
     }
    },
    "9135e51865ea4329954d23da4bb30b1a": {
     "model_module": "@jupyter-widgets/controls",
     "model_module_version": "1.5.0",
     "model_name": "ProgressStyleModel",
     "state": {
      "_model_module": "@jupyter-widgets/controls",
      "_model_module_version": "1.5.0",
      "_model_name": "ProgressStyleModel",
      "_view_count": null,
      "_view_module": "@jupyter-widgets/base",
      "_view_module_version": "1.2.0",
      "_view_name": "StyleView",
      "bar_color": null,
      "description_width": ""
     }
    },
    "92825c63ca2649aa9eab2490723af722": {
     "model_module": "@jupyter-widgets/controls",
     "model_module_version": "1.5.0",
     "model_name": "HTMLModel",
     "state": {
      "_dom_classes": [],
      "_model_module": "@jupyter-widgets/controls",
      "_model_module_version": "1.5.0",
      "_model_name": "HTMLModel",
      "_view_count": null,
      "_view_module": "@jupyter-widgets/controls",
      "_view_module_version": "1.5.0",
      "_view_name": "HTMLView",
      "description": "",
      "description_tooltip": null,
      "layout": "IPY_MODEL_c492528943dd4e99ac89735e63d1195c",
      "placeholder": "​",
      "style": "IPY_MODEL_0f5d5a85c75c41e6849c8765f95e4516",
      "value": " 889/889 [00:01&lt;00:00, 644.72 examples/s]"
     }
    },
    "9675c11e7e6d4da18e30367e842ae07f": {
     "model_module": "@jupyter-widgets/base",
     "model_module_version": "1.2.0",
     "model_name": "LayoutModel",
     "state": {
      "_model_module": "@jupyter-widgets/base",
      "_model_module_version": "1.2.0",
      "_model_name": "LayoutModel",
      "_view_count": null,
      "_view_module": "@jupyter-widgets/base",
      "_view_module_version": "1.2.0",
      "_view_name": "LayoutView",
      "align_content": null,
      "align_items": null,
      "align_self": null,
      "border": null,
      "bottom": null,
      "display": null,
      "flex": null,
      "flex_flow": null,
      "grid_area": null,
      "grid_auto_columns": null,
      "grid_auto_flow": null,
      "grid_auto_rows": null,
      "grid_column": null,
      "grid_gap": null,
      "grid_row": null,
      "grid_template_areas": null,
      "grid_template_columns": null,
      "grid_template_rows": null,
      "height": null,
      "justify_content": null,
      "justify_items": null,
      "left": null,
      "margin": null,
      "max_height": null,
      "max_width": null,
      "min_height": null,
      "min_width": null,
      "object_fit": null,
      "object_position": null,
      "order": null,
      "overflow": null,
      "overflow_x": null,
      "overflow_y": null,
      "padding": null,
      "right": null,
      "top": null,
      "visibility": null,
      "width": null
     }
    },
    "9cf0ab8f006a4c66941767232f66bac9": {
     "model_module": "@jupyter-widgets/controls",
     "model_module_version": "1.5.0",
     "model_name": "FloatProgressModel",
     "state": {
      "_dom_classes": [],
      "_model_module": "@jupyter-widgets/controls",
      "_model_module_version": "1.5.0",
      "_model_name": "FloatProgressModel",
      "_view_count": null,
      "_view_module": "@jupyter-widgets/controls",
      "_view_module_version": "1.5.0",
      "_view_name": "ProgressView",
      "bar_style": "success",
      "description": "",
      "description_tooltip": null,
      "layout": "IPY_MODEL_5f3719d843f04046a84a7a6acbb71e50",
      "max": 5069051,
      "min": 0,
      "orientation": "horizontal",
      "style": "IPY_MODEL_40ee9ddf0cce4a43bce5e80319c87b7d",
      "value": 5069051
     }
    },
    "9cf6fbcea9d046d691e0416ea1b23f70": {
     "model_module": "@jupyter-widgets/controls",
     "model_module_version": "1.5.0",
     "model_name": "DescriptionStyleModel",
     "state": {
      "_model_module": "@jupyter-widgets/controls",
      "_model_module_version": "1.5.0",
      "_model_name": "DescriptionStyleModel",
      "_view_count": null,
      "_view_module": "@jupyter-widgets/base",
      "_view_module_version": "1.2.0",
      "_view_name": "StyleView",
      "description_width": ""
     }
    },
    "9f2bb36596c84ce8ae27948fcdd07878": {
     "model_module": "@jupyter-widgets/controls",
     "model_module_version": "1.5.0",
     "model_name": "HTMLModel",
     "state": {
      "_dom_classes": [],
      "_model_module": "@jupyter-widgets/controls",
      "_model_module_version": "1.5.0",
      "_model_name": "HTMLModel",
      "_view_count": null,
      "_view_module": "@jupyter-widgets/controls",
      "_view_module_version": "1.5.0",
      "_view_name": "HTMLView",
      "description": "",
      "description_tooltip": null,
      "layout": "IPY_MODEL_edf2293b7a10402588b85d3e0c961184",
      "placeholder": "​",
      "style": "IPY_MODEL_095b2fb4b4924a42981f0990dbd74f67",
      "value": "Map: 100%"
     }
    },
    "a8638e903efd426995b59a5df1c36dc0": {
     "model_module": "@jupyter-widgets/controls",
     "model_module_version": "1.5.0",
     "model_name": "DescriptionStyleModel",
     "state": {
      "_model_module": "@jupyter-widgets/controls",
      "_model_module_version": "1.5.0",
      "_model_name": "DescriptionStyleModel",
      "_view_count": null,
      "_view_module": "@jupyter-widgets/base",
      "_view_module_version": "1.2.0",
      "_view_name": "StyleView",
      "description_width": ""
     }
    },
    "ad25750106b24c7fbea32e298b7c3e39": {
     "model_module": "@jupyter-widgets/base",
     "model_module_version": "1.2.0",
     "model_name": "LayoutModel",
     "state": {
      "_model_module": "@jupyter-widgets/base",
      "_model_module_version": "1.2.0",
      "_model_name": "LayoutModel",
      "_view_count": null,
      "_view_module": "@jupyter-widgets/base",
      "_view_module_version": "1.2.0",
      "_view_name": "LayoutView",
      "align_content": null,
      "align_items": null,
      "align_self": null,
      "border": null,
      "bottom": null,
      "display": null,
      "flex": null,
      "flex_flow": null,
      "grid_area": null,
      "grid_auto_columns": null,
      "grid_auto_flow": null,
      "grid_auto_rows": null,
      "grid_column": null,
      "grid_gap": null,
      "grid_row": null,
      "grid_template_areas": null,
      "grid_template_columns": null,
      "grid_template_rows": null,
      "height": null,
      "justify_content": null,
      "justify_items": null,
      "left": null,
      "margin": null,
      "max_height": null,
      "max_width": null,
      "min_height": null,
      "min_width": null,
      "object_fit": null,
      "object_position": null,
      "order": null,
      "overflow": null,
      "overflow_x": null,
      "overflow_y": null,
      "padding": null,
      "right": null,
      "top": null,
      "visibility": null,
      "width": null
     }
    },
    "adf7831902984d8e991ac45f8f861fe8": {
     "model_module": "@jupyter-widgets/base",
     "model_module_version": "1.2.0",
     "model_name": "LayoutModel",
     "state": {
      "_model_module": "@jupyter-widgets/base",
      "_model_module_version": "1.2.0",
      "_model_name": "LayoutModel",
      "_view_count": null,
      "_view_module": "@jupyter-widgets/base",
      "_view_module_version": "1.2.0",
      "_view_name": "LayoutView",
      "align_content": null,
      "align_items": null,
      "align_self": null,
      "border": null,
      "bottom": null,
      "display": null,
      "flex": null,
      "flex_flow": null,
      "grid_area": null,
      "grid_auto_columns": null,
      "grid_auto_flow": null,
      "grid_auto_rows": null,
      "grid_column": null,
      "grid_gap": null,
      "grid_row": null,
      "grid_template_areas": null,
      "grid_template_columns": null,
      "grid_template_rows": null,
      "height": null,
      "justify_content": null,
      "justify_items": null,
      "left": null,
      "margin": null,
      "max_height": null,
      "max_width": null,
      "min_height": null,
      "min_width": null,
      "object_fit": null,
      "object_position": null,
      "order": null,
      "overflow": null,
      "overflow_x": null,
      "overflow_y": null,
      "padding": null,
      "right": null,
      "top": null,
      "visibility": null,
      "width": null
     }
    },
    "ae4dbcc5b3904d8e922f6c0aeb963c0e": {
     "model_module": "@jupyter-widgets/base",
     "model_module_version": "1.2.0",
     "model_name": "LayoutModel",
     "state": {
      "_model_module": "@jupyter-widgets/base",
      "_model_module_version": "1.2.0",
      "_model_name": "LayoutModel",
      "_view_count": null,
      "_view_module": "@jupyter-widgets/base",
      "_view_module_version": "1.2.0",
      "_view_name": "LayoutView",
      "align_content": null,
      "align_items": null,
      "align_self": null,
      "border": null,
      "bottom": null,
      "display": null,
      "flex": null,
      "flex_flow": null,
      "grid_area": null,
      "grid_auto_columns": null,
      "grid_auto_flow": null,
      "grid_auto_rows": null,
      "grid_column": null,
      "grid_gap": null,
      "grid_row": null,
      "grid_template_areas": null,
      "grid_template_columns": null,
      "grid_template_rows": null,
      "height": null,
      "justify_content": null,
      "justify_items": null,
      "left": null,
      "margin": null,
      "max_height": null,
      "max_width": null,
      "min_height": null,
      "min_width": null,
      "object_fit": null,
      "object_position": null,
      "order": null,
      "overflow": null,
      "overflow_x": null,
      "overflow_y": null,
      "padding": null,
      "right": null,
      "top": null,
      "visibility": null,
      "width": null
     }
    },
    "ae7a2179c6dc4e66abfd490afd23518b": {
     "model_module": "@jupyter-widgets/base",
     "model_module_version": "1.2.0",
     "model_name": "LayoutModel",
     "state": {
      "_model_module": "@jupyter-widgets/base",
      "_model_module_version": "1.2.0",
      "_model_name": "LayoutModel",
      "_view_count": null,
      "_view_module": "@jupyter-widgets/base",
      "_view_module_version": "1.2.0",
      "_view_name": "LayoutView",
      "align_content": null,
      "align_items": null,
      "align_self": null,
      "border": null,
      "bottom": null,
      "display": null,
      "flex": null,
      "flex_flow": null,
      "grid_area": null,
      "grid_auto_columns": null,
      "grid_auto_flow": null,
      "grid_auto_rows": null,
      "grid_column": null,
      "grid_gap": null,
      "grid_row": null,
      "grid_template_areas": null,
      "grid_template_columns": null,
      "grid_template_rows": null,
      "height": null,
      "justify_content": null,
      "justify_items": null,
      "left": null,
      "margin": null,
      "max_height": null,
      "max_width": null,
      "min_height": null,
      "min_width": null,
      "object_fit": null,
      "object_position": null,
      "order": null,
      "overflow": null,
      "overflow_x": null,
      "overflow_y": null,
      "padding": null,
      "right": null,
      "top": null,
      "visibility": null,
      "width": null
     }
    },
    "afb605a6abc7418e823af2f945f412f7": {
     "model_module": "@jupyter-widgets/base",
     "model_module_version": "1.2.0",
     "model_name": "LayoutModel",
     "state": {
      "_model_module": "@jupyter-widgets/base",
      "_model_module_version": "1.2.0",
      "_model_name": "LayoutModel",
      "_view_count": null,
      "_view_module": "@jupyter-widgets/base",
      "_view_module_version": "1.2.0",
      "_view_name": "LayoutView",
      "align_content": null,
      "align_items": null,
      "align_self": null,
      "border": null,
      "bottom": null,
      "display": null,
      "flex": null,
      "flex_flow": null,
      "grid_area": null,
      "grid_auto_columns": null,
      "grid_auto_flow": null,
      "grid_auto_rows": null,
      "grid_column": null,
      "grid_gap": null,
      "grid_row": null,
      "grid_template_areas": null,
      "grid_template_columns": null,
      "grid_template_rows": null,
      "height": null,
      "justify_content": null,
      "justify_items": null,
      "left": null,
      "margin": null,
      "max_height": null,
      "max_width": null,
      "min_height": null,
      "min_width": null,
      "object_fit": null,
      "object_position": null,
      "order": null,
      "overflow": null,
      "overflow_x": null,
      "overflow_y": null,
      "padding": null,
      "right": null,
      "top": null,
      "visibility": null,
      "width": null
     }
    },
    "b316352346a6473eaa75baccbb3fb077": {
     "model_module": "@jupyter-widgets/controls",
     "model_module_version": "1.5.0",
     "model_name": "HBoxModel",
     "state": {
      "_dom_classes": [],
      "_model_module": "@jupyter-widgets/controls",
      "_model_module_version": "1.5.0",
      "_model_name": "HBoxModel",
      "_view_count": null,
      "_view_module": "@jupyter-widgets/controls",
      "_view_module_version": "1.5.0",
      "_view_name": "HBoxView",
      "box_style": "",
      "children": [
       "IPY_MODEL_679bf65920314c7795af6bb6b2216ccb",
       "IPY_MODEL_9cf0ab8f006a4c66941767232f66bac9",
       "IPY_MODEL_86ede9d3c4af4d93ae6147257ceb86a4"
      ],
      "layout": "IPY_MODEL_c8f84f18e5fe477b9a937318d854e8bb"
     }
    },
    "b32d4614ffee41708fd1c54ba3c20fd8": {
     "model_module": "@jupyter-widgets/controls",
     "model_module_version": "1.5.0",
     "model_name": "DescriptionStyleModel",
     "state": {
      "_model_module": "@jupyter-widgets/controls",
      "_model_module_version": "1.5.0",
      "_model_name": "DescriptionStyleModel",
      "_view_count": null,
      "_view_module": "@jupyter-widgets/base",
      "_view_module_version": "1.2.0",
      "_view_name": "StyleView",
      "description_width": ""
     }
    },
    "b3ac6116286e495a9d6bdfe51e359fb8": {
     "model_module": "@jupyter-widgets/controls",
     "model_module_version": "1.5.0",
     "model_name": "ProgressStyleModel",
     "state": {
      "_model_module": "@jupyter-widgets/controls",
      "_model_module_version": "1.5.0",
      "_model_name": "ProgressStyleModel",
      "_view_count": null,
      "_view_module": "@jupyter-widgets/base",
      "_view_module_version": "1.2.0",
      "_view_name": "StyleView",
      "bar_color": null,
      "description_width": ""
     }
    },
    "b4ea67264f464faa8806063d517c5ab8": {
     "model_module": "@jupyter-widgets/controls",
     "model_module_version": "1.5.0",
     "model_name": "DescriptionStyleModel",
     "state": {
      "_model_module": "@jupyter-widgets/controls",
      "_model_module_version": "1.5.0",
      "_model_name": "DescriptionStyleModel",
      "_view_count": null,
      "_view_module": "@jupyter-widgets/base",
      "_view_module_version": "1.2.0",
      "_view_name": "StyleView",
      "description_width": ""
     }
    },
    "b81732a40852409eb73a6738d78f20c9": {
     "model_module": "@jupyter-widgets/controls",
     "model_module_version": "1.5.0",
     "model_name": "HBoxModel",
     "state": {
      "_dom_classes": [],
      "_model_module": "@jupyter-widgets/controls",
      "_model_module_version": "1.5.0",
      "_model_name": "HBoxModel",
      "_view_count": null,
      "_view_module": "@jupyter-widgets/controls",
      "_view_module_version": "1.5.0",
      "_view_name": "HBoxView",
      "box_style": "",
      "children": [
       "IPY_MODEL_9f2bb36596c84ce8ae27948fcdd07878",
       "IPY_MODEL_90769c7cc770487db1ec7a23bb8a757c",
       "IPY_MODEL_30d3d04eed45474da444a553064e3214"
      ],
      "layout": "IPY_MODEL_ae7a2179c6dc4e66abfd490afd23518b"
     }
    },
    "c06715861b9a41dcae7cfb1efa7ad856": {
     "model_module": "@jupyter-widgets/base",
     "model_module_version": "1.2.0",
     "model_name": "LayoutModel",
     "state": {
      "_model_module": "@jupyter-widgets/base",
      "_model_module_version": "1.2.0",
      "_model_name": "LayoutModel",
      "_view_count": null,
      "_view_module": "@jupyter-widgets/base",
      "_view_module_version": "1.2.0",
      "_view_name": "LayoutView",
      "align_content": null,
      "align_items": null,
      "align_self": null,
      "border": null,
      "bottom": null,
      "display": null,
      "flex": null,
      "flex_flow": null,
      "grid_area": null,
      "grid_auto_columns": null,
      "grid_auto_flow": null,
      "grid_auto_rows": null,
      "grid_column": null,
      "grid_gap": null,
      "grid_row": null,
      "grid_template_areas": null,
      "grid_template_columns": null,
      "grid_template_rows": null,
      "height": null,
      "justify_content": null,
      "justify_items": null,
      "left": null,
      "margin": null,
      "max_height": null,
      "max_width": null,
      "min_height": null,
      "min_width": null,
      "object_fit": null,
      "object_position": null,
      "order": null,
      "overflow": null,
      "overflow_x": null,
      "overflow_y": null,
      "padding": null,
      "right": null,
      "top": null,
      "visibility": null,
      "width": null
     }
    },
    "c1a538a1c43c42baac6c506738cc8daa": {
     "model_module": "@jupyter-widgets/base",
     "model_module_version": "1.2.0",
     "model_name": "LayoutModel",
     "state": {
      "_model_module": "@jupyter-widgets/base",
      "_model_module_version": "1.2.0",
      "_model_name": "LayoutModel",
      "_view_count": null,
      "_view_module": "@jupyter-widgets/base",
      "_view_module_version": "1.2.0",
      "_view_name": "LayoutView",
      "align_content": null,
      "align_items": null,
      "align_self": null,
      "border": null,
      "bottom": null,
      "display": null,
      "flex": null,
      "flex_flow": null,
      "grid_area": null,
      "grid_auto_columns": null,
      "grid_auto_flow": null,
      "grid_auto_rows": null,
      "grid_column": null,
      "grid_gap": null,
      "grid_row": null,
      "grid_template_areas": null,
      "grid_template_columns": null,
      "grid_template_rows": null,
      "height": null,
      "justify_content": null,
      "justify_items": null,
      "left": null,
      "margin": null,
      "max_height": null,
      "max_width": null,
      "min_height": null,
      "min_width": null,
      "object_fit": null,
      "object_position": null,
      "order": null,
      "overflow": null,
      "overflow_x": null,
      "overflow_y": null,
      "padding": null,
      "right": null,
      "top": null,
      "visibility": null,
      "width": null
     }
    },
    "c37f0c9904b84bb5bd3a82eb15b48a50": {
     "model_module": "@jupyter-widgets/controls",
     "model_module_version": "1.5.0",
     "model_name": "DescriptionStyleModel",
     "state": {
      "_model_module": "@jupyter-widgets/controls",
      "_model_module_version": "1.5.0",
      "_model_name": "DescriptionStyleModel",
      "_view_count": null,
      "_view_module": "@jupyter-widgets/base",
      "_view_module_version": "1.2.0",
      "_view_name": "StyleView",
      "description_width": ""
     }
    },
    "c492528943dd4e99ac89735e63d1195c": {
     "model_module": "@jupyter-widgets/base",
     "model_module_version": "1.2.0",
     "model_name": "LayoutModel",
     "state": {
      "_model_module": "@jupyter-widgets/base",
      "_model_module_version": "1.2.0",
      "_model_name": "LayoutModel",
      "_view_count": null,
      "_view_module": "@jupyter-widgets/base",
      "_view_module_version": "1.2.0",
      "_view_name": "LayoutView",
      "align_content": null,
      "align_items": null,
      "align_self": null,
      "border": null,
      "bottom": null,
      "display": null,
      "flex": null,
      "flex_flow": null,
      "grid_area": null,
      "grid_auto_columns": null,
      "grid_auto_flow": null,
      "grid_auto_rows": null,
      "grid_column": null,
      "grid_gap": null,
      "grid_row": null,
      "grid_template_areas": null,
      "grid_template_columns": null,
      "grid_template_rows": null,
      "height": null,
      "justify_content": null,
      "justify_items": null,
      "left": null,
      "margin": null,
      "max_height": null,
      "max_width": null,
      "min_height": null,
      "min_width": null,
      "object_fit": null,
      "object_position": null,
      "order": null,
      "overflow": null,
      "overflow_x": null,
      "overflow_y": null,
      "padding": null,
      "right": null,
      "top": null,
      "visibility": null,
      "width": null
     }
    },
    "c6d9e56d83b549d2bec84e3519c8af51": {
     "model_module": "@jupyter-widgets/base",
     "model_module_version": "1.2.0",
     "model_name": "LayoutModel",
     "state": {
      "_model_module": "@jupyter-widgets/base",
      "_model_module_version": "1.2.0",
      "_model_name": "LayoutModel",
      "_view_count": null,
      "_view_module": "@jupyter-widgets/base",
      "_view_module_version": "1.2.0",
      "_view_name": "LayoutView",
      "align_content": null,
      "align_items": null,
      "align_self": null,
      "border": null,
      "bottom": null,
      "display": null,
      "flex": null,
      "flex_flow": null,
      "grid_area": null,
      "grid_auto_columns": null,
      "grid_auto_flow": null,
      "grid_auto_rows": null,
      "grid_column": null,
      "grid_gap": null,
      "grid_row": null,
      "grid_template_areas": null,
      "grid_template_columns": null,
      "grid_template_rows": null,
      "height": null,
      "justify_content": null,
      "justify_items": null,
      "left": null,
      "margin": null,
      "max_height": null,
      "max_width": null,
      "min_height": null,
      "min_width": null,
      "object_fit": null,
      "object_position": null,
      "order": null,
      "overflow": null,
      "overflow_x": null,
      "overflow_y": null,
      "padding": null,
      "right": null,
      "top": null,
      "visibility": null,
      "width": null
     }
    },
    "c8f84f18e5fe477b9a937318d854e8bb": {
     "model_module": "@jupyter-widgets/base",
     "model_module_version": "1.2.0",
     "model_name": "LayoutModel",
     "state": {
      "_model_module": "@jupyter-widgets/base",
      "_model_module_version": "1.2.0",
      "_model_name": "LayoutModel",
      "_view_count": null,
      "_view_module": "@jupyter-widgets/base",
      "_view_module_version": "1.2.0",
      "_view_name": "LayoutView",
      "align_content": null,
      "align_items": null,
      "align_self": null,
      "border": null,
      "bottom": null,
      "display": null,
      "flex": null,
      "flex_flow": null,
      "grid_area": null,
      "grid_auto_columns": null,
      "grid_auto_flow": null,
      "grid_auto_rows": null,
      "grid_column": null,
      "grid_gap": null,
      "grid_row": null,
      "grid_template_areas": null,
      "grid_template_columns": null,
      "grid_template_rows": null,
      "height": null,
      "justify_content": null,
      "justify_items": null,
      "left": null,
      "margin": null,
      "max_height": null,
      "max_width": null,
      "min_height": null,
      "min_width": null,
      "object_fit": null,
      "object_position": null,
      "order": null,
      "overflow": null,
      "overflow_x": null,
      "overflow_y": null,
      "padding": null,
      "right": null,
      "top": null,
      "visibility": null,
      "width": null
     }
    },
    "c917d15124714e149d4d925d55ffe973": {
     "model_module": "@jupyter-widgets/controls",
     "model_module_version": "1.5.0",
     "model_name": "HBoxModel",
     "state": {
      "_dom_classes": [],
      "_model_module": "@jupyter-widgets/controls",
      "_model_module_version": "1.5.0",
      "_model_name": "HBoxModel",
      "_view_count": null,
      "_view_module": "@jupyter-widgets/controls",
      "_view_module_version": "1.5.0",
      "_view_name": "HBoxView",
      "box_style": "",
      "children": [
       "IPY_MODEL_043bb7b170ad4296ae7a66ce17d7fddc",
       "IPY_MODEL_611b9bc766f846a5a8a0c751229564a8",
       "IPY_MODEL_06f1b085b1034f11adb670bdd9cebd69"
      ],
      "layout": "IPY_MODEL_ad25750106b24c7fbea32e298b7c3e39"
     }
    },
    "cb627b0900f44414a75de92890d6f196": {
     "model_module": "@jupyter-widgets/controls",
     "model_module_version": "1.5.0",
     "model_name": "HBoxModel",
     "state": {
      "_dom_classes": [],
      "_model_module": "@jupyter-widgets/controls",
      "_model_module_version": "1.5.0",
      "_model_name": "HBoxModel",
      "_view_count": null,
      "_view_module": "@jupyter-widgets/controls",
      "_view_module_version": "1.5.0",
      "_view_name": "HBoxView",
      "box_style": "",
      "children": [
       "IPY_MODEL_01b53a151ceb4ab1875b903b51d66a07",
       "IPY_MODEL_fbedb3e39ab04284b3bbdbdb3efc6198",
       "IPY_MODEL_7584a8f7bd9a45c08c544f7fd6be0b19"
      ],
      "layout": "IPY_MODEL_1b57388c61924914a5cf7cb26ff34398"
     }
    },
    "cdafda3466bc430bb976df5d2c74e592": {
     "model_module": "@jupyter-widgets/controls",
     "model_module_version": "1.5.0",
     "model_name": "ProgressStyleModel",
     "state": {
      "_model_module": "@jupyter-widgets/controls",
      "_model_module_version": "1.5.0",
      "_model_name": "ProgressStyleModel",
      "_view_count": null,
      "_view_module": "@jupyter-widgets/base",
      "_view_module_version": "1.2.0",
      "_view_name": "StyleView",
      "bar_color": null,
      "description_width": ""
     }
    },
    "d2a74d59f33846ceb086227633c30807": {
     "model_module": "@jupyter-widgets/controls",
     "model_module_version": "1.5.0",
     "model_name": "HTMLModel",
     "state": {
      "_dom_classes": [],
      "_model_module": "@jupyter-widgets/controls",
      "_model_module_version": "1.5.0",
      "_model_name": "HTMLModel",
      "_view_count": null,
      "_view_module": "@jupyter-widgets/controls",
      "_view_module_version": "1.5.0",
      "_view_name": "HTMLView",
      "description": "",
      "description_tooltip": null,
      "layout": "IPY_MODEL_43f1585fd58247968f8fa1ad4052594f",
      "placeholder": "​",
      "style": "IPY_MODEL_d48d551d09cb44ea8bfef658ac178e2c",
      "value": "Map:   0%"
     }
    },
    "d48d551d09cb44ea8bfef658ac178e2c": {
     "model_module": "@jupyter-widgets/controls",
     "model_module_version": "1.5.0",
     "model_name": "DescriptionStyleModel",
     "state": {
      "_model_module": "@jupyter-widgets/controls",
      "_model_module_version": "1.5.0",
      "_model_name": "DescriptionStyleModel",
      "_view_count": null,
      "_view_module": "@jupyter-widgets/base",
      "_view_module_version": "1.2.0",
      "_view_name": "StyleView",
      "description_width": ""
     }
    },
    "d9aa664f56124c788ceb1e2a490f1976": {
     "model_module": "@jupyter-widgets/controls",
     "model_module_version": "1.5.0",
     "model_name": "FloatProgressModel",
     "state": {
      "_dom_classes": [],
      "_model_module": "@jupyter-widgets/controls",
      "_model_module_version": "1.5.0",
      "_model_name": "FloatProgressModel",
      "_view_count": null,
      "_view_module": "@jupyter-widgets/controls",
      "_view_module_version": "1.5.0",
      "_view_name": "ProgressView",
      "bar_style": "success",
      "description": "",
      "description_tooltip": null,
      "layout": "IPY_MODEL_592966e07d1f4d32acfe1c6569eed31d",
      "max": 615,
      "min": 0,
      "orientation": "horizontal",
      "style": "IPY_MODEL_cdafda3466bc430bb976df5d2c74e592",
      "value": 615
     }
    },
    "df68c4266470453faffb8074b2d2f383": {
     "model_module": "@jupyter-widgets/controls",
     "model_module_version": "1.5.0",
     "model_name": "HTMLModel",
     "state": {
      "_dom_classes": [],
      "_model_module": "@jupyter-widgets/controls",
      "_model_module_version": "1.5.0",
      "_model_name": "HTMLModel",
      "_view_count": null,
      "_view_module": "@jupyter-widgets/controls",
      "_view_module_version": "1.5.0",
      "_view_name": "HTMLView",
      "description": "",
      "description_tooltip": null,
      "layout": "IPY_MODEL_f72eaf411d03466a8021c1b783ffdef1",
      "placeholder": "​",
      "style": "IPY_MODEL_80cfd9c688534512b5dc31a68cca7ece",
      "value": "Map: 100%"
     }
    },
    "e4f22216096f43ec8323e100974a9dcf": {
     "model_module": "@jupyter-widgets/base",
     "model_module_version": "1.2.0",
     "model_name": "LayoutModel",
     "state": {
      "_model_module": "@jupyter-widgets/base",
      "_model_module_version": "1.2.0",
      "_model_name": "LayoutModel",
      "_view_count": null,
      "_view_module": "@jupyter-widgets/base",
      "_view_module_version": "1.2.0",
      "_view_name": "LayoutView",
      "align_content": null,
      "align_items": null,
      "align_self": null,
      "border": null,
      "bottom": null,
      "display": null,
      "flex": null,
      "flex_flow": null,
      "grid_area": null,
      "grid_auto_columns": null,
      "grid_auto_flow": null,
      "grid_auto_rows": null,
      "grid_column": null,
      "grid_gap": null,
      "grid_row": null,
      "grid_template_areas": null,
      "grid_template_columns": null,
      "grid_template_rows": null,
      "height": null,
      "justify_content": null,
      "justify_items": null,
      "left": null,
      "margin": null,
      "max_height": null,
      "max_width": null,
      "min_height": null,
      "min_width": null,
      "object_fit": null,
      "object_position": null,
      "order": null,
      "overflow": null,
      "overflow_x": null,
      "overflow_y": null,
      "padding": null,
      "right": null,
      "top": null,
      "visibility": null,
      "width": null
     }
    },
    "edf2293b7a10402588b85d3e0c961184": {
     "model_module": "@jupyter-widgets/base",
     "model_module_version": "1.2.0",
     "model_name": "LayoutModel",
     "state": {
      "_model_module": "@jupyter-widgets/base",
      "_model_module_version": "1.2.0",
      "_model_name": "LayoutModel",
      "_view_count": null,
      "_view_module": "@jupyter-widgets/base",
      "_view_module_version": "1.2.0",
      "_view_name": "LayoutView",
      "align_content": null,
      "align_items": null,
      "align_self": null,
      "border": null,
      "bottom": null,
      "display": null,
      "flex": null,
      "flex_flow": null,
      "grid_area": null,
      "grid_auto_columns": null,
      "grid_auto_flow": null,
      "grid_auto_rows": null,
      "grid_column": null,
      "grid_gap": null,
      "grid_row": null,
      "grid_template_areas": null,
      "grid_template_columns": null,
      "grid_template_rows": null,
      "height": null,
      "justify_content": null,
      "justify_items": null,
      "left": null,
      "margin": null,
      "max_height": null,
      "max_width": null,
      "min_height": null,
      "min_width": null,
      "object_fit": null,
      "object_position": null,
      "order": null,
      "overflow": null,
      "overflow_x": null,
      "overflow_y": null,
      "padding": null,
      "right": null,
      "top": null,
      "visibility": null,
      "width": null
     }
    },
    "f070ddbe2094449caaff163b92984741": {
     "model_module": "@jupyter-widgets/base",
     "model_module_version": "1.2.0",
     "model_name": "LayoutModel",
     "state": {
      "_model_module": "@jupyter-widgets/base",
      "_model_module_version": "1.2.0",
      "_model_name": "LayoutModel",
      "_view_count": null,
      "_view_module": "@jupyter-widgets/base",
      "_view_module_version": "1.2.0",
      "_view_name": "LayoutView",
      "align_content": null,
      "align_items": null,
      "align_self": null,
      "border": null,
      "bottom": null,
      "display": null,
      "flex": null,
      "flex_flow": null,
      "grid_area": null,
      "grid_auto_columns": null,
      "grid_auto_flow": null,
      "grid_auto_rows": null,
      "grid_column": null,
      "grid_gap": null,
      "grid_row": null,
      "grid_template_areas": null,
      "grid_template_columns": null,
      "grid_template_rows": null,
      "height": null,
      "justify_content": null,
      "justify_items": null,
      "left": null,
      "margin": null,
      "max_height": null,
      "max_width": null,
      "min_height": null,
      "min_width": null,
      "object_fit": null,
      "object_position": null,
      "order": null,
      "overflow": null,
      "overflow_x": null,
      "overflow_y": null,
      "padding": null,
      "right": null,
      "top": null,
      "visibility": null,
      "width": null
     }
    },
    "f13e5e6e8b0d4921ab8e06ab1f894e66": {
     "model_module": "@jupyter-widgets/controls",
     "model_module_version": "1.5.0",
     "model_name": "HBoxModel",
     "state": {
      "_dom_classes": [],
      "_model_module": "@jupyter-widgets/controls",
      "_model_module_version": "1.5.0",
      "_model_name": "HBoxModel",
      "_view_count": null,
      "_view_module": "@jupyter-widgets/controls",
      "_view_module_version": "1.5.0",
      "_view_name": "HBoxView",
      "box_style": "",
      "children": [
       "IPY_MODEL_df68c4266470453faffb8074b2d2f383",
       "IPY_MODEL_0cd59c2f17f74c2f8122e8638f0ebafe",
       "IPY_MODEL_92825c63ca2649aa9eab2490723af722"
      ],
      "layout": "IPY_MODEL_58d31041d5164eb499cfd6a801d83f87"
     }
    },
    "f1c71d2145e64c1fbaa062fe2f068ab6": {
     "model_module": "@jupyter-widgets/controls",
     "model_module_version": "1.5.0",
     "model_name": "ProgressStyleModel",
     "state": {
      "_model_module": "@jupyter-widgets/controls",
      "_model_module_version": "1.5.0",
      "_model_name": "ProgressStyleModel",
      "_view_count": null,
      "_view_module": "@jupyter-widgets/base",
      "_view_module_version": "1.2.0",
      "_view_name": "StyleView",
      "bar_color": null,
      "description_width": ""
     }
    },
    "f214262913d14c8191dc50a679113640": {
     "model_module": "@jupyter-widgets/base",
     "model_module_version": "1.2.0",
     "model_name": "LayoutModel",
     "state": {
      "_model_module": "@jupyter-widgets/base",
      "_model_module_version": "1.2.0",
      "_model_name": "LayoutModel",
      "_view_count": null,
      "_view_module": "@jupyter-widgets/base",
      "_view_module_version": "1.2.0",
      "_view_name": "LayoutView",
      "align_content": null,
      "align_items": null,
      "align_self": null,
      "border": null,
      "bottom": null,
      "display": null,
      "flex": null,
      "flex_flow": null,
      "grid_area": null,
      "grid_auto_columns": null,
      "grid_auto_flow": null,
      "grid_auto_rows": null,
      "grid_column": null,
      "grid_gap": null,
      "grid_row": null,
      "grid_template_areas": null,
      "grid_template_columns": null,
      "grid_template_rows": null,
      "height": null,
      "justify_content": null,
      "justify_items": null,
      "left": null,
      "margin": null,
      "max_height": null,
      "max_width": null,
      "min_height": null,
      "min_width": null,
      "object_fit": null,
      "object_position": null,
      "order": null,
      "overflow": null,
      "overflow_x": null,
      "overflow_y": null,
      "padding": null,
      "right": null,
      "top": null,
      "visibility": null,
      "width": null
     }
    },
    "f3183aabc5e94ff39b59082eb29d0577": {
     "model_module": "@jupyter-widgets/controls",
     "model_module_version": "1.5.0",
     "model_name": "HTMLModel",
     "state": {
      "_dom_classes": [],
      "_model_module": "@jupyter-widgets/controls",
      "_model_module_version": "1.5.0",
      "_model_name": "HTMLModel",
      "_view_count": null,
      "_view_module": "@jupyter-widgets/controls",
      "_view_module_version": "1.5.0",
      "_view_name": "HTMLView",
      "description": "",
      "description_tooltip": null,
      "layout": "IPY_MODEL_f070ddbe2094449caaff163b92984741",
      "placeholder": "​",
      "style": "IPY_MODEL_381ceb5408d8475ab95ef844b362060c",
      "value": "tokenizer_config.json: 100%"
     }
    },
    "f72eaf411d03466a8021c1b783ffdef1": {
     "model_module": "@jupyter-widgets/base",
     "model_module_version": "1.2.0",
     "model_name": "LayoutModel",
     "state": {
      "_model_module": "@jupyter-widgets/base",
      "_model_module_version": "1.2.0",
      "_model_name": "LayoutModel",
      "_view_count": null,
      "_view_module": "@jupyter-widgets/base",
      "_view_module_version": "1.2.0",
      "_view_name": "LayoutView",
      "align_content": null,
      "align_items": null,
      "align_self": null,
      "border": null,
      "bottom": null,
      "display": null,
      "flex": null,
      "flex_flow": null,
      "grid_area": null,
      "grid_auto_columns": null,
      "grid_auto_flow": null,
      "grid_auto_rows": null,
      "grid_column": null,
      "grid_gap": null,
      "grid_row": null,
      "grid_template_areas": null,
      "grid_template_columns": null,
      "grid_template_rows": null,
      "height": null,
      "justify_content": null,
      "justify_items": null,
      "left": null,
      "margin": null,
      "max_height": null,
      "max_width": null,
      "min_height": null,
      "min_width": null,
      "object_fit": null,
      "object_position": null,
      "order": null,
      "overflow": null,
      "overflow_x": null,
      "overflow_y": null,
      "padding": null,
      "right": null,
      "top": null,
      "visibility": null,
      "width": null
     }
    },
    "fbedb3e39ab04284b3bbdbdb3efc6198": {
     "model_module": "@jupyter-widgets/controls",
     "model_module_version": "1.5.0",
     "model_name": "FloatProgressModel",
     "state": {
      "_dom_classes": [],
      "_model_module": "@jupyter-widgets/controls",
      "_model_module_version": "1.5.0",
      "_model_name": "FloatProgressModel",
      "_view_count": null,
      "_view_module": "@jupyter-widgets/controls",
      "_view_module_version": "1.5.0",
      "_view_name": "ProgressView",
      "bar_style": "success",
      "description": "",
      "description_tooltip": null,
      "layout": "IPY_MODEL_e4f22216096f43ec8323e100974a9dcf",
      "max": 9096718,
      "min": 0,
      "orientation": "horizontal",
      "style": "IPY_MODEL_880114f9416448ebafccb0e5bed30e04",
      "value": 9096718
     }
    },
    "fc9d6a554eac410d9d3c6c011c876c24": {
     "model_module": "@jupyter-widgets/controls",
     "model_module_version": "1.5.0",
     "model_name": "ProgressStyleModel",
     "state": {
      "_model_module": "@jupyter-widgets/controls",
      "_model_module_version": "1.5.0",
      "_model_name": "ProgressStyleModel",
      "_view_count": null,
      "_view_module": "@jupyter-widgets/base",
      "_view_module_version": "1.2.0",
      "_view_name": "StyleView",
      "bar_color": null,
      "description_width": ""
     }
    },
    "fea7a243b91c4c4abff2ee1ddd29b1c1": {
     "model_module": "@jupyter-widgets/controls",
     "model_module_version": "1.5.0",
     "model_name": "HBoxModel",
     "state": {
      "_dom_classes": [],
      "_model_module": "@jupyter-widgets/controls",
      "_model_module_version": "1.5.0",
      "_model_name": "HBoxModel",
      "_view_count": null,
      "_view_module": "@jupyter-widgets/controls",
      "_view_module_version": "1.5.0",
      "_view_name": "HBoxView",
      "box_style": "",
      "children": [
       "IPY_MODEL_f3183aabc5e94ff39b59082eb29d0577",
       "IPY_MODEL_42a787540b7f4cde8ee8f6544ceb0a1e",
       "IPY_MODEL_3b3c72bcfb8e46fba2dfa0b2ea8af8ac"
      ],
      "layout": "IPY_MODEL_432dde9063d04ee9a30ee5179e175512"
     }
    }
   }
  }
 },
 "nbformat": 4,
 "nbformat_minor": 0
}
